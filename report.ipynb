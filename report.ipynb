{
 "cells": [
  {
   "cell_type": "markdown",
   "metadata": {},
   "source": [
    "## Идентификация имён\n"
   ]
  },
  {
   "cell_type": "markdown",
   "metadata": {},
   "source": [
    "При создании словаря все полные имена читаются из файла, и разбиваются на токены, которые преобразуются во множества.\n",
    "\n",
    "При обработке сначала строка аналогичным образом разбивается на токены и проверяется, что множество токенов строки является подмножеством токенов имени из словаря. Если это так, то имя добавляется в возвращаемый список. Если в результате перебора словаря имя не нашлось, то запускается проверка на инициалы. Обрабатываются два вида скоращений: Фамилия И.О. и Фамилия И., сокращения могут располагаться как до, так и после фамилии. Если имя не было найдено после проверки на инициалы, то проверяется форма имени, и проверяется ФИО с нормализованным именем."
   ]
  },
  {
   "cell_type": "code",
   "execution_count": 1,
   "metadata": {},
   "outputs": [
    {
     "name": "stdout",
     "output_type": "stream",
     "text": [
      "['Хармс Александр Борисович']\n",
      "['Хармс Александр Борисович']\n",
      "['Хармс Александр Борисович']\n",
      "['Витязев Андрей Викторович']\n",
      "['Белая Галина']\n",
      "['Ахматова Екатерина Александровна', 'Ахматова Екатерина Вадимовна']\n",
      "['Ахматова Екатерина Александровна', 'Ахматова Екатерина Вадимовна']\n",
      "['Ахматова Екатерина Вадимовна']\n",
      "\n",
      "['Хлебников Александр']\n",
      "['Юлия Манн']\n",
      "['Московская Евгения']\n"
     ]
    }
   ],
   "source": [
    "from common.names_dict import NamesDict\n",
    "import nest_asyncio\n",
    "nest_asyncio.apply()\n",
    "\n",
    "x = NamesDict(\"resources\\\\names.xlsx\")\n",
    "\n",
    "print(x.get_names(\"А.Б. Хармс\"))\n",
    "print(x.get_names(\"Хармс А.Б.\"))\n",
    "print(x.get_names(\"Хармс АБ\"))\n",
    "print(x.get_names(\"Витязев АВ\"))\n",
    "print(x.get_names(\"Белая Г.\"))\n",
    "print(x.get_names(\"Е. Ахматова\"))\n",
    "print(x.get_names(\"Ахматова\"))\n",
    "print(x.get_names(\"Ахматова Екатерина Вадимовна\"))\n",
    "print()\n",
    "print(x.get_names(\"Александер Хлебников\"))\n",
    "print(x.get_names(\"Манн Юля\"))\n",
    "print(x.get_names(\"Московская Женя\"))\n"
   ]
  },
  {
   "cell_type": "markdown",
   "metadata": {},
   "source": [
    "## Работа со сборщиком"
   ]
  },
  {
   "cell_type": "markdown",
   "metadata": {},
   "source": [
    "Собираем информацию из таблички, в результате обработки выводится пара чисел (необработанные имена, все имена) "
   ]
  },
  {
   "cell_type": "code",
   "execution_count": 1,
   "metadata": {},
   "outputs": [
    {
     "name": "stdout",
     "output_type": "stream",
     "text": [
      "row 117: \"9. Укажите вышестоящего руководителя в формате Фамилия Имя (если вы уже оценили его выше, оставьте вопросы 9-14 незаполненными)\"\n",
      "  Ахматова Екатерина: ['Ахматова Екатерина Александровна', 'Ахматова Екатерина Вадимовна']\n",
      "row 192: \"9. Укажите вышестоящего руководителя в формате Фамилия Имя (если вы уже оценили его выше, оставьте вопросы 9-14 незаполненными)\"\n",
      "  Ахматова Екатерина: ['Ахматова Екатерина Александровна', 'Ахматова Екатерина Вадимовна']\n"
     ]
    },
    {
     "data": {
      "text/plain": [
       "(2, 373)"
      ]
     },
     "execution_count": 1,
     "metadata": {},
     "output_type": "execute_result"
    }
   ],
   "source": [
    "from data_collector import DataCollector\n",
    "import nest_asyncio\n",
    "nest_asyncio.apply()\n",
    "\n",
    "data_path = \"data.xlsx\"\n",
    "structure_path = \"resources\\\\survey_structure.json\"\n",
    "names_path = \"resources\\\\names.xlsx\"\n",
    "\n",
    "collector = DataCollector(data_path, structure_path, names_path)\n",
    "collector.collect()"
   ]
  },
  {
   "cell_type": "markdown",
   "metadata": {},
   "source": [
    "Создаём отчётную таблицу"
   ]
  },
  {
   "cell_type": "code",
   "execution_count": null,
   "metadata": {},
   "outputs": [
    {
     "name": "stderr",
     "output_type": "stream",
     "text": [
      "c:\\Users\\zalex\\AI-analysis-of-free-survey-responses\\data_collector.py:125: FutureWarning: The behavior of DataFrame concatenation with empty or all-NA entries is deprecated. In a future version, this will no longer exclude empty or all-NA columns when determining the result dtypes. To retain the old behavior, exclude the relevant entries before the concat operation.\n",
      "  df = pd.concat([df, pd.DataFrame(data=[cur_row], columns = columns_names)], ignore_index = True)\n"
     ]
    }
   ],
   "source": [
    "collector.create_report_df().to_excel(\"outputs\\\\report.xlsx\", index = False)"
   ]
  },
  {
   "cell_type": "markdown",
   "metadata": {},
   "source": [
    "Создаём отчёт по отдельному человеку и типу руководства"
   ]
  },
  {
   "cell_type": "code",
   "execution_count": null,
   "metadata": {},
   "outputs": [
    {
     "data": {
      "text/plain": [
       "Помощь в решении проблемных вопросов_positive_pct                                                                                                 1.0\n",
       "Помощь в решении проблемных вопросов_all                                                                                                            3\n",
       "Эмоциональный настрой от совместной работы_positive_pct                                                                                           1.0\n",
       "Эмоциональный настрой от совместной работы_all                                                                                                      3\n",
       "Экспертность непосредственного руководителя_avg                                                                                              9.333333\n",
       "Экспертность непосредственного руководителя_count                                                                                                   3\n",
       "Вклад в улучшение и оптимизацию процессов подразделения_positive_pct                                                                         0.666667\n",
       "Вклад в улучшение и оптимизацию процессов подразделения_all                                                                                         3\n",
       "Способствование развитию команды_positive_pct                                                                                                0.666667\n",
       "Способствование развитию команды_all                                                                                                                3\n",
       "Процесс предоставления обратной связи_positive_pct                                                                                           0.666667\n",
       "Процесс предоставления обратной связи_all                                                                                                           3\n",
       "8. Поделитесь обратной связью для руководителя и предложениями по улучшению работы подразделения    1. Повысить прозрачность рабочих процессов, об...\n",
       "dtype: object"
      ]
     },
     "execution_count": 8,
     "metadata": {},
     "output_type": "execute_result"
    }
   ],
   "source": [
    "collector.get_person_report(\"Илюхина Мария\", \"Непосредственный руководитель\")"
   ]
  },
  {
   "cell_type": "markdown",
   "metadata": {},
   "source": [
    "Общая оценка экспертности по компании"
   ]
  },
  {
   "cell_type": "code",
   "execution_count": 13,
   "metadata": {},
   "outputs": [
    {
     "name": "stdout",
     "output_type": "stream",
     "text": [
      "8.45374449339207\n",
      "{'Экспертность непосредственного руководителя': 8.45374449339207, 'Overall': 8.45374449339207}\n",
      "{'Экспертность непосредственного руководителя': 8.45374449339207, 'Экспертность вышестоящего руководителя': 8.384615384615385, 'Overall': 8.433962264150944}\n",
      "{'Экспертность непосредственного руководителя': 8.45374449339207, 'Экспертность вышестоящего руководителя': 8.384615384615385, 'Экспертность функционального руководителя': 7.5, 'Overall': 8.338983050847459}\n"
     ]
    }
   ],
   "source": [
    "print(collector.get_average_rating(4))\n",
    "print(collector.get_average_rating([4]))\n",
    "print(collector.get_average_rating([4,11]))\n",
    "print(collector.get_average_rating([4,11,20]))"
   ]
  },
  {
   "cell_type": "markdown",
   "metadata": {},
   "source": [
    "Области роста для разных типов руководства"
   ]
  },
  {
   "cell_type": "code",
   "execution_count": 15,
   "metadata": {},
   "outputs": [
    {
     "data": {
      "text/html": [
       "<div>\n",
       "<style scoped>\n",
       "    .dataframe tbody tr th:only-of-type {\n",
       "        vertical-align: middle;\n",
       "    }\n",
       "\n",
       "    .dataframe tbody tr th {\n",
       "        vertical-align: top;\n",
       "    }\n",
       "\n",
       "    .dataframe thead th {\n",
       "        text-align: right;\n",
       "    }\n",
       "</style>\n",
       "<table border=\"1\" class=\"dataframe\">\n",
       "  <thead>\n",
       "    <tr style=\"text-align: right;\">\n",
       "      <th></th>\n",
       "      <th>question</th>\n",
       "      <th>rating</th>\n",
       "      <th>votes</th>\n",
       "    </tr>\n",
       "  </thead>\n",
       "  <tbody>\n",
       "    <tr>\n",
       "      <th>0</th>\n",
       "      <td>Способствование развитию команды</td>\n",
       "      <td>0.775330</td>\n",
       "      <td>227</td>\n",
       "    </tr>\n",
       "    <tr>\n",
       "      <th>1</th>\n",
       "      <td>Процесс предоставления обратной связи</td>\n",
       "      <td>0.801762</td>\n",
       "      <td>227</td>\n",
       "    </tr>\n",
       "    <tr>\n",
       "      <th>2</th>\n",
       "      <td>Вклад в улучшение и оптимизацию процессов подр...</td>\n",
       "      <td>0.850220</td>\n",
       "      <td>227</td>\n",
       "    </tr>\n",
       "    <tr>\n",
       "      <th>3</th>\n",
       "      <td>Эмоциональный настрой от совместной работы</td>\n",
       "      <td>0.863436</td>\n",
       "      <td>227</td>\n",
       "    </tr>\n",
       "    <tr>\n",
       "      <th>4</th>\n",
       "      <td>Помощь в решении проблемных вопросов</td>\n",
       "      <td>0.872247</td>\n",
       "      <td>227</td>\n",
       "    </tr>\n",
       "  </tbody>\n",
       "</table>\n",
       "</div>"
      ],
      "text/plain": [
       "                                            question    rating  votes\n",
       "0                   Способствование развитию команды  0.775330    227\n",
       "1              Процесс предоставления обратной связи  0.801762    227\n",
       "2  Вклад в улучшение и оптимизацию процессов подр...  0.850220    227\n",
       "3         Эмоциональный настрой от совместной работы  0.863436    227\n",
       "4               Помощь в решении проблемных вопросов  0.872247    227"
      ]
     },
     "execution_count": 15,
     "metadata": {},
     "output_type": "execute_result"
    }
   ],
   "source": [
    "res = collector.get_areas_of_growth()\n",
    "res[\"Непосредственный руководитель\"]"
   ]
  },
  {
   "cell_type": "code",
   "execution_count": 16,
   "metadata": {},
   "outputs": [
    {
     "data": {
      "text/html": [
       "<div>\n",
       "<style scoped>\n",
       "    .dataframe tbody tr th:only-of-type {\n",
       "        vertical-align: middle;\n",
       "    }\n",
       "\n",
       "    .dataframe tbody tr th {\n",
       "        vertical-align: top;\n",
       "    }\n",
       "\n",
       "    .dataframe thead th {\n",
       "        text-align: right;\n",
       "    }\n",
       "</style>\n",
       "<table border=\"1\" class=\"dataframe\">\n",
       "  <thead>\n",
       "    <tr style=\"text-align: right;\">\n",
       "      <th></th>\n",
       "      <th>question</th>\n",
       "      <th>rating</th>\n",
       "      <th>votes</th>\n",
       "    </tr>\n",
       "  </thead>\n",
       "  <tbody>\n",
       "    <tr>\n",
       "      <th>0</th>\n",
       "      <td>Предоставление информации по ключевым изменени...</td>\n",
       "      <td>0.657143</td>\n",
       "      <td>105</td>\n",
       "    </tr>\n",
       "    <tr>\n",
       "      <th>1</th>\n",
       "      <td>Эмоциональный вклад</td>\n",
       "      <td>0.714286</td>\n",
       "      <td>105</td>\n",
       "    </tr>\n",
       "    <tr>\n",
       "      <th>2</th>\n",
       "      <td>Вклад в улучшение и оптимизацию процессов подр...</td>\n",
       "      <td>0.761905</td>\n",
       "      <td>105</td>\n",
       "    </tr>\n",
       "  </tbody>\n",
       "</table>\n",
       "</div>"
      ],
      "text/plain": [
       "                                            question    rating  votes\n",
       "0  Предоставление информации по ключевым изменени...  0.657143    105\n",
       "1                               Эмоциональный вклад   0.714286    105\n",
       "2  Вклад в улучшение и оптимизацию процессов подр...  0.761905    105"
      ]
     },
     "execution_count": 16,
     "metadata": {},
     "output_type": "execute_result"
    }
   ],
   "source": [
    "res[\"Вышестоящий руководитель\"]"
   ]
  },
  {
   "cell_type": "code",
   "execution_count": 17,
   "metadata": {},
   "outputs": [
    {
     "data": {
      "text/html": [
       "<div>\n",
       "<style scoped>\n",
       "    .dataframe tbody tr th:only-of-type {\n",
       "        vertical-align: middle;\n",
       "    }\n",
       "\n",
       "    .dataframe tbody tr th {\n",
       "        vertical-align: top;\n",
       "    }\n",
       "\n",
       "    .dataframe thead th {\n",
       "        text-align: right;\n",
       "    }\n",
       "</style>\n",
       "<table border=\"1\" class=\"dataframe\">\n",
       "  <thead>\n",
       "    <tr style=\"text-align: right;\">\n",
       "      <th></th>\n",
       "      <th>question</th>\n",
       "      <th>rating</th>\n",
       "      <th>votes</th>\n",
       "    </tr>\n",
       "  </thead>\n",
       "  <tbody>\n",
       "    <tr>\n",
       "      <th>0</th>\n",
       "      <td>Предоставление информации по ключевым изминени...</td>\n",
       "      <td>0.717949</td>\n",
       "      <td>39</td>\n",
       "    </tr>\n",
       "    <tr>\n",
       "      <th>1</th>\n",
       "      <td>Объединение кроссфункциональной команды</td>\n",
       "      <td>0.794872</td>\n",
       "      <td>39</td>\n",
       "    </tr>\n",
       "    <tr>\n",
       "      <th>2</th>\n",
       "      <td>Эмоциональный настрой в команде</td>\n",
       "      <td>0.846154</td>\n",
       "      <td>39</td>\n",
       "    </tr>\n",
       "  </tbody>\n",
       "</table>\n",
       "</div>"
      ],
      "text/plain": [
       "                                            question    rating  votes\n",
       "0  Предоставление информации по ключевым изминени...  0.717949     39\n",
       "1            Объединение кроссфункциональной команды  0.794872     39\n",
       "2                    Эмоциональный настрой в команде  0.846154     39"
      ]
     },
     "execution_count": 17,
     "metadata": {},
     "output_type": "execute_result"
    }
   ],
   "source": [
    "res[\"Функциональный руководитель\"]"
   ]
  },
  {
   "cell_type": "code",
   "execution_count": null,
   "metadata": {},
   "outputs": [],
   "source": []
  },
  {
   "cell_type": "code",
   "execution_count": null,
   "metadata": {},
   "outputs": [
    {
     "data": {
      "text/html": [
       "<div>\n",
       "<style scoped>\n",
       "    .dataframe tbody tr th:only-of-type {\n",
       "        vertical-align: middle;\n",
       "    }\n",
       "\n",
       "    .dataframe tbody tr th {\n",
       "        vertical-align: top;\n",
       "    }\n",
       "\n",
       "    .dataframe thead th {\n",
       "        text-align: right;\n",
       "    }\n",
       "</style>\n",
       "<table border=\"1\" class=\"dataframe\">\n",
       "  <thead>\n",
       "    <tr style=\"text-align: right;\">\n",
       "      <th></th>\n",
       "      <th>name</th>\n",
       "      <th>rating</th>\n",
       "    </tr>\n",
       "  </thead>\n",
       "  <tbody>\n",
       "    <tr>\n",
       "      <th>0</th>\n",
       "      <td>Шершнев Павел</td>\n",
       "      <td>10.000000</td>\n",
       "    </tr>\n",
       "    <tr>\n",
       "      <th>1</th>\n",
       "      <td>Грязнева Екатерина</td>\n",
       "      <td>10.000000</td>\n",
       "    </tr>\n",
       "    <tr>\n",
       "      <th>2</th>\n",
       "      <td>Блажник Алексей Евгеньевич</td>\n",
       "      <td>10.000000</td>\n",
       "    </tr>\n",
       "    <tr>\n",
       "      <th>3</th>\n",
       "      <td>Критник Евгений</td>\n",
       "      <td>10.000000</td>\n",
       "    </tr>\n",
       "    <tr>\n",
       "      <th>4</th>\n",
       "      <td>Московская Евгения</td>\n",
       "      <td>10.000000</td>\n",
       "    </tr>\n",
       "    <tr>\n",
       "      <th>...</th>\n",
       "      <td>...</td>\n",
       "      <td>...</td>\n",
       "    </tr>\n",
       "    <tr>\n",
       "      <th>56</th>\n",
       "      <td>Инокеньтев Иван</td>\n",
       "      <td>4.571429</td>\n",
       "    </tr>\n",
       "    <tr>\n",
       "      <th>57</th>\n",
       "      <td>Тэффи Анастасия</td>\n",
       "      <td>4.000000</td>\n",
       "    </tr>\n",
       "    <tr>\n",
       "      <th>58</th>\n",
       "      <td>Комаров Евгений</td>\n",
       "      <td>3.000000</td>\n",
       "    </tr>\n",
       "    <tr>\n",
       "      <th>59</th>\n",
       "      <td>Гумилева Нина Александровна</td>\n",
       "      <td>2.000000</td>\n",
       "    </tr>\n",
       "    <tr>\n",
       "      <th>60</th>\n",
       "      <td>Островский Андрей Федорович</td>\n",
       "      <td>2.000000</td>\n",
       "    </tr>\n",
       "  </tbody>\n",
       "</table>\n",
       "<p>61 rows × 2 columns</p>\n",
       "</div>"
      ],
      "text/plain": [
       "                           name     rating\n",
       "0                 Шершнев Павел  10.000000\n",
       "1            Грязнева Екатерина  10.000000\n",
       "2    Блажник Алексей Евгеньевич  10.000000\n",
       "3               Критник Евгений  10.000000\n",
       "4            Московская Евгения  10.000000\n",
       "..                          ...        ...\n",
       "56              Инокеньтев Иван   4.571429\n",
       "57              Тэффи Анастасия   4.000000\n",
       "58              Комаров Евгений   3.000000\n",
       "59  Гумилева Нина Александровна   2.000000\n",
       "60  Островский Андрей Федорович   2.000000\n",
       "\n",
       "[61 rows x 2 columns]"
      ]
     },
     "execution_count": 2,
     "metadata": {},
     "output_type": "execute_result"
    }
   ],
   "source": [
    "collector.get_top_one_level(threshold = 1, top = 100)"
   ]
  },
  {
   "cell_type": "code",
   "execution_count": 18,
   "metadata": {},
   "outputs": [
    {
     "data": {
      "text/html": [
       "<div>\n",
       "<style scoped>\n",
       "    .dataframe tbody tr th:only-of-type {\n",
       "        vertical-align: middle;\n",
       "    }\n",
       "\n",
       "    .dataframe tbody tr th {\n",
       "        vertical-align: top;\n",
       "    }\n",
       "\n",
       "    .dataframe thead th {\n",
       "        text-align: right;\n",
       "    }\n",
       "</style>\n",
       "<table border=\"1\" class=\"dataframe\">\n",
       "  <thead>\n",
       "    <tr style=\"text-align: right;\">\n",
       "      <th></th>\n",
       "      <th>name</th>\n",
       "      <th>rating direct</th>\n",
       "    </tr>\n",
       "  </thead>\n",
       "  <tbody>\n",
       "    <tr>\n",
       "      <th>0</th>\n",
       "      <td>Гарсиа Юрий</td>\n",
       "      <td>10.000000</td>\n",
       "    </tr>\n",
       "    <tr>\n",
       "      <th>1</th>\n",
       "      <td>Маршак Сергей Владимирович</td>\n",
       "      <td>9.800000</td>\n",
       "    </tr>\n",
       "    <tr>\n",
       "      <th>2</th>\n",
       "      <td>Губин Иван</td>\n",
       "      <td>9.750000</td>\n",
       "    </tr>\n",
       "    <tr>\n",
       "      <th>3</th>\n",
       "      <td>Гумилева Екатерина Николаевна</td>\n",
       "      <td>9.333333</td>\n",
       "    </tr>\n",
       "    <tr>\n",
       "      <th>4</th>\n",
       "      <td>Брагин Владимирович Дмитрий</td>\n",
       "      <td>9.000000</td>\n",
       "    </tr>\n",
       "    <tr>\n",
       "      <th>5</th>\n",
       "      <td>Хармс Александр Борисович</td>\n",
       "      <td>9.000000</td>\n",
       "    </tr>\n",
       "    <tr>\n",
       "      <th>6</th>\n",
       "      <td>Хлебников Александр</td>\n",
       "      <td>9.000000</td>\n",
       "    </tr>\n",
       "    <tr>\n",
       "      <th>7</th>\n",
       "      <td>Суворов Денис</td>\n",
       "      <td>8.666667</td>\n",
       "    </tr>\n",
       "    <tr>\n",
       "      <th>8</th>\n",
       "      <td>Маяковский Виталий Владимирович</td>\n",
       "      <td>8.333333</td>\n",
       "    </tr>\n",
       "    <tr>\n",
       "      <th>9</th>\n",
       "      <td>Ветров Илья Сергеевич</td>\n",
       "      <td>8.200000</td>\n",
       "    </tr>\n",
       "  </tbody>\n",
       "</table>\n",
       "</div>"
      ],
      "text/plain": [
       "                              name  rating direct\n",
       "0                      Гарсиа Юрий      10.000000\n",
       "1       Маршак Сергей Владимирович       9.800000\n",
       "2                       Губин Иван       9.750000\n",
       "3    Гумилева Екатерина Николаевна       9.333333\n",
       "4      Брагин Владимирович Дмитрий       9.000000\n",
       "5        Хармс Александр Борисович       9.000000\n",
       "6              Хлебников Александр       9.000000\n",
       "7                    Суворов Денис       8.666667\n",
       "8  Маяковский Виталий Владимирович       8.333333\n",
       "9            Ветров Илья Сергеевич       8.200000"
      ]
     },
     "execution_count": 18,
     "metadata": {},
     "output_type": "execute_result"
    }
   ],
   "source": [
    "res = collector.get_top_several_levels(threshold = 2, top = 10)\n",
    "res[\"direct\"]"
   ]
  },
  {
   "cell_type": "code",
   "execution_count": 19,
   "metadata": {},
   "outputs": [
    {
     "data": {
      "text/html": [
       "<div>\n",
       "<style scoped>\n",
       "    .dataframe tbody tr th:only-of-type {\n",
       "        vertical-align: middle;\n",
       "    }\n",
       "\n",
       "    .dataframe tbody tr th {\n",
       "        vertical-align: top;\n",
       "    }\n",
       "\n",
       "    .dataframe thead th {\n",
       "        text-align: right;\n",
       "    }\n",
       "</style>\n",
       "<table border=\"1\" class=\"dataframe\">\n",
       "  <thead>\n",
       "    <tr style=\"text-align: right;\">\n",
       "      <th></th>\n",
       "      <th>name</th>\n",
       "      <th>rating non direct</th>\n",
       "    </tr>\n",
       "  </thead>\n",
       "  <tbody>\n",
       "    <tr>\n",
       "      <th>0</th>\n",
       "      <td>Ведищева Амелия</td>\n",
       "      <td>10.000000</td>\n",
       "    </tr>\n",
       "    <tr>\n",
       "      <th>1</th>\n",
       "      <td>Брагин Владимирович Дмитрий</td>\n",
       "      <td>10.000000</td>\n",
       "    </tr>\n",
       "    <tr>\n",
       "      <th>2</th>\n",
       "      <td>Хлебников Александр</td>\n",
       "      <td>9.875000</td>\n",
       "    </tr>\n",
       "    <tr>\n",
       "      <th>3</th>\n",
       "      <td>Губин Иван</td>\n",
       "      <td>9.666667</td>\n",
       "    </tr>\n",
       "    <tr>\n",
       "      <th>4</th>\n",
       "      <td>Гарсиа Юрий</td>\n",
       "      <td>9.666667</td>\n",
       "    </tr>\n",
       "    <tr>\n",
       "      <th>5</th>\n",
       "      <td>Гумилева Екатерина Николаевна</td>\n",
       "      <td>9.400000</td>\n",
       "    </tr>\n",
       "    <tr>\n",
       "      <th>6</th>\n",
       "      <td>Хармс Александр Борисович</td>\n",
       "      <td>9.400000</td>\n",
       "    </tr>\n",
       "    <tr>\n",
       "      <th>7</th>\n",
       "      <td>Ветров Илья Сергеевич</td>\n",
       "      <td>9.166667</td>\n",
       "    </tr>\n",
       "    <tr>\n",
       "      <th>8</th>\n",
       "      <td>Юлия Манн</td>\n",
       "      <td>8.090909</td>\n",
       "    </tr>\n",
       "    <tr>\n",
       "      <th>9</th>\n",
       "      <td>Суворов Денис</td>\n",
       "      <td>8.000000</td>\n",
       "    </tr>\n",
       "  </tbody>\n",
       "</table>\n",
       "</div>"
      ],
      "text/plain": [
       "                            name  rating non direct\n",
       "0                Ведищева Амелия          10.000000\n",
       "1    Брагин Владимирович Дмитрий          10.000000\n",
       "2            Хлебников Александр           9.875000\n",
       "3                     Губин Иван           9.666667\n",
       "4                    Гарсиа Юрий           9.666667\n",
       "5  Гумилева Екатерина Николаевна           9.400000\n",
       "6      Хармс Александр Борисович           9.400000\n",
       "7          Ветров Илья Сергеевич           9.166667\n",
       "8                      Юлия Манн           8.090909\n",
       "9                  Суворов Денис           8.000000"
      ]
     },
     "execution_count": 19,
     "metadata": {},
     "output_type": "execute_result"
    }
   ],
   "source": [
    "res[\"non direct\"]"
   ]
  },
  {
   "cell_type": "code",
   "execution_count": 1,
   "metadata": {},
   "outputs": [
    {
     "name": "stdout",
     "output_type": "stream",
     "text": [
      "row 117: \"9. Укажите вышестоящего руководителя в формате Фамилия Имя (если вы уже оценили его выше, оставьте вопросы 9-14 незаполненными)\"\n",
      "  Ахматова Екатерина: ['Ахматова Екатерина Александровна', 'Ахматова Екатерина Вадимовна']\n",
      "row 192: \"9. Укажите вышестоящего руководителя в формате Фамилия Имя (если вы уже оценили его выше, оставьте вопросы 9-14 незаполненными)\"\n",
      "  Ахматова Екатерина: ['Ахматова Екатерина Александровна', 'Ахматова Екатерина Вадимовна']\n",
      "Name \"Джон Доу\" not found\n"
     ]
    }
   ],
   "source": [
    "from slides_collector import SlidesCollector\n",
    "import nest_asyncio\n",
    "nest_asyncio.apply()\n",
    "\n",
    "data_path = \"data.xlsx\"\n",
    "structure_path = \"resources\\\\survey_structure.json\"\n",
    "names_path = \"resources\\\\names.xlsx\"\n",
    "pptx_template_path = \"resources\\\\template.pptx\"\n",
    "\n",
    "collector = SlidesCollector(data_path, structure_path, names_path)\n",
    "collector.collect()\n",
    "collector.create_slides(\"Илюхина\", pptx_template_path)\n",
    "collector.create_slides(\"Пушкин\", pptx_template_path)\n",
    "collector.create_slides(\"Витязев\", pptx_template_path)\n",
    "collector.create_slides(\"диккенс\", pptx_template_path)\n",
    "collector.create_slides(\"Губин Павел\", pptx_template_path)\n",
    "collector.create_slides(\"Джон Доу\", pptx_template_path)\n"
   ]
  },
  {
   "cell_type": "code",
   "execution_count": 11,
   "metadata": {},
   "outputs": [
    {
     "data": {
      "application/vnd.plotly.v1+json": {
       "config": {
        "plotlyServerURL": "https://plot.ly"
       },
       "data": [
        {
         "marker": {
          "color": "rgba(168,209,141,0.8)",
          "line": {
           "width": 0
          }
         },
         "orientation": "h",
         "type": "bar",
         "width": 0.5,
         "x": [
          1
         ],
         "y": [
          "Помощь в решении проблемных вопросов"
         ]
        },
        {
         "marker": {
          "color": "rgba(168,209,141,0.8)",
          "line": {
           "width": 0
          }
         },
         "orientation": "h",
         "type": "bar",
         "width": 0.5,
         "x": [
          0.83
         ],
         "y": [
          "Эмоциональный настрой от совместной работы"
         ]
        },
        {
         "marker": {
          "color": "rgba(168,209,141,0.8)",
          "line": {
           "width": 0
          }
         },
         "orientation": "h",
         "type": "bar",
         "width": 0.5,
         "x": [
          1
         ],
         "y": [
          "Вклад в улучшение и оптимизацию процессов подразделения"
         ]
        },
        {
         "marker": {
          "color": "rgba(168,209,141,0.8)",
          "line": {
           "width": 0
          }
         },
         "orientation": "h",
         "type": "bar",
         "width": 0.5,
         "x": [
          0.83
         ],
         "y": [
          "Способствование развитию команды"
         ]
        },
        {
         "marker": {
          "color": "rgba(168,209,141,0.8)",
          "line": {
           "width": 0
          }
         },
         "orientation": "h",
         "type": "bar",
         "width": 0.5,
         "x": [
          1
         ],
         "y": [
          "Процесс предоставления обратной связи"
         ]
        },
        {
         "marker": {
          "color": "rgba(251,114,134,0.8)",
          "line": {
           "width": 0
          }
         },
         "orientation": "h",
         "type": "bar",
         "width": 0.5,
         "x": [
          0
         ],
         "y": [
          "Помощь в решении проблемных вопросов"
         ]
        },
        {
         "marker": {
          "color": "rgba(251,114,134,0.8)",
          "line": {
           "width": 0
          }
         },
         "orientation": "h",
         "type": "bar",
         "width": 0.5,
         "x": [
          0.17
         ],
         "y": [
          "Эмоциональный настрой от совместной работы"
         ]
        },
        {
         "marker": {
          "color": "rgba(251,114,134,0.8)",
          "line": {
           "width": 0
          }
         },
         "orientation": "h",
         "type": "bar",
         "width": 0.5,
         "x": [
          0
         ],
         "y": [
          "Вклад в улучшение и оптимизацию процессов подразделения"
         ]
        },
        {
         "marker": {
          "color": "rgba(251,114,134,0.8)",
          "line": {
           "width": 0
          }
         },
         "orientation": "h",
         "type": "bar",
         "width": 0.5,
         "x": [
          0.17
         ],
         "y": [
          "Способствование развитию команды"
         ]
        },
        {
         "marker": {
          "color": "rgba(251,114,134,0.8)",
          "line": {
           "width": 0
          }
         },
         "orientation": "h",
         "type": "bar",
         "width": 0.5,
         "x": [
          0
         ],
         "y": [
          "Процесс предоставления обратной связи"
         ]
        }
       ],
       "layout": {
        "annotations": [
         {
          "align": "right",
          "font": {
           "color": "rgb(255, 255, 255)",
           "family": "Arial",
           "size": 14
          },
          "showarrow": false,
          "text": "Помощь в решении проблемных вопросов",
          "x": 0.14,
          "xanchor": "right",
          "xref": "paper",
          "y": "Помощь в решении проблемных вопросов",
          "yref": "y"
         },
         {
          "font": {
           "color": "rgb(0, 0, 0)",
           "family": "Arial",
           "size": 14
          },
          "showarrow": false,
          "text": "100%",
          "x": 0.5,
          "xref": "x",
          "y": "Помощь в решении проблемных вопросов",
          "yref": "y"
         },
         {
          "align": "right",
          "font": {
           "color": "rgb(255, 255, 255)",
           "family": "Arial",
           "size": 14
          },
          "showarrow": false,
          "text": "Эмоциональный настрой от совместной работы",
          "x": 0.14,
          "xanchor": "right",
          "xref": "paper",
          "y": "Эмоциональный настрой от совместной работы",
          "yref": "y"
         },
         {
          "font": {
           "color": "rgb(0, 0, 0)",
           "family": "Arial",
           "size": 14
          },
          "showarrow": false,
          "text": "83%",
          "x": 0.415,
          "xref": "x",
          "y": "Эмоциональный настрой от совместной работы",
          "yref": "y"
         },
         {
          "font": {
           "color": "rgb(0, 0, 0)",
           "family": "Arial",
           "size": 14
          },
          "showarrow": false,
          "text": "17%",
          "x": 0.9149999999999999,
          "xref": "x",
          "y": "Эмоциональный настрой от совместной работы",
          "yref": "y"
         },
         {
          "align": "right",
          "font": {
           "color": "rgb(255, 255, 255)",
           "family": "Arial",
           "size": 14
          },
          "showarrow": false,
          "text": "Вклад в улучшение и оптимизацию процессов подразделения",
          "x": 0.14,
          "xanchor": "right",
          "xref": "paper",
          "y": "Вклад в улучшение и оптимизацию процессов подразделения",
          "yref": "y"
         },
         {
          "font": {
           "color": "rgb(0, 0, 0)",
           "family": "Arial",
           "size": 14
          },
          "showarrow": false,
          "text": "100%",
          "x": 0.5,
          "xref": "x",
          "y": "Вклад в улучшение и оптимизацию процессов подразделения",
          "yref": "y"
         },
         {
          "align": "right",
          "font": {
           "color": "rgb(255, 255, 255)",
           "family": "Arial",
           "size": 14
          },
          "showarrow": false,
          "text": "Способствование развитию команды",
          "x": 0.14,
          "xanchor": "right",
          "xref": "paper",
          "y": "Способствование развитию команды",
          "yref": "y"
         },
         {
          "font": {
           "color": "rgb(0, 0, 0)",
           "family": "Arial",
           "size": 14
          },
          "showarrow": false,
          "text": "83%",
          "x": 0.415,
          "xref": "x",
          "y": "Способствование развитию команды",
          "yref": "y"
         },
         {
          "font": {
           "color": "rgb(0, 0, 0)",
           "family": "Arial",
           "size": 14
          },
          "showarrow": false,
          "text": "17%",
          "x": 0.9149999999999999,
          "xref": "x",
          "y": "Способствование развитию команды",
          "yref": "y"
         },
         {
          "align": "right",
          "font": {
           "color": "rgb(255, 255, 255)",
           "family": "Arial",
           "size": 14
          },
          "showarrow": false,
          "text": "Процесс предоставления обратной связи",
          "x": 0.14,
          "xanchor": "right",
          "xref": "paper",
          "y": "Процесс предоставления обратной связи",
          "yref": "y"
         },
         {
          "font": {
           "color": "rgb(0, 0, 0)",
           "family": "Arial",
           "size": 14
          },
          "showarrow": false,
          "text": "100%",
          "x": 0.5,
          "xref": "x",
          "y": "Процесс предоставления обратной связи",
          "yref": "y"
         }
        ],
        "barmode": "stack",
        "margin": {
         "b": 80,
         "l": 300,
         "r": 10,
         "t": 140
        },
        "paper_bgcolor": "rgb(0, 0, 0)",
        "plot_bgcolor": "rgb(0, 0, 0)",
        "showlegend": false,
        "template": {
         "data": {
          "bar": [
           {
            "error_x": {
             "color": "#2a3f5f"
            },
            "error_y": {
             "color": "#2a3f5f"
            },
            "marker": {
             "line": {
              "color": "#E5ECF6",
              "width": 0.5
             },
             "pattern": {
              "fillmode": "overlay",
              "size": 10,
              "solidity": 0.2
             }
            },
            "type": "bar"
           }
          ],
          "barpolar": [
           {
            "marker": {
             "line": {
              "color": "#E5ECF6",
              "width": 0.5
             },
             "pattern": {
              "fillmode": "overlay",
              "size": 10,
              "solidity": 0.2
             }
            },
            "type": "barpolar"
           }
          ],
          "carpet": [
           {
            "aaxis": {
             "endlinecolor": "#2a3f5f",
             "gridcolor": "white",
             "linecolor": "white",
             "minorgridcolor": "white",
             "startlinecolor": "#2a3f5f"
            },
            "baxis": {
             "endlinecolor": "#2a3f5f",
             "gridcolor": "white",
             "linecolor": "white",
             "minorgridcolor": "white",
             "startlinecolor": "#2a3f5f"
            },
            "type": "carpet"
           }
          ],
          "choropleth": [
           {
            "colorbar": {
             "outlinewidth": 0,
             "ticks": ""
            },
            "type": "choropleth"
           }
          ],
          "contour": [
           {
            "colorbar": {
             "outlinewidth": 0,
             "ticks": ""
            },
            "colorscale": [
             [
              0,
              "#0d0887"
             ],
             [
              0.1111111111111111,
              "#46039f"
             ],
             [
              0.2222222222222222,
              "#7201a8"
             ],
             [
              0.3333333333333333,
              "#9c179e"
             ],
             [
              0.4444444444444444,
              "#bd3786"
             ],
             [
              0.5555555555555556,
              "#d8576b"
             ],
             [
              0.6666666666666666,
              "#ed7953"
             ],
             [
              0.7777777777777778,
              "#fb9f3a"
             ],
             [
              0.8888888888888888,
              "#fdca26"
             ],
             [
              1,
              "#f0f921"
             ]
            ],
            "type": "contour"
           }
          ],
          "contourcarpet": [
           {
            "colorbar": {
             "outlinewidth": 0,
             "ticks": ""
            },
            "type": "contourcarpet"
           }
          ],
          "heatmap": [
           {
            "colorbar": {
             "outlinewidth": 0,
             "ticks": ""
            },
            "colorscale": [
             [
              0,
              "#0d0887"
             ],
             [
              0.1111111111111111,
              "#46039f"
             ],
             [
              0.2222222222222222,
              "#7201a8"
             ],
             [
              0.3333333333333333,
              "#9c179e"
             ],
             [
              0.4444444444444444,
              "#bd3786"
             ],
             [
              0.5555555555555556,
              "#d8576b"
             ],
             [
              0.6666666666666666,
              "#ed7953"
             ],
             [
              0.7777777777777778,
              "#fb9f3a"
             ],
             [
              0.8888888888888888,
              "#fdca26"
             ],
             [
              1,
              "#f0f921"
             ]
            ],
            "type": "heatmap"
           }
          ],
          "histogram": [
           {
            "marker": {
             "pattern": {
              "fillmode": "overlay",
              "size": 10,
              "solidity": 0.2
             }
            },
            "type": "histogram"
           }
          ],
          "histogram2d": [
           {
            "colorbar": {
             "outlinewidth": 0,
             "ticks": ""
            },
            "colorscale": [
             [
              0,
              "#0d0887"
             ],
             [
              0.1111111111111111,
              "#46039f"
             ],
             [
              0.2222222222222222,
              "#7201a8"
             ],
             [
              0.3333333333333333,
              "#9c179e"
             ],
             [
              0.4444444444444444,
              "#bd3786"
             ],
             [
              0.5555555555555556,
              "#d8576b"
             ],
             [
              0.6666666666666666,
              "#ed7953"
             ],
             [
              0.7777777777777778,
              "#fb9f3a"
             ],
             [
              0.8888888888888888,
              "#fdca26"
             ],
             [
              1,
              "#f0f921"
             ]
            ],
            "type": "histogram2d"
           }
          ],
          "histogram2dcontour": [
           {
            "colorbar": {
             "outlinewidth": 0,
             "ticks": ""
            },
            "colorscale": [
             [
              0,
              "#0d0887"
             ],
             [
              0.1111111111111111,
              "#46039f"
             ],
             [
              0.2222222222222222,
              "#7201a8"
             ],
             [
              0.3333333333333333,
              "#9c179e"
             ],
             [
              0.4444444444444444,
              "#bd3786"
             ],
             [
              0.5555555555555556,
              "#d8576b"
             ],
             [
              0.6666666666666666,
              "#ed7953"
             ],
             [
              0.7777777777777778,
              "#fb9f3a"
             ],
             [
              0.8888888888888888,
              "#fdca26"
             ],
             [
              1,
              "#f0f921"
             ]
            ],
            "type": "histogram2dcontour"
           }
          ],
          "mesh3d": [
           {
            "colorbar": {
             "outlinewidth": 0,
             "ticks": ""
            },
            "type": "mesh3d"
           }
          ],
          "parcoords": [
           {
            "line": {
             "colorbar": {
              "outlinewidth": 0,
              "ticks": ""
             }
            },
            "type": "parcoords"
           }
          ],
          "pie": [
           {
            "automargin": true,
            "type": "pie"
           }
          ],
          "scatter": [
           {
            "fillpattern": {
             "fillmode": "overlay",
             "size": 10,
             "solidity": 0.2
            },
            "type": "scatter"
           }
          ],
          "scatter3d": [
           {
            "line": {
             "colorbar": {
              "outlinewidth": 0,
              "ticks": ""
             }
            },
            "marker": {
             "colorbar": {
              "outlinewidth": 0,
              "ticks": ""
             }
            },
            "type": "scatter3d"
           }
          ],
          "scattercarpet": [
           {
            "marker": {
             "colorbar": {
              "outlinewidth": 0,
              "ticks": ""
             }
            },
            "type": "scattercarpet"
           }
          ],
          "scattergeo": [
           {
            "marker": {
             "colorbar": {
              "outlinewidth": 0,
              "ticks": ""
             }
            },
            "type": "scattergeo"
           }
          ],
          "scattergl": [
           {
            "marker": {
             "colorbar": {
              "outlinewidth": 0,
              "ticks": ""
             }
            },
            "type": "scattergl"
           }
          ],
          "scattermap": [
           {
            "marker": {
             "colorbar": {
              "outlinewidth": 0,
              "ticks": ""
             }
            },
            "type": "scattermap"
           }
          ],
          "scattermapbox": [
           {
            "marker": {
             "colorbar": {
              "outlinewidth": 0,
              "ticks": ""
             }
            },
            "type": "scattermapbox"
           }
          ],
          "scatterpolar": [
           {
            "marker": {
             "colorbar": {
              "outlinewidth": 0,
              "ticks": ""
             }
            },
            "type": "scatterpolar"
           }
          ],
          "scatterpolargl": [
           {
            "marker": {
             "colorbar": {
              "outlinewidth": 0,
              "ticks": ""
             }
            },
            "type": "scatterpolargl"
           }
          ],
          "scatterternary": [
           {
            "marker": {
             "colorbar": {
              "outlinewidth": 0,
              "ticks": ""
             }
            },
            "type": "scatterternary"
           }
          ],
          "surface": [
           {
            "colorbar": {
             "outlinewidth": 0,
             "ticks": ""
            },
            "colorscale": [
             [
              0,
              "#0d0887"
             ],
             [
              0.1111111111111111,
              "#46039f"
             ],
             [
              0.2222222222222222,
              "#7201a8"
             ],
             [
              0.3333333333333333,
              "#9c179e"
             ],
             [
              0.4444444444444444,
              "#bd3786"
             ],
             [
              0.5555555555555556,
              "#d8576b"
             ],
             [
              0.6666666666666666,
              "#ed7953"
             ],
             [
              0.7777777777777778,
              "#fb9f3a"
             ],
             [
              0.8888888888888888,
              "#fdca26"
             ],
             [
              1,
              "#f0f921"
             ]
            ],
            "type": "surface"
           }
          ],
          "table": [
           {
            "cells": {
             "fill": {
              "color": "#EBF0F8"
             },
             "line": {
              "color": "white"
             }
            },
            "header": {
             "fill": {
              "color": "#C8D4E3"
             },
             "line": {
              "color": "white"
             }
            },
            "type": "table"
           }
          ]
         },
         "layout": {
          "annotationdefaults": {
           "arrowcolor": "#2a3f5f",
           "arrowhead": 0,
           "arrowwidth": 1
          },
          "autotypenumbers": "strict",
          "coloraxis": {
           "colorbar": {
            "outlinewidth": 0,
            "ticks": ""
           }
          },
          "colorscale": {
           "diverging": [
            [
             0,
             "#8e0152"
            ],
            [
             0.1,
             "#c51b7d"
            ],
            [
             0.2,
             "#de77ae"
            ],
            [
             0.3,
             "#f1b6da"
            ],
            [
             0.4,
             "#fde0ef"
            ],
            [
             0.5,
             "#f7f7f7"
            ],
            [
             0.6,
             "#e6f5d0"
            ],
            [
             0.7,
             "#b8e186"
            ],
            [
             0.8,
             "#7fbc41"
            ],
            [
             0.9,
             "#4d9221"
            ],
            [
             1,
             "#276419"
            ]
           ],
           "sequential": [
            [
             0,
             "#0d0887"
            ],
            [
             0.1111111111111111,
             "#46039f"
            ],
            [
             0.2222222222222222,
             "#7201a8"
            ],
            [
             0.3333333333333333,
             "#9c179e"
            ],
            [
             0.4444444444444444,
             "#bd3786"
            ],
            [
             0.5555555555555556,
             "#d8576b"
            ],
            [
             0.6666666666666666,
             "#ed7953"
            ],
            [
             0.7777777777777778,
             "#fb9f3a"
            ],
            [
             0.8888888888888888,
             "#fdca26"
            ],
            [
             1,
             "#f0f921"
            ]
           ],
           "sequentialminus": [
            [
             0,
             "#0d0887"
            ],
            [
             0.1111111111111111,
             "#46039f"
            ],
            [
             0.2222222222222222,
             "#7201a8"
            ],
            [
             0.3333333333333333,
             "#9c179e"
            ],
            [
             0.4444444444444444,
             "#bd3786"
            ],
            [
             0.5555555555555556,
             "#d8576b"
            ],
            [
             0.6666666666666666,
             "#ed7953"
            ],
            [
             0.7777777777777778,
             "#fb9f3a"
            ],
            [
             0.8888888888888888,
             "#fdca26"
            ],
            [
             1,
             "#f0f921"
            ]
           ]
          },
          "colorway": [
           "#636efa",
           "#EF553B",
           "#00cc96",
           "#ab63fa",
           "#FFA15A",
           "#19d3f3",
           "#FF6692",
           "#B6E880",
           "#FF97FF",
           "#FECB52"
          ],
          "font": {
           "color": "#2a3f5f"
          },
          "geo": {
           "bgcolor": "white",
           "lakecolor": "white",
           "landcolor": "#E5ECF6",
           "showlakes": true,
           "showland": true,
           "subunitcolor": "white"
          },
          "hoverlabel": {
           "align": "left"
          },
          "hovermode": "closest",
          "mapbox": {
           "style": "light"
          },
          "paper_bgcolor": "white",
          "plot_bgcolor": "#E5ECF6",
          "polar": {
           "angularaxis": {
            "gridcolor": "white",
            "linecolor": "white",
            "ticks": ""
           },
           "bgcolor": "#E5ECF6",
           "radialaxis": {
            "gridcolor": "white",
            "linecolor": "white",
            "ticks": ""
           }
          },
          "scene": {
           "xaxis": {
            "backgroundcolor": "#E5ECF6",
            "gridcolor": "white",
            "gridwidth": 2,
            "linecolor": "white",
            "showbackground": true,
            "ticks": "",
            "zerolinecolor": "white"
           },
           "yaxis": {
            "backgroundcolor": "#E5ECF6",
            "gridcolor": "white",
            "gridwidth": 2,
            "linecolor": "white",
            "showbackground": true,
            "ticks": "",
            "zerolinecolor": "white"
           },
           "zaxis": {
            "backgroundcolor": "#E5ECF6",
            "gridcolor": "white",
            "gridwidth": 2,
            "linecolor": "white",
            "showbackground": true,
            "ticks": "",
            "zerolinecolor": "white"
           }
          },
          "shapedefaults": {
           "line": {
            "color": "#2a3f5f"
           }
          },
          "ternary": {
           "aaxis": {
            "gridcolor": "white",
            "linecolor": "white",
            "ticks": ""
           },
           "baxis": {
            "gridcolor": "white",
            "linecolor": "white",
            "ticks": ""
           },
           "bgcolor": "#E5ECF6",
           "caxis": {
            "gridcolor": "white",
            "linecolor": "white",
            "ticks": ""
           }
          },
          "title": {
           "x": 0.05
          },
          "xaxis": {
           "automargin": true,
           "gridcolor": "white",
           "linecolor": "white",
           "ticks": "",
           "title": {
            "standoff": 15
           },
           "zerolinecolor": "white",
           "zerolinewidth": 2
          },
          "yaxis": {
           "automargin": true,
           "gridcolor": "white",
           "linecolor": "white",
           "ticks": "",
           "title": {
            "standoff": 15
           },
           "zerolinecolor": "white",
           "zerolinewidth": 2
          }
         }
        },
        "title": {
         "font": {
          "color": "rgb(255, 255, 255)",
          "size": 50
         },
         "text": "Непосредственный руководитель",
         "x": 0.5
        },
        "xaxis": {
         "color": "white",
         "domain": [
          0.15,
          1
         ],
         "showgrid": true,
         "showline": false,
         "showticklabels": true,
         "tickformat": "0.00%",
         "zeroline": true
        },
        "yaxis": {
         "showgrid": false,
         "showline": false,
         "showticklabels": false,
         "zeroline": false
        }
       }
      }
     },
     "metadata": {},
     "output_type": "display_data"
    }
   ],
   "source": [
    "collector.create_plot(\"Губин Павел\",\"Непосредственный руководитель\")"
   ]
  },
  {
   "cell_type": "code",
   "execution_count": 12,
   "metadata": {},
   "outputs": [
    {
     "data": {
      "application/vnd.plotly.v1+json": {
       "config": {
        "plotlyServerURL": "https://plot.ly"
       },
       "data": [
        {
         "marker": {
          "color": "rgba(168,209,141,0.8)",
          "line": {
           "width": 0
          }
         },
         "orientation": "h",
         "type": "bar",
         "width": 0.5,
         "x": [
          0.8
         ],
         "y": [
          "Вклад в улучшение и оптимизацию процессов подразделения"
         ]
        },
        {
         "marker": {
          "color": "rgba(168,209,141,0.8)",
          "line": {
           "width": 0
          }
         },
         "orientation": "h",
         "type": "bar",
         "width": 0.5,
         "x": [
          0.5
         ],
         "y": [
          "Эмоциональный вклад "
         ]
        },
        {
         "marker": {
          "color": "rgba(168,209,141,0.8)",
          "line": {
           "width": 0
          }
         },
         "orientation": "h",
         "type": "bar",
         "width": 0.5,
         "x": [
          0.5
         ],
         "y": [
          "Предоставление информации по ключевым изменениям в компании "
         ]
        },
        {
         "marker": {
          "color": "rgba(251,114,134,0.8)",
          "line": {
           "width": 0
          }
         },
         "orientation": "h",
         "type": "bar",
         "width": 0.5,
         "x": [
          0.2
         ],
         "y": [
          "Вклад в улучшение и оптимизацию процессов подразделения"
         ]
        },
        {
         "marker": {
          "color": "rgba(251,114,134,0.8)",
          "line": {
           "width": 0
          }
         },
         "orientation": "h",
         "type": "bar",
         "width": 0.5,
         "x": [
          0.5
         ],
         "y": [
          "Эмоциональный вклад "
         ]
        },
        {
         "marker": {
          "color": "rgba(251,114,134,0.8)",
          "line": {
           "width": 0
          }
         },
         "orientation": "h",
         "type": "bar",
         "width": 0.5,
         "x": [
          0.5
         ],
         "y": [
          "Предоставление информации по ключевым изменениям в компании "
         ]
        }
       ],
       "layout": {
        "annotations": [
         {
          "align": "right",
          "font": {
           "color": "rgb(255, 255, 255)",
           "family": "Arial",
           "size": 14
          },
          "showarrow": false,
          "text": "Вклад в улучшение и оптимизацию процессов подразделения",
          "x": 0.14,
          "xanchor": "right",
          "xref": "paper",
          "y": "Вклад в улучшение и оптимизацию процессов подразделения",
          "yref": "y"
         },
         {
          "font": {
           "color": "rgb(0, 0, 0)",
           "family": "Arial",
           "size": 14
          },
          "showarrow": false,
          "text": "80%",
          "x": 0.4,
          "xref": "x",
          "y": "Вклад в улучшение и оптимизацию процессов подразделения",
          "yref": "y"
         },
         {
          "font": {
           "color": "rgb(0, 0, 0)",
           "family": "Arial",
           "size": 14
          },
          "showarrow": false,
          "text": "20%",
          "x": 0.9,
          "xref": "x",
          "y": "Вклад в улучшение и оптимизацию процессов подразделения",
          "yref": "y"
         },
         {
          "align": "right",
          "font": {
           "color": "rgb(255, 255, 255)",
           "family": "Arial",
           "size": 14
          },
          "showarrow": false,
          "text": "Эмоциональный вклад ",
          "x": 0.14,
          "xanchor": "right",
          "xref": "paper",
          "y": "Эмоциональный вклад ",
          "yref": "y"
         },
         {
          "font": {
           "color": "rgb(0, 0, 0)",
           "family": "Arial",
           "size": 14
          },
          "showarrow": false,
          "text": "50%",
          "x": 0.25,
          "xref": "x",
          "y": "Эмоциональный вклад ",
          "yref": "y"
         },
         {
          "font": {
           "color": "rgb(0, 0, 0)",
           "family": "Arial",
           "size": 14
          },
          "showarrow": false,
          "text": "50%",
          "x": 0.75,
          "xref": "x",
          "y": "Эмоциональный вклад ",
          "yref": "y"
         },
         {
          "align": "right",
          "font": {
           "color": "rgb(255, 255, 255)",
           "family": "Arial",
           "size": 14
          },
          "showarrow": false,
          "text": "Предоставление информации по ключевым изменениям в компании ",
          "x": 0.14,
          "xanchor": "right",
          "xref": "paper",
          "y": "Предоставление информации по ключевым изменениям в компании ",
          "yref": "y"
         },
         {
          "font": {
           "color": "rgb(0, 0, 0)",
           "family": "Arial",
           "size": 14
          },
          "showarrow": false,
          "text": "50%",
          "x": 0.25,
          "xref": "x",
          "y": "Предоставление информации по ключевым изменениям в компании ",
          "yref": "y"
         },
         {
          "font": {
           "color": "rgb(0, 0, 0)",
           "family": "Arial",
           "size": 14
          },
          "showarrow": false,
          "text": "50%",
          "x": 0.75,
          "xref": "x",
          "y": "Предоставление информации по ключевым изменениям в компании ",
          "yref": "y"
         }
        ],
        "barmode": "stack",
        "margin": {
         "b": 80,
         "l": 300,
         "r": 10,
         "t": 140
        },
        "paper_bgcolor": "rgb(0, 0, 0)",
        "plot_bgcolor": "rgb(0, 0, 0)",
        "showlegend": false,
        "template": {
         "data": {
          "bar": [
           {
            "error_x": {
             "color": "#2a3f5f"
            },
            "error_y": {
             "color": "#2a3f5f"
            },
            "marker": {
             "line": {
              "color": "#E5ECF6",
              "width": 0.5
             },
             "pattern": {
              "fillmode": "overlay",
              "size": 10,
              "solidity": 0.2
             }
            },
            "type": "bar"
           }
          ],
          "barpolar": [
           {
            "marker": {
             "line": {
              "color": "#E5ECF6",
              "width": 0.5
             },
             "pattern": {
              "fillmode": "overlay",
              "size": 10,
              "solidity": 0.2
             }
            },
            "type": "barpolar"
           }
          ],
          "carpet": [
           {
            "aaxis": {
             "endlinecolor": "#2a3f5f",
             "gridcolor": "white",
             "linecolor": "white",
             "minorgridcolor": "white",
             "startlinecolor": "#2a3f5f"
            },
            "baxis": {
             "endlinecolor": "#2a3f5f",
             "gridcolor": "white",
             "linecolor": "white",
             "minorgridcolor": "white",
             "startlinecolor": "#2a3f5f"
            },
            "type": "carpet"
           }
          ],
          "choropleth": [
           {
            "colorbar": {
             "outlinewidth": 0,
             "ticks": ""
            },
            "type": "choropleth"
           }
          ],
          "contour": [
           {
            "colorbar": {
             "outlinewidth": 0,
             "ticks": ""
            },
            "colorscale": [
             [
              0,
              "#0d0887"
             ],
             [
              0.1111111111111111,
              "#46039f"
             ],
             [
              0.2222222222222222,
              "#7201a8"
             ],
             [
              0.3333333333333333,
              "#9c179e"
             ],
             [
              0.4444444444444444,
              "#bd3786"
             ],
             [
              0.5555555555555556,
              "#d8576b"
             ],
             [
              0.6666666666666666,
              "#ed7953"
             ],
             [
              0.7777777777777778,
              "#fb9f3a"
             ],
             [
              0.8888888888888888,
              "#fdca26"
             ],
             [
              1,
              "#f0f921"
             ]
            ],
            "type": "contour"
           }
          ],
          "contourcarpet": [
           {
            "colorbar": {
             "outlinewidth": 0,
             "ticks": ""
            },
            "type": "contourcarpet"
           }
          ],
          "heatmap": [
           {
            "colorbar": {
             "outlinewidth": 0,
             "ticks": ""
            },
            "colorscale": [
             [
              0,
              "#0d0887"
             ],
             [
              0.1111111111111111,
              "#46039f"
             ],
             [
              0.2222222222222222,
              "#7201a8"
             ],
             [
              0.3333333333333333,
              "#9c179e"
             ],
             [
              0.4444444444444444,
              "#bd3786"
             ],
             [
              0.5555555555555556,
              "#d8576b"
             ],
             [
              0.6666666666666666,
              "#ed7953"
             ],
             [
              0.7777777777777778,
              "#fb9f3a"
             ],
             [
              0.8888888888888888,
              "#fdca26"
             ],
             [
              1,
              "#f0f921"
             ]
            ],
            "type": "heatmap"
           }
          ],
          "histogram": [
           {
            "marker": {
             "pattern": {
              "fillmode": "overlay",
              "size": 10,
              "solidity": 0.2
             }
            },
            "type": "histogram"
           }
          ],
          "histogram2d": [
           {
            "colorbar": {
             "outlinewidth": 0,
             "ticks": ""
            },
            "colorscale": [
             [
              0,
              "#0d0887"
             ],
             [
              0.1111111111111111,
              "#46039f"
             ],
             [
              0.2222222222222222,
              "#7201a8"
             ],
             [
              0.3333333333333333,
              "#9c179e"
             ],
             [
              0.4444444444444444,
              "#bd3786"
             ],
             [
              0.5555555555555556,
              "#d8576b"
             ],
             [
              0.6666666666666666,
              "#ed7953"
             ],
             [
              0.7777777777777778,
              "#fb9f3a"
             ],
             [
              0.8888888888888888,
              "#fdca26"
             ],
             [
              1,
              "#f0f921"
             ]
            ],
            "type": "histogram2d"
           }
          ],
          "histogram2dcontour": [
           {
            "colorbar": {
             "outlinewidth": 0,
             "ticks": ""
            },
            "colorscale": [
             [
              0,
              "#0d0887"
             ],
             [
              0.1111111111111111,
              "#46039f"
             ],
             [
              0.2222222222222222,
              "#7201a8"
             ],
             [
              0.3333333333333333,
              "#9c179e"
             ],
             [
              0.4444444444444444,
              "#bd3786"
             ],
             [
              0.5555555555555556,
              "#d8576b"
             ],
             [
              0.6666666666666666,
              "#ed7953"
             ],
             [
              0.7777777777777778,
              "#fb9f3a"
             ],
             [
              0.8888888888888888,
              "#fdca26"
             ],
             [
              1,
              "#f0f921"
             ]
            ],
            "type": "histogram2dcontour"
           }
          ],
          "mesh3d": [
           {
            "colorbar": {
             "outlinewidth": 0,
             "ticks": ""
            },
            "type": "mesh3d"
           }
          ],
          "parcoords": [
           {
            "line": {
             "colorbar": {
              "outlinewidth": 0,
              "ticks": ""
             }
            },
            "type": "parcoords"
           }
          ],
          "pie": [
           {
            "automargin": true,
            "type": "pie"
           }
          ],
          "scatter": [
           {
            "fillpattern": {
             "fillmode": "overlay",
             "size": 10,
             "solidity": 0.2
            },
            "type": "scatter"
           }
          ],
          "scatter3d": [
           {
            "line": {
             "colorbar": {
              "outlinewidth": 0,
              "ticks": ""
             }
            },
            "marker": {
             "colorbar": {
              "outlinewidth": 0,
              "ticks": ""
             }
            },
            "type": "scatter3d"
           }
          ],
          "scattercarpet": [
           {
            "marker": {
             "colorbar": {
              "outlinewidth": 0,
              "ticks": ""
             }
            },
            "type": "scattercarpet"
           }
          ],
          "scattergeo": [
           {
            "marker": {
             "colorbar": {
              "outlinewidth": 0,
              "ticks": ""
             }
            },
            "type": "scattergeo"
           }
          ],
          "scattergl": [
           {
            "marker": {
             "colorbar": {
              "outlinewidth": 0,
              "ticks": ""
             }
            },
            "type": "scattergl"
           }
          ],
          "scattermap": [
           {
            "marker": {
             "colorbar": {
              "outlinewidth": 0,
              "ticks": ""
             }
            },
            "type": "scattermap"
           }
          ],
          "scattermapbox": [
           {
            "marker": {
             "colorbar": {
              "outlinewidth": 0,
              "ticks": ""
             }
            },
            "type": "scattermapbox"
           }
          ],
          "scatterpolar": [
           {
            "marker": {
             "colorbar": {
              "outlinewidth": 0,
              "ticks": ""
             }
            },
            "type": "scatterpolar"
           }
          ],
          "scatterpolargl": [
           {
            "marker": {
             "colorbar": {
              "outlinewidth": 0,
              "ticks": ""
             }
            },
            "type": "scatterpolargl"
           }
          ],
          "scatterternary": [
           {
            "marker": {
             "colorbar": {
              "outlinewidth": 0,
              "ticks": ""
             }
            },
            "type": "scatterternary"
           }
          ],
          "surface": [
           {
            "colorbar": {
             "outlinewidth": 0,
             "ticks": ""
            },
            "colorscale": [
             [
              0,
              "#0d0887"
             ],
             [
              0.1111111111111111,
              "#46039f"
             ],
             [
              0.2222222222222222,
              "#7201a8"
             ],
             [
              0.3333333333333333,
              "#9c179e"
             ],
             [
              0.4444444444444444,
              "#bd3786"
             ],
             [
              0.5555555555555556,
              "#d8576b"
             ],
             [
              0.6666666666666666,
              "#ed7953"
             ],
             [
              0.7777777777777778,
              "#fb9f3a"
             ],
             [
              0.8888888888888888,
              "#fdca26"
             ],
             [
              1,
              "#f0f921"
             ]
            ],
            "type": "surface"
           }
          ],
          "table": [
           {
            "cells": {
             "fill": {
              "color": "#EBF0F8"
             },
             "line": {
              "color": "white"
             }
            },
            "header": {
             "fill": {
              "color": "#C8D4E3"
             },
             "line": {
              "color": "white"
             }
            },
            "type": "table"
           }
          ]
         },
         "layout": {
          "annotationdefaults": {
           "arrowcolor": "#2a3f5f",
           "arrowhead": 0,
           "arrowwidth": 1
          },
          "autotypenumbers": "strict",
          "coloraxis": {
           "colorbar": {
            "outlinewidth": 0,
            "ticks": ""
           }
          },
          "colorscale": {
           "diverging": [
            [
             0,
             "#8e0152"
            ],
            [
             0.1,
             "#c51b7d"
            ],
            [
             0.2,
             "#de77ae"
            ],
            [
             0.3,
             "#f1b6da"
            ],
            [
             0.4,
             "#fde0ef"
            ],
            [
             0.5,
             "#f7f7f7"
            ],
            [
             0.6,
             "#e6f5d0"
            ],
            [
             0.7,
             "#b8e186"
            ],
            [
             0.8,
             "#7fbc41"
            ],
            [
             0.9,
             "#4d9221"
            ],
            [
             1,
             "#276419"
            ]
           ],
           "sequential": [
            [
             0,
             "#0d0887"
            ],
            [
             0.1111111111111111,
             "#46039f"
            ],
            [
             0.2222222222222222,
             "#7201a8"
            ],
            [
             0.3333333333333333,
             "#9c179e"
            ],
            [
             0.4444444444444444,
             "#bd3786"
            ],
            [
             0.5555555555555556,
             "#d8576b"
            ],
            [
             0.6666666666666666,
             "#ed7953"
            ],
            [
             0.7777777777777778,
             "#fb9f3a"
            ],
            [
             0.8888888888888888,
             "#fdca26"
            ],
            [
             1,
             "#f0f921"
            ]
           ],
           "sequentialminus": [
            [
             0,
             "#0d0887"
            ],
            [
             0.1111111111111111,
             "#46039f"
            ],
            [
             0.2222222222222222,
             "#7201a8"
            ],
            [
             0.3333333333333333,
             "#9c179e"
            ],
            [
             0.4444444444444444,
             "#bd3786"
            ],
            [
             0.5555555555555556,
             "#d8576b"
            ],
            [
             0.6666666666666666,
             "#ed7953"
            ],
            [
             0.7777777777777778,
             "#fb9f3a"
            ],
            [
             0.8888888888888888,
             "#fdca26"
            ],
            [
             1,
             "#f0f921"
            ]
           ]
          },
          "colorway": [
           "#636efa",
           "#EF553B",
           "#00cc96",
           "#ab63fa",
           "#FFA15A",
           "#19d3f3",
           "#FF6692",
           "#B6E880",
           "#FF97FF",
           "#FECB52"
          ],
          "font": {
           "color": "#2a3f5f"
          },
          "geo": {
           "bgcolor": "white",
           "lakecolor": "white",
           "landcolor": "#E5ECF6",
           "showlakes": true,
           "showland": true,
           "subunitcolor": "white"
          },
          "hoverlabel": {
           "align": "left"
          },
          "hovermode": "closest",
          "mapbox": {
           "style": "light"
          },
          "paper_bgcolor": "white",
          "plot_bgcolor": "#E5ECF6",
          "polar": {
           "angularaxis": {
            "gridcolor": "white",
            "linecolor": "white",
            "ticks": ""
           },
           "bgcolor": "#E5ECF6",
           "radialaxis": {
            "gridcolor": "white",
            "linecolor": "white",
            "ticks": ""
           }
          },
          "scene": {
           "xaxis": {
            "backgroundcolor": "#E5ECF6",
            "gridcolor": "white",
            "gridwidth": 2,
            "linecolor": "white",
            "showbackground": true,
            "ticks": "",
            "zerolinecolor": "white"
           },
           "yaxis": {
            "backgroundcolor": "#E5ECF6",
            "gridcolor": "white",
            "gridwidth": 2,
            "linecolor": "white",
            "showbackground": true,
            "ticks": "",
            "zerolinecolor": "white"
           },
           "zaxis": {
            "backgroundcolor": "#E5ECF6",
            "gridcolor": "white",
            "gridwidth": 2,
            "linecolor": "white",
            "showbackground": true,
            "ticks": "",
            "zerolinecolor": "white"
           }
          },
          "shapedefaults": {
           "line": {
            "color": "#2a3f5f"
           }
          },
          "ternary": {
           "aaxis": {
            "gridcolor": "white",
            "linecolor": "white",
            "ticks": ""
           },
           "baxis": {
            "gridcolor": "white",
            "linecolor": "white",
            "ticks": ""
           },
           "bgcolor": "#E5ECF6",
           "caxis": {
            "gridcolor": "white",
            "linecolor": "white",
            "ticks": ""
           }
          },
          "title": {
           "x": 0.05
          },
          "xaxis": {
           "automargin": true,
           "gridcolor": "white",
           "linecolor": "white",
           "ticks": "",
           "title": {
            "standoff": 15
           },
           "zerolinecolor": "white",
           "zerolinewidth": 2
          },
          "yaxis": {
           "automargin": true,
           "gridcolor": "white",
           "linecolor": "white",
           "ticks": "",
           "title": {
            "standoff": 15
           },
           "zerolinecolor": "white",
           "zerolinewidth": 2
          }
         }
        },
        "title": {
         "font": {
          "color": "rgb(255, 255, 255)",
          "size": 50
         },
         "text": "Вышестоящий руководитель",
         "x": 0.5
        },
        "xaxis": {
         "color": "white",
         "domain": [
          0.15,
          1
         ],
         "showgrid": true,
         "showline": false,
         "showticklabels": true,
         "tickformat": "0.00%",
         "zeroline": true
        },
        "yaxis": {
         "showgrid": false,
         "showline": false,
         "showticklabels": false,
         "zeroline": false
        }
       }
      }
     },
     "metadata": {},
     "output_type": "display_data"
    }
   ],
   "source": [
    "collector.create_plot(\"Пушкин Иванович Валерий\", \"Вышестоящий руководитель\")"
   ]
  },
  {
   "cell_type": "code",
   "execution_count": 14,
   "metadata": {},
   "outputs": [
    {
     "data": {
      "application/vnd.plotly.v1+json": {
       "config": {
        "plotlyServerURL": "https://plot.ly"
       },
       "data": [
        {
         "marker": {
          "color": "rgba(168,209,141,0.8)",
          "line": {
           "width": 0
          }
         },
         "orientation": "h",
         "type": "bar",
         "width": 0.5,
         "x": [
          1
         ],
         "y": [
          "Объединение кроссфункциональной команды"
         ]
        },
        {
         "marker": {
          "color": "rgba(168,209,141,0.8)",
          "line": {
           "width": 0
          }
         },
         "orientation": "h",
         "type": "bar",
         "width": 0.5,
         "x": [
          1
         ],
         "y": [
          "Эмоциональный настрой в команде"
         ]
        },
        {
         "marker": {
          "color": "rgba(168,209,141,0.8)",
          "line": {
           "width": 0
          }
         },
         "orientation": "h",
         "type": "bar",
         "width": 0.5,
         "x": [
          1
         ],
         "y": [
          "Предоставление информации по ключевым изминениям в компании"
         ]
        },
        {
         "marker": {
          "color": "rgba(251,114,134,0.8)",
          "line": {
           "width": 0
          }
         },
         "orientation": "h",
         "type": "bar",
         "width": 0.5,
         "x": [
          0
         ],
         "y": [
          "Объединение кроссфункциональной команды"
         ]
        },
        {
         "marker": {
          "color": "rgba(251,114,134,0.8)",
          "line": {
           "width": 0
          }
         },
         "orientation": "h",
         "type": "bar",
         "width": 0.5,
         "x": [
          0
         ],
         "y": [
          "Эмоциональный настрой в команде"
         ]
        },
        {
         "marker": {
          "color": "rgba(251,114,134,0.8)",
          "line": {
           "width": 0
          }
         },
         "orientation": "h",
         "type": "bar",
         "width": 0.5,
         "x": [
          0
         ],
         "y": [
          "Предоставление информации по ключевым изминениям в компании"
         ]
        }
       ],
       "layout": {
        "annotations": [
         {
          "align": "right",
          "font": {
           "color": "rgb(255, 255, 255)",
           "family": "Arial",
           "size": 14
          },
          "showarrow": false,
          "text": "Объединение кроссфункциональной команды",
          "x": 0.14,
          "xanchor": "right",
          "xref": "paper",
          "y": "Объединение кроссфункциональной команды",
          "yref": "y"
         },
         {
          "font": {
           "color": "rgb(0, 0, 0)",
           "family": "Arial",
           "size": 14
          },
          "showarrow": false,
          "text": "100%",
          "x": 0.5,
          "xref": "x",
          "y": "Объединение кроссфункциональной команды",
          "yref": "y"
         },
         {
          "align": "right",
          "font": {
           "color": "rgb(255, 255, 255)",
           "family": "Arial",
           "size": 14
          },
          "showarrow": false,
          "text": "Эмоциональный настрой в команде",
          "x": 0.14,
          "xanchor": "right",
          "xref": "paper",
          "y": "Эмоциональный настрой в команде",
          "yref": "y"
         },
         {
          "font": {
           "color": "rgb(0, 0, 0)",
           "family": "Arial",
           "size": 14
          },
          "showarrow": false,
          "text": "100%",
          "x": 0.5,
          "xref": "x",
          "y": "Эмоциональный настрой в команде",
          "yref": "y"
         },
         {
          "align": "right",
          "font": {
           "color": "rgb(255, 255, 255)",
           "family": "Arial",
           "size": 14
          },
          "showarrow": false,
          "text": "Предоставление информации по ключевым изминениям в компании",
          "x": 0.14,
          "xanchor": "right",
          "xref": "paper",
          "y": "Предоставление информации по ключевым изминениям в компании",
          "yref": "y"
         },
         {
          "font": {
           "color": "rgb(0, 0, 0)",
           "family": "Arial",
           "size": 14
          },
          "showarrow": false,
          "text": "100%",
          "x": 0.5,
          "xref": "x",
          "y": "Предоставление информации по ключевым изминениям в компании",
          "yref": "y"
         }
        ],
        "barmode": "stack",
        "margin": {
         "b": 80,
         "l": 300,
         "r": 10,
         "t": 140
        },
        "paper_bgcolor": "rgb(0, 0, 0)",
        "plot_bgcolor": "rgb(0, 0, 0)",
        "showlegend": false,
        "template": {
         "data": {
          "bar": [
           {
            "error_x": {
             "color": "#2a3f5f"
            },
            "error_y": {
             "color": "#2a3f5f"
            },
            "marker": {
             "line": {
              "color": "#E5ECF6",
              "width": 0.5
             },
             "pattern": {
              "fillmode": "overlay",
              "size": 10,
              "solidity": 0.2
             }
            },
            "type": "bar"
           }
          ],
          "barpolar": [
           {
            "marker": {
             "line": {
              "color": "#E5ECF6",
              "width": 0.5
             },
             "pattern": {
              "fillmode": "overlay",
              "size": 10,
              "solidity": 0.2
             }
            },
            "type": "barpolar"
           }
          ],
          "carpet": [
           {
            "aaxis": {
             "endlinecolor": "#2a3f5f",
             "gridcolor": "white",
             "linecolor": "white",
             "minorgridcolor": "white",
             "startlinecolor": "#2a3f5f"
            },
            "baxis": {
             "endlinecolor": "#2a3f5f",
             "gridcolor": "white",
             "linecolor": "white",
             "minorgridcolor": "white",
             "startlinecolor": "#2a3f5f"
            },
            "type": "carpet"
           }
          ],
          "choropleth": [
           {
            "colorbar": {
             "outlinewidth": 0,
             "ticks": ""
            },
            "type": "choropleth"
           }
          ],
          "contour": [
           {
            "colorbar": {
             "outlinewidth": 0,
             "ticks": ""
            },
            "colorscale": [
             [
              0,
              "#0d0887"
             ],
             [
              0.1111111111111111,
              "#46039f"
             ],
             [
              0.2222222222222222,
              "#7201a8"
             ],
             [
              0.3333333333333333,
              "#9c179e"
             ],
             [
              0.4444444444444444,
              "#bd3786"
             ],
             [
              0.5555555555555556,
              "#d8576b"
             ],
             [
              0.6666666666666666,
              "#ed7953"
             ],
             [
              0.7777777777777778,
              "#fb9f3a"
             ],
             [
              0.8888888888888888,
              "#fdca26"
             ],
             [
              1,
              "#f0f921"
             ]
            ],
            "type": "contour"
           }
          ],
          "contourcarpet": [
           {
            "colorbar": {
             "outlinewidth": 0,
             "ticks": ""
            },
            "type": "contourcarpet"
           }
          ],
          "heatmap": [
           {
            "colorbar": {
             "outlinewidth": 0,
             "ticks": ""
            },
            "colorscale": [
             [
              0,
              "#0d0887"
             ],
             [
              0.1111111111111111,
              "#46039f"
             ],
             [
              0.2222222222222222,
              "#7201a8"
             ],
             [
              0.3333333333333333,
              "#9c179e"
             ],
             [
              0.4444444444444444,
              "#bd3786"
             ],
             [
              0.5555555555555556,
              "#d8576b"
             ],
             [
              0.6666666666666666,
              "#ed7953"
             ],
             [
              0.7777777777777778,
              "#fb9f3a"
             ],
             [
              0.8888888888888888,
              "#fdca26"
             ],
             [
              1,
              "#f0f921"
             ]
            ],
            "type": "heatmap"
           }
          ],
          "histogram": [
           {
            "marker": {
             "pattern": {
              "fillmode": "overlay",
              "size": 10,
              "solidity": 0.2
             }
            },
            "type": "histogram"
           }
          ],
          "histogram2d": [
           {
            "colorbar": {
             "outlinewidth": 0,
             "ticks": ""
            },
            "colorscale": [
             [
              0,
              "#0d0887"
             ],
             [
              0.1111111111111111,
              "#46039f"
             ],
             [
              0.2222222222222222,
              "#7201a8"
             ],
             [
              0.3333333333333333,
              "#9c179e"
             ],
             [
              0.4444444444444444,
              "#bd3786"
             ],
             [
              0.5555555555555556,
              "#d8576b"
             ],
             [
              0.6666666666666666,
              "#ed7953"
             ],
             [
              0.7777777777777778,
              "#fb9f3a"
             ],
             [
              0.8888888888888888,
              "#fdca26"
             ],
             [
              1,
              "#f0f921"
             ]
            ],
            "type": "histogram2d"
           }
          ],
          "histogram2dcontour": [
           {
            "colorbar": {
             "outlinewidth": 0,
             "ticks": ""
            },
            "colorscale": [
             [
              0,
              "#0d0887"
             ],
             [
              0.1111111111111111,
              "#46039f"
             ],
             [
              0.2222222222222222,
              "#7201a8"
             ],
             [
              0.3333333333333333,
              "#9c179e"
             ],
             [
              0.4444444444444444,
              "#bd3786"
             ],
             [
              0.5555555555555556,
              "#d8576b"
             ],
             [
              0.6666666666666666,
              "#ed7953"
             ],
             [
              0.7777777777777778,
              "#fb9f3a"
             ],
             [
              0.8888888888888888,
              "#fdca26"
             ],
             [
              1,
              "#f0f921"
             ]
            ],
            "type": "histogram2dcontour"
           }
          ],
          "mesh3d": [
           {
            "colorbar": {
             "outlinewidth": 0,
             "ticks": ""
            },
            "type": "mesh3d"
           }
          ],
          "parcoords": [
           {
            "line": {
             "colorbar": {
              "outlinewidth": 0,
              "ticks": ""
             }
            },
            "type": "parcoords"
           }
          ],
          "pie": [
           {
            "automargin": true,
            "type": "pie"
           }
          ],
          "scatter": [
           {
            "fillpattern": {
             "fillmode": "overlay",
             "size": 10,
             "solidity": 0.2
            },
            "type": "scatter"
           }
          ],
          "scatter3d": [
           {
            "line": {
             "colorbar": {
              "outlinewidth": 0,
              "ticks": ""
             }
            },
            "marker": {
             "colorbar": {
              "outlinewidth": 0,
              "ticks": ""
             }
            },
            "type": "scatter3d"
           }
          ],
          "scattercarpet": [
           {
            "marker": {
             "colorbar": {
              "outlinewidth": 0,
              "ticks": ""
             }
            },
            "type": "scattercarpet"
           }
          ],
          "scattergeo": [
           {
            "marker": {
             "colorbar": {
              "outlinewidth": 0,
              "ticks": ""
             }
            },
            "type": "scattergeo"
           }
          ],
          "scattergl": [
           {
            "marker": {
             "colorbar": {
              "outlinewidth": 0,
              "ticks": ""
             }
            },
            "type": "scattergl"
           }
          ],
          "scattermap": [
           {
            "marker": {
             "colorbar": {
              "outlinewidth": 0,
              "ticks": ""
             }
            },
            "type": "scattermap"
           }
          ],
          "scattermapbox": [
           {
            "marker": {
             "colorbar": {
              "outlinewidth": 0,
              "ticks": ""
             }
            },
            "type": "scattermapbox"
           }
          ],
          "scatterpolar": [
           {
            "marker": {
             "colorbar": {
              "outlinewidth": 0,
              "ticks": ""
             }
            },
            "type": "scatterpolar"
           }
          ],
          "scatterpolargl": [
           {
            "marker": {
             "colorbar": {
              "outlinewidth": 0,
              "ticks": ""
             }
            },
            "type": "scatterpolargl"
           }
          ],
          "scatterternary": [
           {
            "marker": {
             "colorbar": {
              "outlinewidth": 0,
              "ticks": ""
             }
            },
            "type": "scatterternary"
           }
          ],
          "surface": [
           {
            "colorbar": {
             "outlinewidth": 0,
             "ticks": ""
            },
            "colorscale": [
             [
              0,
              "#0d0887"
             ],
             [
              0.1111111111111111,
              "#46039f"
             ],
             [
              0.2222222222222222,
              "#7201a8"
             ],
             [
              0.3333333333333333,
              "#9c179e"
             ],
             [
              0.4444444444444444,
              "#bd3786"
             ],
             [
              0.5555555555555556,
              "#d8576b"
             ],
             [
              0.6666666666666666,
              "#ed7953"
             ],
             [
              0.7777777777777778,
              "#fb9f3a"
             ],
             [
              0.8888888888888888,
              "#fdca26"
             ],
             [
              1,
              "#f0f921"
             ]
            ],
            "type": "surface"
           }
          ],
          "table": [
           {
            "cells": {
             "fill": {
              "color": "#EBF0F8"
             },
             "line": {
              "color": "white"
             }
            },
            "header": {
             "fill": {
              "color": "#C8D4E3"
             },
             "line": {
              "color": "white"
             }
            },
            "type": "table"
           }
          ]
         },
         "layout": {
          "annotationdefaults": {
           "arrowcolor": "#2a3f5f",
           "arrowhead": 0,
           "arrowwidth": 1
          },
          "autotypenumbers": "strict",
          "coloraxis": {
           "colorbar": {
            "outlinewidth": 0,
            "ticks": ""
           }
          },
          "colorscale": {
           "diverging": [
            [
             0,
             "#8e0152"
            ],
            [
             0.1,
             "#c51b7d"
            ],
            [
             0.2,
             "#de77ae"
            ],
            [
             0.3,
             "#f1b6da"
            ],
            [
             0.4,
             "#fde0ef"
            ],
            [
             0.5,
             "#f7f7f7"
            ],
            [
             0.6,
             "#e6f5d0"
            ],
            [
             0.7,
             "#b8e186"
            ],
            [
             0.8,
             "#7fbc41"
            ],
            [
             0.9,
             "#4d9221"
            ],
            [
             1,
             "#276419"
            ]
           ],
           "sequential": [
            [
             0,
             "#0d0887"
            ],
            [
             0.1111111111111111,
             "#46039f"
            ],
            [
             0.2222222222222222,
             "#7201a8"
            ],
            [
             0.3333333333333333,
             "#9c179e"
            ],
            [
             0.4444444444444444,
             "#bd3786"
            ],
            [
             0.5555555555555556,
             "#d8576b"
            ],
            [
             0.6666666666666666,
             "#ed7953"
            ],
            [
             0.7777777777777778,
             "#fb9f3a"
            ],
            [
             0.8888888888888888,
             "#fdca26"
            ],
            [
             1,
             "#f0f921"
            ]
           ],
           "sequentialminus": [
            [
             0,
             "#0d0887"
            ],
            [
             0.1111111111111111,
             "#46039f"
            ],
            [
             0.2222222222222222,
             "#7201a8"
            ],
            [
             0.3333333333333333,
             "#9c179e"
            ],
            [
             0.4444444444444444,
             "#bd3786"
            ],
            [
             0.5555555555555556,
             "#d8576b"
            ],
            [
             0.6666666666666666,
             "#ed7953"
            ],
            [
             0.7777777777777778,
             "#fb9f3a"
            ],
            [
             0.8888888888888888,
             "#fdca26"
            ],
            [
             1,
             "#f0f921"
            ]
           ]
          },
          "colorway": [
           "#636efa",
           "#EF553B",
           "#00cc96",
           "#ab63fa",
           "#FFA15A",
           "#19d3f3",
           "#FF6692",
           "#B6E880",
           "#FF97FF",
           "#FECB52"
          ],
          "font": {
           "color": "#2a3f5f"
          },
          "geo": {
           "bgcolor": "white",
           "lakecolor": "white",
           "landcolor": "#E5ECF6",
           "showlakes": true,
           "showland": true,
           "subunitcolor": "white"
          },
          "hoverlabel": {
           "align": "left"
          },
          "hovermode": "closest",
          "mapbox": {
           "style": "light"
          },
          "paper_bgcolor": "white",
          "plot_bgcolor": "#E5ECF6",
          "polar": {
           "angularaxis": {
            "gridcolor": "white",
            "linecolor": "white",
            "ticks": ""
           },
           "bgcolor": "#E5ECF6",
           "radialaxis": {
            "gridcolor": "white",
            "linecolor": "white",
            "ticks": ""
           }
          },
          "scene": {
           "xaxis": {
            "backgroundcolor": "#E5ECF6",
            "gridcolor": "white",
            "gridwidth": 2,
            "linecolor": "white",
            "showbackground": true,
            "ticks": "",
            "zerolinecolor": "white"
           },
           "yaxis": {
            "backgroundcolor": "#E5ECF6",
            "gridcolor": "white",
            "gridwidth": 2,
            "linecolor": "white",
            "showbackground": true,
            "ticks": "",
            "zerolinecolor": "white"
           },
           "zaxis": {
            "backgroundcolor": "#E5ECF6",
            "gridcolor": "white",
            "gridwidth": 2,
            "linecolor": "white",
            "showbackground": true,
            "ticks": "",
            "zerolinecolor": "white"
           }
          },
          "shapedefaults": {
           "line": {
            "color": "#2a3f5f"
           }
          },
          "ternary": {
           "aaxis": {
            "gridcolor": "white",
            "linecolor": "white",
            "ticks": ""
           },
           "baxis": {
            "gridcolor": "white",
            "linecolor": "white",
            "ticks": ""
           },
           "bgcolor": "#E5ECF6",
           "caxis": {
            "gridcolor": "white",
            "linecolor": "white",
            "ticks": ""
           }
          },
          "title": {
           "x": 0.05
          },
          "xaxis": {
           "automargin": true,
           "gridcolor": "white",
           "linecolor": "white",
           "ticks": "",
           "title": {
            "standoff": 15
           },
           "zerolinecolor": "white",
           "zerolinewidth": 2
          },
          "yaxis": {
           "automargin": true,
           "gridcolor": "white",
           "linecolor": "white",
           "ticks": "",
           "title": {
            "standoff": 15
           },
           "zerolinecolor": "white",
           "zerolinewidth": 2
          }
         }
        },
        "title": {
         "font": {
          "color": "rgb(255, 255, 255)",
          "size": 50
         },
         "text": "Функциональный руководитель",
         "x": 0.5
        },
        "xaxis": {
         "color": "white",
         "domain": [
          0.15,
          1
         ],
         "showgrid": true,
         "showline": false,
         "showticklabels": true,
         "tickformat": "0.00%",
         "zeroline": true
        },
        "yaxis": {
         "showgrid": false,
         "showline": false,
         "showticklabels": false,
         "zeroline": false
        }
       }
      }
     },
     "metadata": {},
     "output_type": "display_data"
    }
   ],
   "source": [
    "collector.create_plot(\"Альфонс Александр\", \"Функциональный руководитель\")"
   ]
  }
 ],
 "metadata": {
  "kernelspec": {
   "display_name": "Python 3",
   "language": "python",
   "name": "python3"
  },
  "language_info": {
   "codemirror_mode": {
    "name": "ipython",
    "version": 3
   },
   "file_extension": ".py",
   "mimetype": "text/x-python",
   "name": "python",
   "nbconvert_exporter": "python",
   "pygments_lexer": "ipython3",
   "version": "3.9.13"
  }
 },
 "nbformat": 4,
 "nbformat_minor": 2
}
