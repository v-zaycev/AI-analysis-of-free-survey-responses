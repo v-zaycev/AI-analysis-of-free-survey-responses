{
 "cells": [
  {
   "cell_type": "markdown",
   "metadata": {},
   "source": [
    "## Про идентификацию имён\n",
    "\n",
    "<!---В первую очередь стоит отметить, что для корректности получаемых результатов было бы логичнее минимизировать ошибки второго рода, поскольку они могут быть исправлены вручную. -->\n",
    "\n",
    "В текущей реализации словаря ```natasha``` или ```mystem``` не использованы, поскольку они могут порождать дополнительные ошибки, а также очень тяжеловесны в плане временных затрат. Единственный способ использования подобных инструментов видится в выделении отдельных элементов ФИО и их нормализация, но ввиду того что данные ожидаются нормализованными в этом нет большой необходиомсти.\n",
    "\n",
    "Пока единственный вариант применения видится как проверка инициалов, где с помощью ```natasha``` извлекаются ИО и далее по словарю, который учитывает тип слова проверяется. Проверку желательно фамилий нужно будет проводить отдельно.  "
   ]
  },
  {
   "cell_type": "code",
   "execution_count": 1,
   "metadata": {},
   "outputs": [],
   "source": [
    "from natasha import (Segmenter, MorphVocab, NewsEmbedding, NewsMorphTagger, NewsNERTagger, PER, NamesExtractor, Doc)\n",
    "\n",
    "def natasha_split_name(name : str) -> dict:\n",
    "    segmenter = Segmenter()\n",
    "    emb = NewsEmbedding()\n",
    "    morph_tagger = NewsMorphTagger(emb)\n",
    "    ner_tagger = NewsNERTagger(emb)\n",
    "    morph_vocab = MorphVocab()\n",
    "    names_extractor = NamesExtractor(MorphVocab())\n",
    "    doc = Doc(name)\n",
    "    doc.segment(segmenter)\n",
    "    doc.tag_morph(morph_tagger)\n",
    "    for token in doc.tokens:\n",
    "        token.lemmatize(morph_vocab)\n",
    "    doc.tag_ner(ner_tagger)\n",
    "    for span in doc.spans:\n",
    "        span.normalize(morph_vocab)\n",
    "    for span in doc.spans:\n",
    "        if span.type == PER:\n",
    "            span.extract_fact(names_extractor)\n",
    "    return {_.normal: _.fact.as_dict for _ in doc.spans if _.type == PER}"
   ]
  },
  {
   "cell_type": "code",
   "execution_count": 2,
   "metadata": {},
   "outputs": [],
   "source": [
    "from pymystem3 import Mystem\n",
    "\n",
    "text = 'Николай Андреевич Римский-Корсаков'\n",
    "def mystem_split_name(text : str) -> dict:\n",
    "    m = Mystem()\n",
    "\n",
    "    analyze = m.analyze(text)\n",
    "\n",
    "    first_name = None\n",
    "    second_name = None\n",
    "    middle_name = None\n",
    "\n",
    "    for word in analyze:\n",
    "        try:\n",
    "            analysis = word['analysis'][0]\n",
    "        except KeyError:\n",
    "            continue\n",
    "\n",
    "        if 'имя' in analysis['gr']:\n",
    "            first_name = word['text'].capitalize()\n",
    "        elif 'фам' in analysis['gr']:\n",
    "            second_name = word['text'].capitalize()\n",
    "        elif 'отч' in analysis['gr']:\n",
    "            middle_name = word['text'].capitalize()\n",
    "    return {\"first\" : first_name, \"middle\" : middle_name, \"last\" : second_name}\n"
   ]
  },
  {
   "cell_type": "code",
   "execution_count": 3,
   "metadata": {},
   "outputs": [
    {
     "name": "stdout",
     "output_type": "stream",
     "text": [
      "natasha{'Петров И.': {'first': 'И', 'last': 'Петров'}}\n",
      "mystem{'first': None, 'middle': None, 'last': 'Петров'}\n"
     ]
    }
   ],
   "source": [
    "print(\"natasha\" + str(natasha_split_name(\"Петров И.\")))\n",
    "print(\"mystem\" + str(mystem_split_name(\"Петров И.\")))\n"
   ]
  },
  {
   "cell_type": "markdown",
   "metadata": {},
   "source": [
    "Сравнение ```natasha``` или ```mystem``` на сложных моментах."
   ]
  },
  {
   "cell_type": "code",
   "execution_count": 4,
   "metadata": {},
   "outputs": [
    {
     "name": "stdout",
     "output_type": "stream",
     "text": [
      "mystem{'first': 'Ав', 'middle': None, 'last': 'Хармс'}\n",
      "natasha{}\n",
      "mystem{'first': None, 'middle': None, 'last': 'Хармс'}\n",
      "natasha{'Хармс А.В.': {'first': 'А', 'last': 'Хармс', 'middle': 'В'}}\n",
      "mystem{'first': 'Николай', 'middle': 'Андреевич', 'last': 'Корсаков'}\n",
      "natasha{'Николай Андреевич Римский-Корсаков': {'first': 'Николай', 'last': 'Римский', 'middle': 'Андреевич'}}\n",
      "mystem{'first': 'Кузьма', 'middle': 'Сергеевич', 'last': 'Водкин'}\n",
      "natasha{'Кузьма Сергеевич Петров-Водкин': {'first': 'Кузьма', 'last': 'Петров', 'middle': 'Сергеевич'}}\n",
      "mystem{'first': 'Иван', 'middle': 'Губинич', 'last': None}\n",
      "natasha{'Иван Губинич': {'first': 'Иван', 'last': 'Губинич'}}\n",
      "mystem{'first': 'Иван', 'middle': 'Губинич', 'last': 'Орлов'}\n",
      "natasha{'Орлов Иван Губинич': {'first': 'Иван', 'last': 'Орлов'}}\n",
      "mystem{'first': 'Ева', 'middle': None, 'last': 'Пономарева'}\n",
      "natasha{'Ева-София Пономарев': {'first': 'Ева'}}\n"
     ]
    }
   ],
   "source": [
    "print(\"mystem\" + str(mystem_split_name(\"Хармс АВ\")))\n",
    "print(\"natasha\" + str(natasha_split_name(\"Хармс АВ\")))\n",
    "print(\"mystem\" + str(mystem_split_name(\"Хармс А.В.\")))\n",
    "print(\"natasha\" + str(natasha_split_name(\"Хармс А.В.\")))\n",
    "print(\"mystem\" + str(mystem_split_name(\"Николай Андреевич Римский-Корсаков\")))\n",
    "print(\"natasha\" + str(natasha_split_name(\"Николай Андреевич Римский-Корсаков\")))\n",
    "print(\"mystem\" + str(mystem_split_name(\"Кузьма Сергеевич Петров-Водкин\")))\n",
    "print(\"natasha\" + str(natasha_split_name(\"Кузьма Сергеевич Петров-Водкин\")))\n",
    "print(\"mystem\" + str(mystem_split_name(\"Красавцев Иван Губинич\")))\n",
    "print(\"natasha\" + str(natasha_split_name(\"Красавцев Иван Губинич\")))\n",
    "print(\"mystem\" + str(mystem_split_name(\"Орлов Иван Губинич\")))\n",
    "print(\"natasha\" + str(natasha_split_name(\"Орлов Иван Губинич\")))\n",
    "print(\"mystem\" + str(mystem_split_name(\"Ева-София Пономарева\")))\n",
    "print(\"natasha\" + str(natasha_split_name(\"Ева-София Пономарева\")))"
   ]
  },
  {
   "cell_type": "markdown",
   "metadata": {},
   "source": [
    "Примеры работы с текущей реализацией словаря"
   ]
  },
  {
   "cell_type": "markdown",
   "metadata": {},
   "source": [
    "При создании словаря все полные имена читаются из файла, и разбиваются на токены, которые преобразуются во множества.\n",
    "\n",
    "При обработке сначала строка аналогичным образом разбивается на токены и проверяется, что множество токенов строки является подмножеством токенов имени из словаря. Если это так, то имя добавляется в возвращаемый список. Если в результате перебора словаря имя не нашлось, то запускается проверка на инициалы. Обрабатываются два вида скоращений: Фамилия И.О. и Фамилия И., сокращения могут располагаться как до, так и после фамилии. "
   ]
  },
  {
   "cell_type": "code",
   "execution_count": 1,
   "metadata": {},
   "outputs": [
    {
     "name": "stdout",
     "output_type": "stream",
     "text": [
      "['Хлебников Александр']\n",
      "['Хармс Александр Борисович']\n",
      "['Юлия Манн']\n",
      "['Московская Евгения']\n",
      "['Витязев Андрей Викторович']\n",
      "['Хармс Александр Борисович']\n",
      "['Хармс Александр Борисович']\n",
      "['Ахматова Екатерина Александровна', 'Ахматова Екатерина Вадимовна']\n",
      "['Ахматова Екатерина Александровна', 'Ахматова Екатерина Вадимовна', 'Грязнева Екатерина', 'Гумилева Екатерина Николаевна', 'Пирогова Екатерина', 'Щедрина Екатерина']\n",
      "['Ахматова Екатерина Вадимовна']\n",
      "['Ахматова Екатерина Александровна', 'Ахматова Екатерина Вадимовна']\n",
      "['Белая Галина']\n"
     ]
    }
   ],
   "source": [
    "from common.names_dict import NamesDict\n",
    "import nest_asyncio\n",
    "nest_asyncio.apply()\n",
    "x = NamesDict(\"resources\\\\names.xlsx\")\n",
    "\n",
    "print(x.get_names(\"Александер Хлебников\"))\n",
    "print(x.get_names(\"А.Б. Хармс\"))\n",
    "print(x.get_names(\"Манн Юля\"))\n",
    "print(x.get_names(\"Московская Женя\"))\n",
    "print(x.get_names(\"Витязев АВ\"))\n",
    "print(x.get_names(\"Хармс А.Б.\"))\n",
    "print(x.get_names(\"Хармс АБ\"))\n",
    "print(x.get_names(\"Ахматова\"))\n",
    "print(x.get_names(\"Екатерина\"))\n",
    "print(x.get_names(\"Ахматова Екатерина Вадимовна\"))\n",
    "print(x.get_names(\"Ахматова Е.\"))\n",
    "print(x.get_names(\"Белая Г.\"))"
   ]
  },
  {
   "cell_type": "markdown",
   "metadata": {},
   "source": [
    "## Построение графиков"
   ]
  },
  {
   "cell_type": "markdown",
   "metadata": {},
   "source": [
    "Собираем информацию из таблички, в результате обработки выводится пара чисел (необработанные имена, все имена) "
   ]
  },
  {
   "cell_type": "code",
   "execution_count": 1,
   "metadata": {},
   "outputs": [
    {
     "name": "stdout",
     "output_type": "stream",
     "text": [
      "row 117: \"9. Укажите вышестоящего руководителя в формате Фамилия Имя (если вы уже оценили его выше, оставьте вопросы 9-14 незаполненными)\"\n",
      "  Ахматова Екатерина: ['Ахматова Екатерина Александровна', 'Ахматова Екатерина Вадимовна']\n",
      "row 192: \"9. Укажите вышестоящего руководителя в формате Фамилия Имя (если вы уже оценили его выше, оставьте вопросы 9-14 незаполненными)\"\n",
      "  Ахматова Екатерина: ['Ахматова Екатерина Александровна', 'Ахматова Екатерина Вадимовна']\n"
     ]
    },
    {
     "data": {
      "text/plain": [
       "(2, 373)"
      ]
     },
     "execution_count": 1,
     "metadata": {},
     "output_type": "execute_result"
    }
   ],
   "source": [
    "from data_collector import DataCollector\n",
    "import nest_asyncio\n",
    "nest_asyncio.apply()\n",
    "\n",
    "data_path = \"data.xlsx\"\n",
    "structure_path = \"resources\\\\survey_structure.json\"\n",
    "names_path = \"resources\\\\names.xlsx\"\n",
    "\n",
    "collector = DataCollector(data_path, structure_path, names_path)\n",
    "collector.collect()"
   ]
  },
  {
   "cell_type": "markdown",
   "metadata": {},
   "source": [
    "Создаём отчётную таблицу"
   ]
  },
  {
   "cell_type": "code",
   "execution_count": 2,
   "metadata": {},
   "outputs": [
    {
     "name": "stderr",
     "output_type": "stream",
     "text": [
      "c:\\Users\\zalex\\AI-analysis-of-free-survey-responses\\data_collector.py:125: FutureWarning: The behavior of DataFrame concatenation with empty or all-NA entries is deprecated. In a future version, this will no longer exclude empty or all-NA columns when determining the result dtypes. To retain the old behavior, exclude the relevant entries before the concat operation.\n",
      "  df = pd.concat([df, pd.DataFrame(data=[cur_row], columns = columns_names)], ignore_index = True)\n"
     ]
    }
   ],
   "source": [
    "collector.create_report_df().to_excel(\"outputs\\\\report.xlsx\", index = False)"
   ]
  },
  {
   "cell_type": "markdown",
   "metadata": {},
   "source": [
    "Создаём отчёт по отдельному человеку и типу руководства"
   ]
  },
  {
   "cell_type": "code",
   "execution_count": null,
   "metadata": {},
   "outputs": [
    {
     "data": {
      "text/plain": [
       "Помощь в решении проблемных вопросов_positive_pct                                                                                                 1.0\n",
       "Помощь в решении проблемных вопросов_all                                                                                                            3\n",
       "Эмоциональный настрой от совместной работы_positive_pct                                                                                           1.0\n",
       "Эмоциональный настрой от совместной работы_all                                                                                                      3\n",
       "Экспертность непосредственного руководителя_avg                                                                                              9.333333\n",
       "Экспертность непосредственного руководителя_count                                                                                                   3\n",
       "Вклад в улучшение и оптимизацию процессов подразделения_positive_pct                                                                         0.666667\n",
       "Вклад в улучшение и оптимизацию процессов подразделения_all                                                                                         3\n",
       "Способствование развитию команды_positive_pct                                                                                                0.666667\n",
       "Способствование развитию команды_all                                                                                                                3\n",
       "Процесс предоставления обратной связи_positive_pct                                                                                           0.666667\n",
       "Процесс предоставления обратной связи_all                                                                                                           3\n",
       "8. Поделитесь обратной связью для руководителя и предложениями по улучшению работы подразделения    1. Повысить прозрачность рабочих процессов, об...\n",
       "dtype: object"
      ]
     },
     "execution_count": 8,
     "metadata": {},
     "output_type": "execute_result"
    }
   ],
   "source": [
    "collector.get_person_report(\"Илюхина Мария\", \"Непосредственный руководитель\")"
   ]
  },
  {
   "cell_type": "markdown",
   "metadata": {},
   "source": [
    "Определяем функцию, которая будет строить графики по для отдельных людей по выбранному типу руководства"
   ]
  },
  {
   "cell_type": "code",
   "execution_count": null,
   "metadata": {},
   "outputs": [],
   "source": [
    "import plotly.graph_objects as go\n",
    "\n",
    "def create_plot(name : str, group : str, collector : DataCollector):\n",
    "    person_stat = collector.get_select_vals_for_plot(name, group)\n",
    "    colors = ['rgba(168,209,141,0.8)',\n",
    "            'rgba(251,114,134,0.8)']\n",
    "\n",
    "    x_data = person_stat[1]\n",
    "    y_data = person_stat[0]\n",
    "    fig = go.Figure()\n",
    "\n",
    "    for i in range(0, len(x_data[0])):\n",
    "        for xd, yd in zip(x_data, y_data):\n",
    "            fig.add_trace(go.Bar(\n",
    "                x=[xd[i]], y=[yd],\n",
    "                orientation='h',\n",
    "                marker=dict(\n",
    "                    color=colors[i],\n",
    "                    line=dict(width=0)\n",
    "                )\n",
    "            ))\n",
    "\n",
    "    fig.update_layout(\n",
    "        xaxis=dict(\n",
    "            showgrid=True,\n",
    "            showline=False,\n",
    "            tickformat= '0.00%',\n",
    "            showticklabels=True,\n",
    "            color=\"white\",\n",
    "            zeroline=True,\n",
    "            domain=[0.15, 1]\n",
    "        ),\n",
    "        yaxis=dict(\n",
    "            showgrid=False,\n",
    "            showline=False,\n",
    "            showticklabels=False,\n",
    "            zeroline=False,\n",
    "        ),\n",
    "        barmode='stack',\n",
    "        paper_bgcolor='rgb(0, 0, 0)',\n",
    "        plot_bgcolor='rgb(0, 0, 0)',\n",
    "        margin=dict(l=300, r=10, t=140, b=80),\n",
    "        showlegend=False,\n",
    "    )\n",
    "\n",
    "    annotations = []\n",
    "\n",
    "    for yd, xd in zip(y_data, x_data):\n",
    "        # labeling the y-axis\n",
    "        annotations.append(dict(xref='paper', yref='y',\n",
    "                                x=0.14, y=yd,\n",
    "                                xanchor='right',\n",
    "                                text=str(yd),\n",
    "                                font=dict(family='Arial', size=14,\n",
    "                                        color='rgb(255, 255, 255)'),\n",
    "                                showarrow=False, align='right'))\n",
    "        # labeling the first percentage of each bar (x_axis)\n",
    "        if xd[0]!=0:\n",
    "            annotations.append(dict(xref='x', yref='y',\n",
    "                                    x=xd[0] / 2, y=yd,\n",
    "                                    text=str(int(xd[0]*100)) + '%',\n",
    "                                    font=dict(family='Arial', size=14,\n",
    "                                            color='rgb(0, 0, 0)'),\n",
    "                                    showarrow=False))\n",
    "        # labeling the second percentage of each bar (x_axis)\n",
    "        if xd[1]!=0:\n",
    "            annotations.append(dict(xref='x', yref='y',\n",
    "                                    x=xd[0] + (xd[1]/2), y=yd,\n",
    "                                    text=str(int(xd[1]*100)) + '%',\n",
    "                                    font=dict(family='Arial', size=14,\n",
    "                                                color='rgb(0, 0, 0)'),\n",
    "                                    showarrow=False))\n",
    "\n",
    "    fig.update_layout(annotations=annotations, title=dict(text=group, x=0.5 ,font=dict(size=50, color='rgb(255, 255, 255)')))\n",
    "    fig.update_traces(width=0.5)\n",
    "    fig.show()"
   ]
  },
  {
   "cell_type": "markdown",
   "metadata": {},
   "source": [
    "По очереди строим примеры для непосредственных, вышестоящих и функциональных руководителей"
   ]
  },
  {
   "cell_type": "code",
   "execution_count": 10,
   "metadata": {},
   "outputs": [
    {
     "data": {
      "application/vnd.plotly.v1+json": {
       "config": {
        "plotlyServerURL": "https://plot.ly"
       },
       "data": [
        {
         "marker": {
          "color": "rgba(168,209,141,0.8)",
          "line": {
           "width": 0
          }
         },
         "orientation": "h",
         "type": "bar",
         "width": 0.5,
         "x": [
          1
         ],
         "y": [
          "Помощь в решении проблемных вопросов"
         ]
        },
        {
         "marker": {
          "color": "rgba(168,209,141,0.8)",
          "line": {
           "width": 0
          }
         },
         "orientation": "h",
         "type": "bar",
         "width": 0.5,
         "x": [
          0.83
         ],
         "y": [
          "Эмоциональный настрой от совместной работы"
         ]
        },
        {
         "marker": {
          "color": "rgba(168,209,141,0.8)",
          "line": {
           "width": 0
          }
         },
         "orientation": "h",
         "type": "bar",
         "width": 0.5,
         "x": [
          1
         ],
         "y": [
          "Вклад в улучшение и оптимизацию процессов подразделения"
         ]
        },
        {
         "marker": {
          "color": "rgba(168,209,141,0.8)",
          "line": {
           "width": 0
          }
         },
         "orientation": "h",
         "type": "bar",
         "width": 0.5,
         "x": [
          0.83
         ],
         "y": [
          "Способствование развитию команды"
         ]
        },
        {
         "marker": {
          "color": "rgba(168,209,141,0.8)",
          "line": {
           "width": 0
          }
         },
         "orientation": "h",
         "type": "bar",
         "width": 0.5,
         "x": [
          1
         ],
         "y": [
          "Процесс предоставления обратной связи"
         ]
        },
        {
         "marker": {
          "color": "rgba(251,114,134,0.8)",
          "line": {
           "width": 0
          }
         },
         "orientation": "h",
         "type": "bar",
         "width": 0.5,
         "x": [
          0
         ],
         "y": [
          "Помощь в решении проблемных вопросов"
         ]
        },
        {
         "marker": {
          "color": "rgba(251,114,134,0.8)",
          "line": {
           "width": 0
          }
         },
         "orientation": "h",
         "type": "bar",
         "width": 0.5,
         "x": [
          0.17
         ],
         "y": [
          "Эмоциональный настрой от совместной работы"
         ]
        },
        {
         "marker": {
          "color": "rgba(251,114,134,0.8)",
          "line": {
           "width": 0
          }
         },
         "orientation": "h",
         "type": "bar",
         "width": 0.5,
         "x": [
          0
         ],
         "y": [
          "Вклад в улучшение и оптимизацию процессов подразделения"
         ]
        },
        {
         "marker": {
          "color": "rgba(251,114,134,0.8)",
          "line": {
           "width": 0
          }
         },
         "orientation": "h",
         "type": "bar",
         "width": 0.5,
         "x": [
          0.17
         ],
         "y": [
          "Способствование развитию команды"
         ]
        },
        {
         "marker": {
          "color": "rgba(251,114,134,0.8)",
          "line": {
           "width": 0
          }
         },
         "orientation": "h",
         "type": "bar",
         "width": 0.5,
         "x": [
          0
         ],
         "y": [
          "Процесс предоставления обратной связи"
         ]
        }
       ],
       "layout": {
        "annotations": [
         {
          "align": "right",
          "font": {
           "color": "rgb(255, 255, 255)",
           "family": "Arial",
           "size": 14
          },
          "showarrow": false,
          "text": "Помощь в решении проблемных вопросов",
          "x": 0.14,
          "xanchor": "right",
          "xref": "paper",
          "y": "Помощь в решении проблемных вопросов",
          "yref": "y"
         },
         {
          "font": {
           "color": "rgb(0, 0, 0)",
           "family": "Arial",
           "size": 14
          },
          "showarrow": false,
          "text": "100%",
          "x": 0.5,
          "xref": "x",
          "y": "Помощь в решении проблемных вопросов",
          "yref": "y"
         },
         {
          "align": "right",
          "font": {
           "color": "rgb(255, 255, 255)",
           "family": "Arial",
           "size": 14
          },
          "showarrow": false,
          "text": "Эмоциональный настрой от совместной работы",
          "x": 0.14,
          "xanchor": "right",
          "xref": "paper",
          "y": "Эмоциональный настрой от совместной работы",
          "yref": "y"
         },
         {
          "font": {
           "color": "rgb(0, 0, 0)",
           "family": "Arial",
           "size": 14
          },
          "showarrow": false,
          "text": "83%",
          "x": 0.415,
          "xref": "x",
          "y": "Эмоциональный настрой от совместной работы",
          "yref": "y"
         },
         {
          "font": {
           "color": "rgb(0, 0, 0)",
           "family": "Arial",
           "size": 14
          },
          "showarrow": false,
          "text": "17%",
          "x": 0.9149999999999999,
          "xref": "x",
          "y": "Эмоциональный настрой от совместной работы",
          "yref": "y"
         },
         {
          "align": "right",
          "font": {
           "color": "rgb(255, 255, 255)",
           "family": "Arial",
           "size": 14
          },
          "showarrow": false,
          "text": "Вклад в улучшение и оптимизацию процессов подразделения",
          "x": 0.14,
          "xanchor": "right",
          "xref": "paper",
          "y": "Вклад в улучшение и оптимизацию процессов подразделения",
          "yref": "y"
         },
         {
          "font": {
           "color": "rgb(0, 0, 0)",
           "family": "Arial",
           "size": 14
          },
          "showarrow": false,
          "text": "100%",
          "x": 0.5,
          "xref": "x",
          "y": "Вклад в улучшение и оптимизацию процессов подразделения",
          "yref": "y"
         },
         {
          "align": "right",
          "font": {
           "color": "rgb(255, 255, 255)",
           "family": "Arial",
           "size": 14
          },
          "showarrow": false,
          "text": "Способствование развитию команды",
          "x": 0.14,
          "xanchor": "right",
          "xref": "paper",
          "y": "Способствование развитию команды",
          "yref": "y"
         },
         {
          "font": {
           "color": "rgb(0, 0, 0)",
           "family": "Arial",
           "size": 14
          },
          "showarrow": false,
          "text": "83%",
          "x": 0.415,
          "xref": "x",
          "y": "Способствование развитию команды",
          "yref": "y"
         },
         {
          "font": {
           "color": "rgb(0, 0, 0)",
           "family": "Arial",
           "size": 14
          },
          "showarrow": false,
          "text": "17%",
          "x": 0.9149999999999999,
          "xref": "x",
          "y": "Способствование развитию команды",
          "yref": "y"
         },
         {
          "align": "right",
          "font": {
           "color": "rgb(255, 255, 255)",
           "family": "Arial",
           "size": 14
          },
          "showarrow": false,
          "text": "Процесс предоставления обратной связи",
          "x": 0.14,
          "xanchor": "right",
          "xref": "paper",
          "y": "Процесс предоставления обратной связи",
          "yref": "y"
         },
         {
          "font": {
           "color": "rgb(0, 0, 0)",
           "family": "Arial",
           "size": 14
          },
          "showarrow": false,
          "text": "100%",
          "x": 0.5,
          "xref": "x",
          "y": "Процесс предоставления обратной связи",
          "yref": "y"
         }
        ],
        "barmode": "stack",
        "margin": {
         "b": 80,
         "l": 300,
         "r": 10,
         "t": 140
        },
        "paper_bgcolor": "rgb(0, 0, 0)",
        "plot_bgcolor": "rgb(0, 0, 0)",
        "showlegend": false,
        "template": {
         "data": {
          "bar": [
           {
            "error_x": {
             "color": "#2a3f5f"
            },
            "error_y": {
             "color": "#2a3f5f"
            },
            "marker": {
             "line": {
              "color": "#E5ECF6",
              "width": 0.5
             },
             "pattern": {
              "fillmode": "overlay",
              "size": 10,
              "solidity": 0.2
             }
            },
            "type": "bar"
           }
          ],
          "barpolar": [
           {
            "marker": {
             "line": {
              "color": "#E5ECF6",
              "width": 0.5
             },
             "pattern": {
              "fillmode": "overlay",
              "size": 10,
              "solidity": 0.2
             }
            },
            "type": "barpolar"
           }
          ],
          "carpet": [
           {
            "aaxis": {
             "endlinecolor": "#2a3f5f",
             "gridcolor": "white",
             "linecolor": "white",
             "minorgridcolor": "white",
             "startlinecolor": "#2a3f5f"
            },
            "baxis": {
             "endlinecolor": "#2a3f5f",
             "gridcolor": "white",
             "linecolor": "white",
             "minorgridcolor": "white",
             "startlinecolor": "#2a3f5f"
            },
            "type": "carpet"
           }
          ],
          "choropleth": [
           {
            "colorbar": {
             "outlinewidth": 0,
             "ticks": ""
            },
            "type": "choropleth"
           }
          ],
          "contour": [
           {
            "colorbar": {
             "outlinewidth": 0,
             "ticks": ""
            },
            "colorscale": [
             [
              0,
              "#0d0887"
             ],
             [
              0.1111111111111111,
              "#46039f"
             ],
             [
              0.2222222222222222,
              "#7201a8"
             ],
             [
              0.3333333333333333,
              "#9c179e"
             ],
             [
              0.4444444444444444,
              "#bd3786"
             ],
             [
              0.5555555555555556,
              "#d8576b"
             ],
             [
              0.6666666666666666,
              "#ed7953"
             ],
             [
              0.7777777777777778,
              "#fb9f3a"
             ],
             [
              0.8888888888888888,
              "#fdca26"
             ],
             [
              1,
              "#f0f921"
             ]
            ],
            "type": "contour"
           }
          ],
          "contourcarpet": [
           {
            "colorbar": {
             "outlinewidth": 0,
             "ticks": ""
            },
            "type": "contourcarpet"
           }
          ],
          "heatmap": [
           {
            "colorbar": {
             "outlinewidth": 0,
             "ticks": ""
            },
            "colorscale": [
             [
              0,
              "#0d0887"
             ],
             [
              0.1111111111111111,
              "#46039f"
             ],
             [
              0.2222222222222222,
              "#7201a8"
             ],
             [
              0.3333333333333333,
              "#9c179e"
             ],
             [
              0.4444444444444444,
              "#bd3786"
             ],
             [
              0.5555555555555556,
              "#d8576b"
             ],
             [
              0.6666666666666666,
              "#ed7953"
             ],
             [
              0.7777777777777778,
              "#fb9f3a"
             ],
             [
              0.8888888888888888,
              "#fdca26"
             ],
             [
              1,
              "#f0f921"
             ]
            ],
            "type": "heatmap"
           }
          ],
          "histogram": [
           {
            "marker": {
             "pattern": {
              "fillmode": "overlay",
              "size": 10,
              "solidity": 0.2
             }
            },
            "type": "histogram"
           }
          ],
          "histogram2d": [
           {
            "colorbar": {
             "outlinewidth": 0,
             "ticks": ""
            },
            "colorscale": [
             [
              0,
              "#0d0887"
             ],
             [
              0.1111111111111111,
              "#46039f"
             ],
             [
              0.2222222222222222,
              "#7201a8"
             ],
             [
              0.3333333333333333,
              "#9c179e"
             ],
             [
              0.4444444444444444,
              "#bd3786"
             ],
             [
              0.5555555555555556,
              "#d8576b"
             ],
             [
              0.6666666666666666,
              "#ed7953"
             ],
             [
              0.7777777777777778,
              "#fb9f3a"
             ],
             [
              0.8888888888888888,
              "#fdca26"
             ],
             [
              1,
              "#f0f921"
             ]
            ],
            "type": "histogram2d"
           }
          ],
          "histogram2dcontour": [
           {
            "colorbar": {
             "outlinewidth": 0,
             "ticks": ""
            },
            "colorscale": [
             [
              0,
              "#0d0887"
             ],
             [
              0.1111111111111111,
              "#46039f"
             ],
             [
              0.2222222222222222,
              "#7201a8"
             ],
             [
              0.3333333333333333,
              "#9c179e"
             ],
             [
              0.4444444444444444,
              "#bd3786"
             ],
             [
              0.5555555555555556,
              "#d8576b"
             ],
             [
              0.6666666666666666,
              "#ed7953"
             ],
             [
              0.7777777777777778,
              "#fb9f3a"
             ],
             [
              0.8888888888888888,
              "#fdca26"
             ],
             [
              1,
              "#f0f921"
             ]
            ],
            "type": "histogram2dcontour"
           }
          ],
          "mesh3d": [
           {
            "colorbar": {
             "outlinewidth": 0,
             "ticks": ""
            },
            "type": "mesh3d"
           }
          ],
          "parcoords": [
           {
            "line": {
             "colorbar": {
              "outlinewidth": 0,
              "ticks": ""
             }
            },
            "type": "parcoords"
           }
          ],
          "pie": [
           {
            "automargin": true,
            "type": "pie"
           }
          ],
          "scatter": [
           {
            "fillpattern": {
             "fillmode": "overlay",
             "size": 10,
             "solidity": 0.2
            },
            "type": "scatter"
           }
          ],
          "scatter3d": [
           {
            "line": {
             "colorbar": {
              "outlinewidth": 0,
              "ticks": ""
             }
            },
            "marker": {
             "colorbar": {
              "outlinewidth": 0,
              "ticks": ""
             }
            },
            "type": "scatter3d"
           }
          ],
          "scattercarpet": [
           {
            "marker": {
             "colorbar": {
              "outlinewidth": 0,
              "ticks": ""
             }
            },
            "type": "scattercarpet"
           }
          ],
          "scattergeo": [
           {
            "marker": {
             "colorbar": {
              "outlinewidth": 0,
              "ticks": ""
             }
            },
            "type": "scattergeo"
           }
          ],
          "scattergl": [
           {
            "marker": {
             "colorbar": {
              "outlinewidth": 0,
              "ticks": ""
             }
            },
            "type": "scattergl"
           }
          ],
          "scattermap": [
           {
            "marker": {
             "colorbar": {
              "outlinewidth": 0,
              "ticks": ""
             }
            },
            "type": "scattermap"
           }
          ],
          "scattermapbox": [
           {
            "marker": {
             "colorbar": {
              "outlinewidth": 0,
              "ticks": ""
             }
            },
            "type": "scattermapbox"
           }
          ],
          "scatterpolar": [
           {
            "marker": {
             "colorbar": {
              "outlinewidth": 0,
              "ticks": ""
             }
            },
            "type": "scatterpolar"
           }
          ],
          "scatterpolargl": [
           {
            "marker": {
             "colorbar": {
              "outlinewidth": 0,
              "ticks": ""
             }
            },
            "type": "scatterpolargl"
           }
          ],
          "scatterternary": [
           {
            "marker": {
             "colorbar": {
              "outlinewidth": 0,
              "ticks": ""
             }
            },
            "type": "scatterternary"
           }
          ],
          "surface": [
           {
            "colorbar": {
             "outlinewidth": 0,
             "ticks": ""
            },
            "colorscale": [
             [
              0,
              "#0d0887"
             ],
             [
              0.1111111111111111,
              "#46039f"
             ],
             [
              0.2222222222222222,
              "#7201a8"
             ],
             [
              0.3333333333333333,
              "#9c179e"
             ],
             [
              0.4444444444444444,
              "#bd3786"
             ],
             [
              0.5555555555555556,
              "#d8576b"
             ],
             [
              0.6666666666666666,
              "#ed7953"
             ],
             [
              0.7777777777777778,
              "#fb9f3a"
             ],
             [
              0.8888888888888888,
              "#fdca26"
             ],
             [
              1,
              "#f0f921"
             ]
            ],
            "type": "surface"
           }
          ],
          "table": [
           {
            "cells": {
             "fill": {
              "color": "#EBF0F8"
             },
             "line": {
              "color": "white"
             }
            },
            "header": {
             "fill": {
              "color": "#C8D4E3"
             },
             "line": {
              "color": "white"
             }
            },
            "type": "table"
           }
          ]
         },
         "layout": {
          "annotationdefaults": {
           "arrowcolor": "#2a3f5f",
           "arrowhead": 0,
           "arrowwidth": 1
          },
          "autotypenumbers": "strict",
          "coloraxis": {
           "colorbar": {
            "outlinewidth": 0,
            "ticks": ""
           }
          },
          "colorscale": {
           "diverging": [
            [
             0,
             "#8e0152"
            ],
            [
             0.1,
             "#c51b7d"
            ],
            [
             0.2,
             "#de77ae"
            ],
            [
             0.3,
             "#f1b6da"
            ],
            [
             0.4,
             "#fde0ef"
            ],
            [
             0.5,
             "#f7f7f7"
            ],
            [
             0.6,
             "#e6f5d0"
            ],
            [
             0.7,
             "#b8e186"
            ],
            [
             0.8,
             "#7fbc41"
            ],
            [
             0.9,
             "#4d9221"
            ],
            [
             1,
             "#276419"
            ]
           ],
           "sequential": [
            [
             0,
             "#0d0887"
            ],
            [
             0.1111111111111111,
             "#46039f"
            ],
            [
             0.2222222222222222,
             "#7201a8"
            ],
            [
             0.3333333333333333,
             "#9c179e"
            ],
            [
             0.4444444444444444,
             "#bd3786"
            ],
            [
             0.5555555555555556,
             "#d8576b"
            ],
            [
             0.6666666666666666,
             "#ed7953"
            ],
            [
             0.7777777777777778,
             "#fb9f3a"
            ],
            [
             0.8888888888888888,
             "#fdca26"
            ],
            [
             1,
             "#f0f921"
            ]
           ],
           "sequentialminus": [
            [
             0,
             "#0d0887"
            ],
            [
             0.1111111111111111,
             "#46039f"
            ],
            [
             0.2222222222222222,
             "#7201a8"
            ],
            [
             0.3333333333333333,
             "#9c179e"
            ],
            [
             0.4444444444444444,
             "#bd3786"
            ],
            [
             0.5555555555555556,
             "#d8576b"
            ],
            [
             0.6666666666666666,
             "#ed7953"
            ],
            [
             0.7777777777777778,
             "#fb9f3a"
            ],
            [
             0.8888888888888888,
             "#fdca26"
            ],
            [
             1,
             "#f0f921"
            ]
           ]
          },
          "colorway": [
           "#636efa",
           "#EF553B",
           "#00cc96",
           "#ab63fa",
           "#FFA15A",
           "#19d3f3",
           "#FF6692",
           "#B6E880",
           "#FF97FF",
           "#FECB52"
          ],
          "font": {
           "color": "#2a3f5f"
          },
          "geo": {
           "bgcolor": "white",
           "lakecolor": "white",
           "landcolor": "#E5ECF6",
           "showlakes": true,
           "showland": true,
           "subunitcolor": "white"
          },
          "hoverlabel": {
           "align": "left"
          },
          "hovermode": "closest",
          "mapbox": {
           "style": "light"
          },
          "paper_bgcolor": "white",
          "plot_bgcolor": "#E5ECF6",
          "polar": {
           "angularaxis": {
            "gridcolor": "white",
            "linecolor": "white",
            "ticks": ""
           },
           "bgcolor": "#E5ECF6",
           "radialaxis": {
            "gridcolor": "white",
            "linecolor": "white",
            "ticks": ""
           }
          },
          "scene": {
           "xaxis": {
            "backgroundcolor": "#E5ECF6",
            "gridcolor": "white",
            "gridwidth": 2,
            "linecolor": "white",
            "showbackground": true,
            "ticks": "",
            "zerolinecolor": "white"
           },
           "yaxis": {
            "backgroundcolor": "#E5ECF6",
            "gridcolor": "white",
            "gridwidth": 2,
            "linecolor": "white",
            "showbackground": true,
            "ticks": "",
            "zerolinecolor": "white"
           },
           "zaxis": {
            "backgroundcolor": "#E5ECF6",
            "gridcolor": "white",
            "gridwidth": 2,
            "linecolor": "white",
            "showbackground": true,
            "ticks": "",
            "zerolinecolor": "white"
           }
          },
          "shapedefaults": {
           "line": {
            "color": "#2a3f5f"
           }
          },
          "ternary": {
           "aaxis": {
            "gridcolor": "white",
            "linecolor": "white",
            "ticks": ""
           },
           "baxis": {
            "gridcolor": "white",
            "linecolor": "white",
            "ticks": ""
           },
           "bgcolor": "#E5ECF6",
           "caxis": {
            "gridcolor": "white",
            "linecolor": "white",
            "ticks": ""
           }
          },
          "title": {
           "x": 0.05
          },
          "xaxis": {
           "automargin": true,
           "gridcolor": "white",
           "linecolor": "white",
           "ticks": "",
           "title": {
            "standoff": 15
           },
           "zerolinecolor": "white",
           "zerolinewidth": 2
          },
          "yaxis": {
           "automargin": true,
           "gridcolor": "white",
           "linecolor": "white",
           "ticks": "",
           "title": {
            "standoff": 15
           },
           "zerolinecolor": "white",
           "zerolinewidth": 2
          }
         }
        },
        "title": {
         "font": {
          "color": "rgb(255, 255, 255)",
          "size": 50
         },
         "text": "Непосредственный руководитель",
         "x": 0.5
        },
        "xaxis": {
         "color": "white",
         "domain": [
          0.15,
          1
         ],
         "showgrid": true,
         "showline": false,
         "showticklabels": true,
         "tickformat": "0.00%",
         "zeroline": true
        },
        "yaxis": {
         "showgrid": false,
         "showline": false,
         "showticklabels": false,
         "zeroline": false
        }
       }
      }
     },
     "metadata": {},
     "output_type": "display_data"
    }
   ],
   "source": [
    "\n",
    "create_plot(\"Губин Павел\",\"Непосредственный руководитель\", collector)"
   ]
  },
  {
   "cell_type": "code",
   "execution_count": 11,
   "metadata": {},
   "outputs": [
    {
     "data": {
      "application/vnd.plotly.v1+json": {
       "config": {
        "plotlyServerURL": "https://plot.ly"
       },
       "data": [
        {
         "marker": {
          "color": "rgba(168,209,141,0.8)",
          "line": {
           "width": 0
          }
         },
         "orientation": "h",
         "type": "bar",
         "width": 0.5,
         "x": [
          0.8
         ],
         "y": [
          "Вклад в улучшение и оптимизацию процессов подразделения"
         ]
        },
        {
         "marker": {
          "color": "rgba(168,209,141,0.8)",
          "line": {
           "width": 0
          }
         },
         "orientation": "h",
         "type": "bar",
         "width": 0.5,
         "x": [
          0.5
         ],
         "y": [
          "Эмоциональный вклад "
         ]
        },
        {
         "marker": {
          "color": "rgba(168,209,141,0.8)",
          "line": {
           "width": 0
          }
         },
         "orientation": "h",
         "type": "bar",
         "width": 0.5,
         "x": [
          0.5
         ],
         "y": [
          "Предоставление информации по ключевым изменениям в компании "
         ]
        },
        {
         "marker": {
          "color": "rgba(251,114,134,0.8)",
          "line": {
           "width": 0
          }
         },
         "orientation": "h",
         "type": "bar",
         "width": 0.5,
         "x": [
          0.2
         ],
         "y": [
          "Вклад в улучшение и оптимизацию процессов подразделения"
         ]
        },
        {
         "marker": {
          "color": "rgba(251,114,134,0.8)",
          "line": {
           "width": 0
          }
         },
         "orientation": "h",
         "type": "bar",
         "width": 0.5,
         "x": [
          0.5
         ],
         "y": [
          "Эмоциональный вклад "
         ]
        },
        {
         "marker": {
          "color": "rgba(251,114,134,0.8)",
          "line": {
           "width": 0
          }
         },
         "orientation": "h",
         "type": "bar",
         "width": 0.5,
         "x": [
          0.5
         ],
         "y": [
          "Предоставление информации по ключевым изменениям в компании "
         ]
        }
       ],
       "layout": {
        "annotations": [
         {
          "align": "right",
          "font": {
           "color": "rgb(255, 255, 255)",
           "family": "Arial",
           "size": 14
          },
          "showarrow": false,
          "text": "Вклад в улучшение и оптимизацию процессов подразделения",
          "x": 0.14,
          "xanchor": "right",
          "xref": "paper",
          "y": "Вклад в улучшение и оптимизацию процессов подразделения",
          "yref": "y"
         },
         {
          "font": {
           "color": "rgb(0, 0, 0)",
           "family": "Arial",
           "size": 14
          },
          "showarrow": false,
          "text": "80%",
          "x": 0.4,
          "xref": "x",
          "y": "Вклад в улучшение и оптимизацию процессов подразделения",
          "yref": "y"
         },
         {
          "font": {
           "color": "rgb(0, 0, 0)",
           "family": "Arial",
           "size": 14
          },
          "showarrow": false,
          "text": "20%",
          "x": 0.9,
          "xref": "x",
          "y": "Вклад в улучшение и оптимизацию процессов подразделения",
          "yref": "y"
         },
         {
          "align": "right",
          "font": {
           "color": "rgb(255, 255, 255)",
           "family": "Arial",
           "size": 14
          },
          "showarrow": false,
          "text": "Эмоциональный вклад ",
          "x": 0.14,
          "xanchor": "right",
          "xref": "paper",
          "y": "Эмоциональный вклад ",
          "yref": "y"
         },
         {
          "font": {
           "color": "rgb(0, 0, 0)",
           "family": "Arial",
           "size": 14
          },
          "showarrow": false,
          "text": "50%",
          "x": 0.25,
          "xref": "x",
          "y": "Эмоциональный вклад ",
          "yref": "y"
         },
         {
          "font": {
           "color": "rgb(0, 0, 0)",
           "family": "Arial",
           "size": 14
          },
          "showarrow": false,
          "text": "50%",
          "x": 0.75,
          "xref": "x",
          "y": "Эмоциональный вклад ",
          "yref": "y"
         },
         {
          "align": "right",
          "font": {
           "color": "rgb(255, 255, 255)",
           "family": "Arial",
           "size": 14
          },
          "showarrow": false,
          "text": "Предоставление информации по ключевым изменениям в компании ",
          "x": 0.14,
          "xanchor": "right",
          "xref": "paper",
          "y": "Предоставление информации по ключевым изменениям в компании ",
          "yref": "y"
         },
         {
          "font": {
           "color": "rgb(0, 0, 0)",
           "family": "Arial",
           "size": 14
          },
          "showarrow": false,
          "text": "50%",
          "x": 0.25,
          "xref": "x",
          "y": "Предоставление информации по ключевым изменениям в компании ",
          "yref": "y"
         },
         {
          "font": {
           "color": "rgb(0, 0, 0)",
           "family": "Arial",
           "size": 14
          },
          "showarrow": false,
          "text": "50%",
          "x": 0.75,
          "xref": "x",
          "y": "Предоставление информации по ключевым изменениям в компании ",
          "yref": "y"
         }
        ],
        "barmode": "stack",
        "margin": {
         "b": 80,
         "l": 300,
         "r": 10,
         "t": 140
        },
        "paper_bgcolor": "rgb(0, 0, 0)",
        "plot_bgcolor": "rgb(0, 0, 0)",
        "showlegend": false,
        "template": {
         "data": {
          "bar": [
           {
            "error_x": {
             "color": "#2a3f5f"
            },
            "error_y": {
             "color": "#2a3f5f"
            },
            "marker": {
             "line": {
              "color": "#E5ECF6",
              "width": 0.5
             },
             "pattern": {
              "fillmode": "overlay",
              "size": 10,
              "solidity": 0.2
             }
            },
            "type": "bar"
           }
          ],
          "barpolar": [
           {
            "marker": {
             "line": {
              "color": "#E5ECF6",
              "width": 0.5
             },
             "pattern": {
              "fillmode": "overlay",
              "size": 10,
              "solidity": 0.2
             }
            },
            "type": "barpolar"
           }
          ],
          "carpet": [
           {
            "aaxis": {
             "endlinecolor": "#2a3f5f",
             "gridcolor": "white",
             "linecolor": "white",
             "minorgridcolor": "white",
             "startlinecolor": "#2a3f5f"
            },
            "baxis": {
             "endlinecolor": "#2a3f5f",
             "gridcolor": "white",
             "linecolor": "white",
             "minorgridcolor": "white",
             "startlinecolor": "#2a3f5f"
            },
            "type": "carpet"
           }
          ],
          "choropleth": [
           {
            "colorbar": {
             "outlinewidth": 0,
             "ticks": ""
            },
            "type": "choropleth"
           }
          ],
          "contour": [
           {
            "colorbar": {
             "outlinewidth": 0,
             "ticks": ""
            },
            "colorscale": [
             [
              0,
              "#0d0887"
             ],
             [
              0.1111111111111111,
              "#46039f"
             ],
             [
              0.2222222222222222,
              "#7201a8"
             ],
             [
              0.3333333333333333,
              "#9c179e"
             ],
             [
              0.4444444444444444,
              "#bd3786"
             ],
             [
              0.5555555555555556,
              "#d8576b"
             ],
             [
              0.6666666666666666,
              "#ed7953"
             ],
             [
              0.7777777777777778,
              "#fb9f3a"
             ],
             [
              0.8888888888888888,
              "#fdca26"
             ],
             [
              1,
              "#f0f921"
             ]
            ],
            "type": "contour"
           }
          ],
          "contourcarpet": [
           {
            "colorbar": {
             "outlinewidth": 0,
             "ticks": ""
            },
            "type": "contourcarpet"
           }
          ],
          "heatmap": [
           {
            "colorbar": {
             "outlinewidth": 0,
             "ticks": ""
            },
            "colorscale": [
             [
              0,
              "#0d0887"
             ],
             [
              0.1111111111111111,
              "#46039f"
             ],
             [
              0.2222222222222222,
              "#7201a8"
             ],
             [
              0.3333333333333333,
              "#9c179e"
             ],
             [
              0.4444444444444444,
              "#bd3786"
             ],
             [
              0.5555555555555556,
              "#d8576b"
             ],
             [
              0.6666666666666666,
              "#ed7953"
             ],
             [
              0.7777777777777778,
              "#fb9f3a"
             ],
             [
              0.8888888888888888,
              "#fdca26"
             ],
             [
              1,
              "#f0f921"
             ]
            ],
            "type": "heatmap"
           }
          ],
          "histogram": [
           {
            "marker": {
             "pattern": {
              "fillmode": "overlay",
              "size": 10,
              "solidity": 0.2
             }
            },
            "type": "histogram"
           }
          ],
          "histogram2d": [
           {
            "colorbar": {
             "outlinewidth": 0,
             "ticks": ""
            },
            "colorscale": [
             [
              0,
              "#0d0887"
             ],
             [
              0.1111111111111111,
              "#46039f"
             ],
             [
              0.2222222222222222,
              "#7201a8"
             ],
             [
              0.3333333333333333,
              "#9c179e"
             ],
             [
              0.4444444444444444,
              "#bd3786"
             ],
             [
              0.5555555555555556,
              "#d8576b"
             ],
             [
              0.6666666666666666,
              "#ed7953"
             ],
             [
              0.7777777777777778,
              "#fb9f3a"
             ],
             [
              0.8888888888888888,
              "#fdca26"
             ],
             [
              1,
              "#f0f921"
             ]
            ],
            "type": "histogram2d"
           }
          ],
          "histogram2dcontour": [
           {
            "colorbar": {
             "outlinewidth": 0,
             "ticks": ""
            },
            "colorscale": [
             [
              0,
              "#0d0887"
             ],
             [
              0.1111111111111111,
              "#46039f"
             ],
             [
              0.2222222222222222,
              "#7201a8"
             ],
             [
              0.3333333333333333,
              "#9c179e"
             ],
             [
              0.4444444444444444,
              "#bd3786"
             ],
             [
              0.5555555555555556,
              "#d8576b"
             ],
             [
              0.6666666666666666,
              "#ed7953"
             ],
             [
              0.7777777777777778,
              "#fb9f3a"
             ],
             [
              0.8888888888888888,
              "#fdca26"
             ],
             [
              1,
              "#f0f921"
             ]
            ],
            "type": "histogram2dcontour"
           }
          ],
          "mesh3d": [
           {
            "colorbar": {
             "outlinewidth": 0,
             "ticks": ""
            },
            "type": "mesh3d"
           }
          ],
          "parcoords": [
           {
            "line": {
             "colorbar": {
              "outlinewidth": 0,
              "ticks": ""
             }
            },
            "type": "parcoords"
           }
          ],
          "pie": [
           {
            "automargin": true,
            "type": "pie"
           }
          ],
          "scatter": [
           {
            "fillpattern": {
             "fillmode": "overlay",
             "size": 10,
             "solidity": 0.2
            },
            "type": "scatter"
           }
          ],
          "scatter3d": [
           {
            "line": {
             "colorbar": {
              "outlinewidth": 0,
              "ticks": ""
             }
            },
            "marker": {
             "colorbar": {
              "outlinewidth": 0,
              "ticks": ""
             }
            },
            "type": "scatter3d"
           }
          ],
          "scattercarpet": [
           {
            "marker": {
             "colorbar": {
              "outlinewidth": 0,
              "ticks": ""
             }
            },
            "type": "scattercarpet"
           }
          ],
          "scattergeo": [
           {
            "marker": {
             "colorbar": {
              "outlinewidth": 0,
              "ticks": ""
             }
            },
            "type": "scattergeo"
           }
          ],
          "scattergl": [
           {
            "marker": {
             "colorbar": {
              "outlinewidth": 0,
              "ticks": ""
             }
            },
            "type": "scattergl"
           }
          ],
          "scattermap": [
           {
            "marker": {
             "colorbar": {
              "outlinewidth": 0,
              "ticks": ""
             }
            },
            "type": "scattermap"
           }
          ],
          "scattermapbox": [
           {
            "marker": {
             "colorbar": {
              "outlinewidth": 0,
              "ticks": ""
             }
            },
            "type": "scattermapbox"
           }
          ],
          "scatterpolar": [
           {
            "marker": {
             "colorbar": {
              "outlinewidth": 0,
              "ticks": ""
             }
            },
            "type": "scatterpolar"
           }
          ],
          "scatterpolargl": [
           {
            "marker": {
             "colorbar": {
              "outlinewidth": 0,
              "ticks": ""
             }
            },
            "type": "scatterpolargl"
           }
          ],
          "scatterternary": [
           {
            "marker": {
             "colorbar": {
              "outlinewidth": 0,
              "ticks": ""
             }
            },
            "type": "scatterternary"
           }
          ],
          "surface": [
           {
            "colorbar": {
             "outlinewidth": 0,
             "ticks": ""
            },
            "colorscale": [
             [
              0,
              "#0d0887"
             ],
             [
              0.1111111111111111,
              "#46039f"
             ],
             [
              0.2222222222222222,
              "#7201a8"
             ],
             [
              0.3333333333333333,
              "#9c179e"
             ],
             [
              0.4444444444444444,
              "#bd3786"
             ],
             [
              0.5555555555555556,
              "#d8576b"
             ],
             [
              0.6666666666666666,
              "#ed7953"
             ],
             [
              0.7777777777777778,
              "#fb9f3a"
             ],
             [
              0.8888888888888888,
              "#fdca26"
             ],
             [
              1,
              "#f0f921"
             ]
            ],
            "type": "surface"
           }
          ],
          "table": [
           {
            "cells": {
             "fill": {
              "color": "#EBF0F8"
             },
             "line": {
              "color": "white"
             }
            },
            "header": {
             "fill": {
              "color": "#C8D4E3"
             },
             "line": {
              "color": "white"
             }
            },
            "type": "table"
           }
          ]
         },
         "layout": {
          "annotationdefaults": {
           "arrowcolor": "#2a3f5f",
           "arrowhead": 0,
           "arrowwidth": 1
          },
          "autotypenumbers": "strict",
          "coloraxis": {
           "colorbar": {
            "outlinewidth": 0,
            "ticks": ""
           }
          },
          "colorscale": {
           "diverging": [
            [
             0,
             "#8e0152"
            ],
            [
             0.1,
             "#c51b7d"
            ],
            [
             0.2,
             "#de77ae"
            ],
            [
             0.3,
             "#f1b6da"
            ],
            [
             0.4,
             "#fde0ef"
            ],
            [
             0.5,
             "#f7f7f7"
            ],
            [
             0.6,
             "#e6f5d0"
            ],
            [
             0.7,
             "#b8e186"
            ],
            [
             0.8,
             "#7fbc41"
            ],
            [
             0.9,
             "#4d9221"
            ],
            [
             1,
             "#276419"
            ]
           ],
           "sequential": [
            [
             0,
             "#0d0887"
            ],
            [
             0.1111111111111111,
             "#46039f"
            ],
            [
             0.2222222222222222,
             "#7201a8"
            ],
            [
             0.3333333333333333,
             "#9c179e"
            ],
            [
             0.4444444444444444,
             "#bd3786"
            ],
            [
             0.5555555555555556,
             "#d8576b"
            ],
            [
             0.6666666666666666,
             "#ed7953"
            ],
            [
             0.7777777777777778,
             "#fb9f3a"
            ],
            [
             0.8888888888888888,
             "#fdca26"
            ],
            [
             1,
             "#f0f921"
            ]
           ],
           "sequentialminus": [
            [
             0,
             "#0d0887"
            ],
            [
             0.1111111111111111,
             "#46039f"
            ],
            [
             0.2222222222222222,
             "#7201a8"
            ],
            [
             0.3333333333333333,
             "#9c179e"
            ],
            [
             0.4444444444444444,
             "#bd3786"
            ],
            [
             0.5555555555555556,
             "#d8576b"
            ],
            [
             0.6666666666666666,
             "#ed7953"
            ],
            [
             0.7777777777777778,
             "#fb9f3a"
            ],
            [
             0.8888888888888888,
             "#fdca26"
            ],
            [
             1,
             "#f0f921"
            ]
           ]
          },
          "colorway": [
           "#636efa",
           "#EF553B",
           "#00cc96",
           "#ab63fa",
           "#FFA15A",
           "#19d3f3",
           "#FF6692",
           "#B6E880",
           "#FF97FF",
           "#FECB52"
          ],
          "font": {
           "color": "#2a3f5f"
          },
          "geo": {
           "bgcolor": "white",
           "lakecolor": "white",
           "landcolor": "#E5ECF6",
           "showlakes": true,
           "showland": true,
           "subunitcolor": "white"
          },
          "hoverlabel": {
           "align": "left"
          },
          "hovermode": "closest",
          "mapbox": {
           "style": "light"
          },
          "paper_bgcolor": "white",
          "plot_bgcolor": "#E5ECF6",
          "polar": {
           "angularaxis": {
            "gridcolor": "white",
            "linecolor": "white",
            "ticks": ""
           },
           "bgcolor": "#E5ECF6",
           "radialaxis": {
            "gridcolor": "white",
            "linecolor": "white",
            "ticks": ""
           }
          },
          "scene": {
           "xaxis": {
            "backgroundcolor": "#E5ECF6",
            "gridcolor": "white",
            "gridwidth": 2,
            "linecolor": "white",
            "showbackground": true,
            "ticks": "",
            "zerolinecolor": "white"
           },
           "yaxis": {
            "backgroundcolor": "#E5ECF6",
            "gridcolor": "white",
            "gridwidth": 2,
            "linecolor": "white",
            "showbackground": true,
            "ticks": "",
            "zerolinecolor": "white"
           },
           "zaxis": {
            "backgroundcolor": "#E5ECF6",
            "gridcolor": "white",
            "gridwidth": 2,
            "linecolor": "white",
            "showbackground": true,
            "ticks": "",
            "zerolinecolor": "white"
           }
          },
          "shapedefaults": {
           "line": {
            "color": "#2a3f5f"
           }
          },
          "ternary": {
           "aaxis": {
            "gridcolor": "white",
            "linecolor": "white",
            "ticks": ""
           },
           "baxis": {
            "gridcolor": "white",
            "linecolor": "white",
            "ticks": ""
           },
           "bgcolor": "#E5ECF6",
           "caxis": {
            "gridcolor": "white",
            "linecolor": "white",
            "ticks": ""
           }
          },
          "title": {
           "x": 0.05
          },
          "xaxis": {
           "automargin": true,
           "gridcolor": "white",
           "linecolor": "white",
           "ticks": "",
           "title": {
            "standoff": 15
           },
           "zerolinecolor": "white",
           "zerolinewidth": 2
          },
          "yaxis": {
           "automargin": true,
           "gridcolor": "white",
           "linecolor": "white",
           "ticks": "",
           "title": {
            "standoff": 15
           },
           "zerolinecolor": "white",
           "zerolinewidth": 2
          }
         }
        },
        "title": {
         "font": {
          "color": "rgb(255, 255, 255)",
          "size": 50
         },
         "text": "Вышестоящий руководитель",
         "x": 0.5
        },
        "xaxis": {
         "color": "white",
         "domain": [
          0.15,
          1
         ],
         "showgrid": true,
         "showline": false,
         "showticklabels": true,
         "tickformat": "0.00%",
         "zeroline": true
        },
        "yaxis": {
         "showgrid": false,
         "showline": false,
         "showticklabels": false,
         "zeroline": false
        }
       }
      }
     },
     "metadata": {},
     "output_type": "display_data"
    }
   ],
   "source": [
    "create_plot(\"Пушкин Иванович Валерий\", \"Вышестоящий руководитель\", collector)"
   ]
  },
  {
   "cell_type": "code",
   "execution_count": 12,
   "metadata": {},
   "outputs": [
    {
     "data": {
      "application/vnd.plotly.v1+json": {
       "config": {
        "plotlyServerURL": "https://plot.ly"
       },
       "data": [
        {
         "marker": {
          "color": "rgba(168,209,141,0.8)",
          "line": {
           "width": 0
          }
         },
         "orientation": "h",
         "type": "bar",
         "width": 0.5,
         "x": [
          1
         ],
         "y": [
          "Объединение кроссфункциональной команды"
         ]
        },
        {
         "marker": {
          "color": "rgba(168,209,141,0.8)",
          "line": {
           "width": 0
          }
         },
         "orientation": "h",
         "type": "bar",
         "width": 0.5,
         "x": [
          1
         ],
         "y": [
          "Эмоциональный настрой в команде"
         ]
        },
        {
         "marker": {
          "color": "rgba(168,209,141,0.8)",
          "line": {
           "width": 0
          }
         },
         "orientation": "h",
         "type": "bar",
         "width": 0.5,
         "x": [
          1
         ],
         "y": [
          "Предоставление информации по ключевым изминениям в компании"
         ]
        },
        {
         "marker": {
          "color": "rgba(251,114,134,0.8)",
          "line": {
           "width": 0
          }
         },
         "orientation": "h",
         "type": "bar",
         "width": 0.5,
         "x": [
          0
         ],
         "y": [
          "Объединение кроссфункциональной команды"
         ]
        },
        {
         "marker": {
          "color": "rgba(251,114,134,0.8)",
          "line": {
           "width": 0
          }
         },
         "orientation": "h",
         "type": "bar",
         "width": 0.5,
         "x": [
          0
         ],
         "y": [
          "Эмоциональный настрой в команде"
         ]
        },
        {
         "marker": {
          "color": "rgba(251,114,134,0.8)",
          "line": {
           "width": 0
          }
         },
         "orientation": "h",
         "type": "bar",
         "width": 0.5,
         "x": [
          0
         ],
         "y": [
          "Предоставление информации по ключевым изминениям в компании"
         ]
        }
       ],
       "layout": {
        "annotations": [
         {
          "align": "right",
          "font": {
           "color": "rgb(255, 255, 255)",
           "family": "Arial",
           "size": 14
          },
          "showarrow": false,
          "text": "Объединение кроссфункциональной команды",
          "x": 0.14,
          "xanchor": "right",
          "xref": "paper",
          "y": "Объединение кроссфункциональной команды",
          "yref": "y"
         },
         {
          "font": {
           "color": "rgb(0, 0, 0)",
           "family": "Arial",
           "size": 14
          },
          "showarrow": false,
          "text": "100%",
          "x": 0.5,
          "xref": "x",
          "y": "Объединение кроссфункциональной команды",
          "yref": "y"
         },
         {
          "align": "right",
          "font": {
           "color": "rgb(255, 255, 255)",
           "family": "Arial",
           "size": 14
          },
          "showarrow": false,
          "text": "Эмоциональный настрой в команде",
          "x": 0.14,
          "xanchor": "right",
          "xref": "paper",
          "y": "Эмоциональный настрой в команде",
          "yref": "y"
         },
         {
          "font": {
           "color": "rgb(0, 0, 0)",
           "family": "Arial",
           "size": 14
          },
          "showarrow": false,
          "text": "100%",
          "x": 0.5,
          "xref": "x",
          "y": "Эмоциональный настрой в команде",
          "yref": "y"
         },
         {
          "align": "right",
          "font": {
           "color": "rgb(255, 255, 255)",
           "family": "Arial",
           "size": 14
          },
          "showarrow": false,
          "text": "Предоставление информации по ключевым изминениям в компании",
          "x": 0.14,
          "xanchor": "right",
          "xref": "paper",
          "y": "Предоставление информации по ключевым изминениям в компании",
          "yref": "y"
         },
         {
          "font": {
           "color": "rgb(0, 0, 0)",
           "family": "Arial",
           "size": 14
          },
          "showarrow": false,
          "text": "100%",
          "x": 0.5,
          "xref": "x",
          "y": "Предоставление информации по ключевым изминениям в компании",
          "yref": "y"
         }
        ],
        "barmode": "stack",
        "margin": {
         "b": 80,
         "l": 300,
         "r": 10,
         "t": 140
        },
        "paper_bgcolor": "rgb(0, 0, 0)",
        "plot_bgcolor": "rgb(0, 0, 0)",
        "showlegend": false,
        "template": {
         "data": {
          "bar": [
           {
            "error_x": {
             "color": "#2a3f5f"
            },
            "error_y": {
             "color": "#2a3f5f"
            },
            "marker": {
             "line": {
              "color": "#E5ECF6",
              "width": 0.5
             },
             "pattern": {
              "fillmode": "overlay",
              "size": 10,
              "solidity": 0.2
             }
            },
            "type": "bar"
           }
          ],
          "barpolar": [
           {
            "marker": {
             "line": {
              "color": "#E5ECF6",
              "width": 0.5
             },
             "pattern": {
              "fillmode": "overlay",
              "size": 10,
              "solidity": 0.2
             }
            },
            "type": "barpolar"
           }
          ],
          "carpet": [
           {
            "aaxis": {
             "endlinecolor": "#2a3f5f",
             "gridcolor": "white",
             "linecolor": "white",
             "minorgridcolor": "white",
             "startlinecolor": "#2a3f5f"
            },
            "baxis": {
             "endlinecolor": "#2a3f5f",
             "gridcolor": "white",
             "linecolor": "white",
             "minorgridcolor": "white",
             "startlinecolor": "#2a3f5f"
            },
            "type": "carpet"
           }
          ],
          "choropleth": [
           {
            "colorbar": {
             "outlinewidth": 0,
             "ticks": ""
            },
            "type": "choropleth"
           }
          ],
          "contour": [
           {
            "colorbar": {
             "outlinewidth": 0,
             "ticks": ""
            },
            "colorscale": [
             [
              0,
              "#0d0887"
             ],
             [
              0.1111111111111111,
              "#46039f"
             ],
             [
              0.2222222222222222,
              "#7201a8"
             ],
             [
              0.3333333333333333,
              "#9c179e"
             ],
             [
              0.4444444444444444,
              "#bd3786"
             ],
             [
              0.5555555555555556,
              "#d8576b"
             ],
             [
              0.6666666666666666,
              "#ed7953"
             ],
             [
              0.7777777777777778,
              "#fb9f3a"
             ],
             [
              0.8888888888888888,
              "#fdca26"
             ],
             [
              1,
              "#f0f921"
             ]
            ],
            "type": "contour"
           }
          ],
          "contourcarpet": [
           {
            "colorbar": {
             "outlinewidth": 0,
             "ticks": ""
            },
            "type": "contourcarpet"
           }
          ],
          "heatmap": [
           {
            "colorbar": {
             "outlinewidth": 0,
             "ticks": ""
            },
            "colorscale": [
             [
              0,
              "#0d0887"
             ],
             [
              0.1111111111111111,
              "#46039f"
             ],
             [
              0.2222222222222222,
              "#7201a8"
             ],
             [
              0.3333333333333333,
              "#9c179e"
             ],
             [
              0.4444444444444444,
              "#bd3786"
             ],
             [
              0.5555555555555556,
              "#d8576b"
             ],
             [
              0.6666666666666666,
              "#ed7953"
             ],
             [
              0.7777777777777778,
              "#fb9f3a"
             ],
             [
              0.8888888888888888,
              "#fdca26"
             ],
             [
              1,
              "#f0f921"
             ]
            ],
            "type": "heatmap"
           }
          ],
          "histogram": [
           {
            "marker": {
             "pattern": {
              "fillmode": "overlay",
              "size": 10,
              "solidity": 0.2
             }
            },
            "type": "histogram"
           }
          ],
          "histogram2d": [
           {
            "colorbar": {
             "outlinewidth": 0,
             "ticks": ""
            },
            "colorscale": [
             [
              0,
              "#0d0887"
             ],
             [
              0.1111111111111111,
              "#46039f"
             ],
             [
              0.2222222222222222,
              "#7201a8"
             ],
             [
              0.3333333333333333,
              "#9c179e"
             ],
             [
              0.4444444444444444,
              "#bd3786"
             ],
             [
              0.5555555555555556,
              "#d8576b"
             ],
             [
              0.6666666666666666,
              "#ed7953"
             ],
             [
              0.7777777777777778,
              "#fb9f3a"
             ],
             [
              0.8888888888888888,
              "#fdca26"
             ],
             [
              1,
              "#f0f921"
             ]
            ],
            "type": "histogram2d"
           }
          ],
          "histogram2dcontour": [
           {
            "colorbar": {
             "outlinewidth": 0,
             "ticks": ""
            },
            "colorscale": [
             [
              0,
              "#0d0887"
             ],
             [
              0.1111111111111111,
              "#46039f"
             ],
             [
              0.2222222222222222,
              "#7201a8"
             ],
             [
              0.3333333333333333,
              "#9c179e"
             ],
             [
              0.4444444444444444,
              "#bd3786"
             ],
             [
              0.5555555555555556,
              "#d8576b"
             ],
             [
              0.6666666666666666,
              "#ed7953"
             ],
             [
              0.7777777777777778,
              "#fb9f3a"
             ],
             [
              0.8888888888888888,
              "#fdca26"
             ],
             [
              1,
              "#f0f921"
             ]
            ],
            "type": "histogram2dcontour"
           }
          ],
          "mesh3d": [
           {
            "colorbar": {
             "outlinewidth": 0,
             "ticks": ""
            },
            "type": "mesh3d"
           }
          ],
          "parcoords": [
           {
            "line": {
             "colorbar": {
              "outlinewidth": 0,
              "ticks": ""
             }
            },
            "type": "parcoords"
           }
          ],
          "pie": [
           {
            "automargin": true,
            "type": "pie"
           }
          ],
          "scatter": [
           {
            "fillpattern": {
             "fillmode": "overlay",
             "size": 10,
             "solidity": 0.2
            },
            "type": "scatter"
           }
          ],
          "scatter3d": [
           {
            "line": {
             "colorbar": {
              "outlinewidth": 0,
              "ticks": ""
             }
            },
            "marker": {
             "colorbar": {
              "outlinewidth": 0,
              "ticks": ""
             }
            },
            "type": "scatter3d"
           }
          ],
          "scattercarpet": [
           {
            "marker": {
             "colorbar": {
              "outlinewidth": 0,
              "ticks": ""
             }
            },
            "type": "scattercarpet"
           }
          ],
          "scattergeo": [
           {
            "marker": {
             "colorbar": {
              "outlinewidth": 0,
              "ticks": ""
             }
            },
            "type": "scattergeo"
           }
          ],
          "scattergl": [
           {
            "marker": {
             "colorbar": {
              "outlinewidth": 0,
              "ticks": ""
             }
            },
            "type": "scattergl"
           }
          ],
          "scattermap": [
           {
            "marker": {
             "colorbar": {
              "outlinewidth": 0,
              "ticks": ""
             }
            },
            "type": "scattermap"
           }
          ],
          "scattermapbox": [
           {
            "marker": {
             "colorbar": {
              "outlinewidth": 0,
              "ticks": ""
             }
            },
            "type": "scattermapbox"
           }
          ],
          "scatterpolar": [
           {
            "marker": {
             "colorbar": {
              "outlinewidth": 0,
              "ticks": ""
             }
            },
            "type": "scatterpolar"
           }
          ],
          "scatterpolargl": [
           {
            "marker": {
             "colorbar": {
              "outlinewidth": 0,
              "ticks": ""
             }
            },
            "type": "scatterpolargl"
           }
          ],
          "scatterternary": [
           {
            "marker": {
             "colorbar": {
              "outlinewidth": 0,
              "ticks": ""
             }
            },
            "type": "scatterternary"
           }
          ],
          "surface": [
           {
            "colorbar": {
             "outlinewidth": 0,
             "ticks": ""
            },
            "colorscale": [
             [
              0,
              "#0d0887"
             ],
             [
              0.1111111111111111,
              "#46039f"
             ],
             [
              0.2222222222222222,
              "#7201a8"
             ],
             [
              0.3333333333333333,
              "#9c179e"
             ],
             [
              0.4444444444444444,
              "#bd3786"
             ],
             [
              0.5555555555555556,
              "#d8576b"
             ],
             [
              0.6666666666666666,
              "#ed7953"
             ],
             [
              0.7777777777777778,
              "#fb9f3a"
             ],
             [
              0.8888888888888888,
              "#fdca26"
             ],
             [
              1,
              "#f0f921"
             ]
            ],
            "type": "surface"
           }
          ],
          "table": [
           {
            "cells": {
             "fill": {
              "color": "#EBF0F8"
             },
             "line": {
              "color": "white"
             }
            },
            "header": {
             "fill": {
              "color": "#C8D4E3"
             },
             "line": {
              "color": "white"
             }
            },
            "type": "table"
           }
          ]
         },
         "layout": {
          "annotationdefaults": {
           "arrowcolor": "#2a3f5f",
           "arrowhead": 0,
           "arrowwidth": 1
          },
          "autotypenumbers": "strict",
          "coloraxis": {
           "colorbar": {
            "outlinewidth": 0,
            "ticks": ""
           }
          },
          "colorscale": {
           "diverging": [
            [
             0,
             "#8e0152"
            ],
            [
             0.1,
             "#c51b7d"
            ],
            [
             0.2,
             "#de77ae"
            ],
            [
             0.3,
             "#f1b6da"
            ],
            [
             0.4,
             "#fde0ef"
            ],
            [
             0.5,
             "#f7f7f7"
            ],
            [
             0.6,
             "#e6f5d0"
            ],
            [
             0.7,
             "#b8e186"
            ],
            [
             0.8,
             "#7fbc41"
            ],
            [
             0.9,
             "#4d9221"
            ],
            [
             1,
             "#276419"
            ]
           ],
           "sequential": [
            [
             0,
             "#0d0887"
            ],
            [
             0.1111111111111111,
             "#46039f"
            ],
            [
             0.2222222222222222,
             "#7201a8"
            ],
            [
             0.3333333333333333,
             "#9c179e"
            ],
            [
             0.4444444444444444,
             "#bd3786"
            ],
            [
             0.5555555555555556,
             "#d8576b"
            ],
            [
             0.6666666666666666,
             "#ed7953"
            ],
            [
             0.7777777777777778,
             "#fb9f3a"
            ],
            [
             0.8888888888888888,
             "#fdca26"
            ],
            [
             1,
             "#f0f921"
            ]
           ],
           "sequentialminus": [
            [
             0,
             "#0d0887"
            ],
            [
             0.1111111111111111,
             "#46039f"
            ],
            [
             0.2222222222222222,
             "#7201a8"
            ],
            [
             0.3333333333333333,
             "#9c179e"
            ],
            [
             0.4444444444444444,
             "#bd3786"
            ],
            [
             0.5555555555555556,
             "#d8576b"
            ],
            [
             0.6666666666666666,
             "#ed7953"
            ],
            [
             0.7777777777777778,
             "#fb9f3a"
            ],
            [
             0.8888888888888888,
             "#fdca26"
            ],
            [
             1,
             "#f0f921"
            ]
           ]
          },
          "colorway": [
           "#636efa",
           "#EF553B",
           "#00cc96",
           "#ab63fa",
           "#FFA15A",
           "#19d3f3",
           "#FF6692",
           "#B6E880",
           "#FF97FF",
           "#FECB52"
          ],
          "font": {
           "color": "#2a3f5f"
          },
          "geo": {
           "bgcolor": "white",
           "lakecolor": "white",
           "landcolor": "#E5ECF6",
           "showlakes": true,
           "showland": true,
           "subunitcolor": "white"
          },
          "hoverlabel": {
           "align": "left"
          },
          "hovermode": "closest",
          "mapbox": {
           "style": "light"
          },
          "paper_bgcolor": "white",
          "plot_bgcolor": "#E5ECF6",
          "polar": {
           "angularaxis": {
            "gridcolor": "white",
            "linecolor": "white",
            "ticks": ""
           },
           "bgcolor": "#E5ECF6",
           "radialaxis": {
            "gridcolor": "white",
            "linecolor": "white",
            "ticks": ""
           }
          },
          "scene": {
           "xaxis": {
            "backgroundcolor": "#E5ECF6",
            "gridcolor": "white",
            "gridwidth": 2,
            "linecolor": "white",
            "showbackground": true,
            "ticks": "",
            "zerolinecolor": "white"
           },
           "yaxis": {
            "backgroundcolor": "#E5ECF6",
            "gridcolor": "white",
            "gridwidth": 2,
            "linecolor": "white",
            "showbackground": true,
            "ticks": "",
            "zerolinecolor": "white"
           },
           "zaxis": {
            "backgroundcolor": "#E5ECF6",
            "gridcolor": "white",
            "gridwidth": 2,
            "linecolor": "white",
            "showbackground": true,
            "ticks": "",
            "zerolinecolor": "white"
           }
          },
          "shapedefaults": {
           "line": {
            "color": "#2a3f5f"
           }
          },
          "ternary": {
           "aaxis": {
            "gridcolor": "white",
            "linecolor": "white",
            "ticks": ""
           },
           "baxis": {
            "gridcolor": "white",
            "linecolor": "white",
            "ticks": ""
           },
           "bgcolor": "#E5ECF6",
           "caxis": {
            "gridcolor": "white",
            "linecolor": "white",
            "ticks": ""
           }
          },
          "title": {
           "x": 0.05
          },
          "xaxis": {
           "automargin": true,
           "gridcolor": "white",
           "linecolor": "white",
           "ticks": "",
           "title": {
            "standoff": 15
           },
           "zerolinecolor": "white",
           "zerolinewidth": 2
          },
          "yaxis": {
           "automargin": true,
           "gridcolor": "white",
           "linecolor": "white",
           "ticks": "",
           "title": {
            "standoff": 15
           },
           "zerolinecolor": "white",
           "zerolinewidth": 2
          }
         }
        },
        "title": {
         "font": {
          "color": "rgb(255, 255, 255)",
          "size": 50
         },
         "text": "Функциональный руководитель",
         "x": 0.5
        },
        "xaxis": {
         "color": "white",
         "domain": [
          0.15,
          1
         ],
         "showgrid": true,
         "showline": false,
         "showticklabels": true,
         "tickformat": "0.00%",
         "zeroline": true
        },
        "yaxis": {
         "showgrid": false,
         "showline": false,
         "showticklabels": false,
         "zeroline": false
        }
       }
      }
     },
     "metadata": {},
     "output_type": "display_data"
    }
   ],
   "source": [
    "create_plot(\"Александр Альфонс\", \"Функциональный руководитель\", collector)"
   ]
  },
  {
   "cell_type": "markdown",
   "metadata": {},
   "source": [
    "Общая оценка экспертности по компании"
   ]
  },
  {
   "cell_type": "code",
   "execution_count": 13,
   "metadata": {},
   "outputs": [
    {
     "name": "stdout",
     "output_type": "stream",
     "text": [
      "8.45374449339207\n",
      "{'Экспертность непосредственного руководителя': 8.45374449339207, 'Overall': 8.45374449339207}\n",
      "{'Экспертность непосредственного руководителя': 8.45374449339207, 'Экспертность вышестоящего руководителя': 8.384615384615385, 'Overall': 8.433962264150944}\n",
      "{'Экспертность непосредственного руководителя': 8.45374449339207, 'Экспертность вышестоящего руководителя': 8.384615384615385, 'Экспертность функционального руководителя': 7.5, 'Overall': 8.338983050847459}\n"
     ]
    }
   ],
   "source": [
    "print(collector.get_average_rating(4))\n",
    "print(collector.get_average_rating([4]))\n",
    "print(collector.get_average_rating([4,11]))\n",
    "print(collector.get_average_rating([4,11,20]))"
   ]
  },
  {
   "cell_type": "code",
   "execution_count": null,
   "metadata": {},
   "outputs": [
    {
     "name": "stdout",
     "output_type": "stream",
     "text": [
      "0: text\n",
      "\"Оценка руководителей\"\n",
      "1: chart\n",
      "2: chart\n",
      "3: text\n",
      "\"Обратная связь\"\n",
      "4: text\n",
      "\"Обратная связь\"\n",
      "5: text\n",
      "\"ФИО руководителя подразделения\"\n"
     ]
    }
   ],
   "source": [
    "from pptx import Presentation\n",
    "from pptx_utilities import select_slides, update_cards, update_text, update_table_cell, update_chart, create_slides_three_levels\n",
    "\n",
    "def create_slides_l1(name: str, collector: DataCollector):\n",
    "    pres = Presentation(\"resources\\\\Шаблон отчета.pptx\")\n",
    "    default_msg = \"Недостаточно данных\"\n",
    "    select_slides(pres, [3])\n",
    "    report = collector.get_person_report(name, \"Непосредственный руководитель\")\n",
    "\n",
    "    #set positive/negative sides\n",
    "    update_cards(pres.slides[0], report)\n",
    "\n",
    "    #set name\n",
    "    update_text(pres.slides[0].shapes[1].text_frame, name)\n",
    "\n",
    "    #set feedback\n",
    "    feedback = \"Обратная связь:\\n\" + report[\"Обратная связь, непосредственный руководитель_feedback\"]\n",
    "    feedback = default_msg if report[\"Обратная связь, непосредственный руководитель_count\"] < 2 else feedback\n",
    "    update_text(pres.slides[0].shapes[3].text_frame, feedback)\n",
    "\n",
    "    #set ratings\n",
    "    ratings = collector.get_person_ratings(name)\n",
    "    rating = default_msg if ratings[0][1] < 2 else f\"{ratings[0][0]:.1f}\"\n",
    "    update_table_cell(pres.slides[0].shapes[2].table, 1, 1, rating)\n",
    "    overall_rating = collector.get_average_rating([4,11,20])[\"Overall\"]\n",
    "    update_table_cell(pres.slides[0].shapes[2].table, 1, 2, f\"{overall_rating:.2f}\")\n",
    "    \n",
    "    pres.save(f\"outputs\\\\{name}.pptx\")\n",
    "\n",
    "def create_slides_l123(name: str, collector: DataCollector):\n",
    "    pres = Presentation(\"resources\\\\Шаблон отчета.pptx\")\n",
    "    default_msg = \"Недостаточно данных\"\n",
    "    select_slides(pres, [1,2])\n",
    "    report = collector.get_person_report(name)\n",
    "\n",
    "    #update charts\n",
    "    update_chart(pres.slides[0].shapes[3].chart, collector.get_select_vals_for_plot(name, \"Непосредственный руководитель\"))\n",
    "    update_chart(pres.slides[1].shapes[1].chart, collector.get_select_vals_for_plot(name, \"Вышестоящий руководитель\"))\n",
    "    update_chart(pres.slides[1].shapes[2].chart, collector.get_select_vals_for_plot(name, \"Функциональный руководитель\"))\n",
    "\n",
    "    #set name\n",
    "    update_text(pres.slides[0].shapes[1].text_frame, name)\n",
    "    update_text(pres.slides[1].shapes[5].text_frame, name)\n",
    "\n",
    "    #set feedback\n",
    "    feedback = default_msg if report[\"Обратная связь, непосредственный руководитель_count\"] < 2 else \"Обратная связь:\\n\" + report[\"Обратная связь, непосредственный руководитель_feedback\"]\n",
    "    update_text(pres.slides[0].shapes[4].text_frame, feedback)\n",
    "\n",
    "    feedback = default_msg if report[\"Обратная связь, вышестоящий руководитель_count\"] < 2 else \"Обратная связь:\\n\" + report[\"Обратная связь, вышестоящий руководитель_feedback\"]\n",
    "    update_text(pres.slides[1].shapes[3].text_frame, feedback)\n",
    "\n",
    "    feedback = default_msg if report[\"Обратная связь, функциональный руководитель_count\"] < 2 else \"Обратная связь:\\n\" + report[\"Обратная связь, функциональный руководитель_feedback\"]\n",
    "    update_text(pres.slides[1].shapes[4].text_frame, feedback)\n",
    "\n",
    "    #set ratings\n",
    "    ratings = collector.get_person_ratings(name)\n",
    "    rating = default_msg if ratings[0][1] < 2 else f\"{ratings[0][0]:.1f}\"\n",
    "    update_table_cell(pres.slides[0].shapes[2].table, 1, 1, rating)\n",
    "\n",
    "    rating = default_msg if ratings[1][1] < 2 else f\"{ratings[1][0]:.1f}\"\n",
    "    update_table_cell(pres.slides[0].shapes[2].table, 1, 2, rating)\n",
    "\n",
    "    rating = default_msg if ratings[2][1] < 2 else f\"{ratings[2][0]:.1f}\"\n",
    "    update_table_cell(pres.slides[0].shapes[2].table, 1, 3, rating)\n",
    "\n",
    "    overall_rating = collector.get_average_rating([4,11,20])[\"Overall\"]\n",
    "    update_table_cell(pres.slides[0].shapes[2].table, 1, 4, f\"{overall_rating:.2f}\")\n",
    "    \n",
    "    pres.save(f\"outputs\\\\{name}.pptx\")\n",
    "\n",
    "def shapes_info(slide):\n",
    "    for i, shape in enumerate(slide.shapes, 0):\n",
    "        if shape.has_text_frame:\n",
    "            print(f\"{i}: text\")\n",
    "            print(f\"\\\"{shape.text_frame.text}\\\"\")\n",
    "        if shape.has_table:\n",
    "            print(f\"{i}: table\")\n",
    "        if shape.has_chart:\n",
    "            print(f\"{i}: chart\")\n",
    "\n",
    "presentation = Presentation(\"resources\\\\Шаблон отчета.pptx\")\n",
    "shapes_info(presentation.slides[2])\n",
    "#create_slides_one_level(\"Илюхина Мария\", collector)\n",
    "create_slides_three_levels(\"Губин Иван\", collector)\n",
    "\n"
   ]
  },
  {
   "cell_type": "code",
   "execution_count": 2,
   "metadata": {},
   "outputs": [
    {
     "name": "stdout",
     "output_type": "stream",
     "text": [
      "{'x': {'first': 'Таня', 'last': 'Манн'}}\n"
     ]
    },
    {
     "data": {
      "text/plain": [
       "'Татьяна'"
      ]
     },
     "execution_count": 2,
     "metadata": {},
     "output_type": "execute_result"
    }
   ],
   "source": [
    "from common.generate_text import async_get_name\n",
    "from natasha import Segmenter, MorphVocab, NewsEmbedding, NewsMorphTagger, NewsNERTagger, PER, NamesExtractor, Doc\n",
    "import nest_asyncio\n",
    "nest_asyncio.apply()\n",
    "\n",
    "name = \"Манн Таня\"\n",
    "segmenter = Segmenter()\n",
    "emb = NewsEmbedding()\n",
    "morph_tagger = NewsMorphTagger(emb)\n",
    "ner_tagger = NewsNERTagger(emb)\n",
    "morph_vocab = MorphVocab()\n",
    "names_extractor = NamesExtractor(MorphVocab())\n",
    "doc = Doc(name)\n",
    "doc.segment(segmenter)\n",
    "doc.tag_morph(morph_tagger)\n",
    "for token in doc.tokens:\n",
    "    token.lemmatize(morph_vocab)\n",
    "doc.tag_ner(ner_tagger)\n",
    "for span in doc.spans:\n",
    "    span.normalize(morph_vocab)\n",
    "for span in doc.spans:\n",
    "    if span.type == PER:\n",
    "        span.extract_fact(names_extractor)\n",
    "x = {\"x\": _.fact.as_dict for _ in doc.spans if _.type == PER}\n",
    "print(x)\n",
    "async_get_name(x[\"x\"][\"first\"])"
   ]
  },
  {
   "cell_type": "code",
   "execution_count": 3,
   "metadata": {},
   "outputs": [],
   "source": [
    "from data_collector import DataCollector\n",
    "from pptx import Presentation\n",
    "from pptx_utilities import create_slides_one_level, create_slides_three_levels, create_slides_two_levels\n",
    "\n",
    "def select_filled_groups(name : str, collector : DataCollector) -> frozenset[int]:\n",
    "    structure = collector.survey_structure\n",
    "    valid_groups = list()\n",
    "    index = 1\n",
    "    for group_name, columns in structure[\"groups\"].items():\n",
    "        groups = structure.create_group_structure(columns)\n",
    "        counter  = 0 \n",
    "        report = collector.get_person_report(name, group_name)\n",
    "        for question_nmb in groups[\"select\"]:\n",
    "            if question_nmb in structure[\"output headers\"] and report[structure[\"output headers\"][question_nmb] + \"_count\"] > 0:\n",
    "                counter += 1\n",
    "                continue\n",
    "            if question_nmb not in structure[\"output headers\"] and report[structure[\"questions\"][question_nmb][1] + \"_count\"] > 0:\n",
    "                counter += 1\n",
    "        if counter == len(groups[\"select\"]):\n",
    "            valid_groups.append(index)\n",
    "        index += 1\n",
    "    return valid_groups\n",
    "\n",
    "def create_slides(name : str, collector : DataCollector):\n",
    "    report = collector.get_person_report(name)\n",
    "    if report is None:\n",
    "        print(f\"Name \\\"{name}\\\" not found\")\n",
    "        return\n",
    "    \n",
    "    filled_groups = select_filled_groups(name, collector)\n",
    "    if len(filled_groups) == 0:\n",
    "        print(f\"For name \\\"{name}\\\" not enough data\")\n",
    "    elif len(filled_groups) == 1:\n",
    "        create_slides_one_level(name, filled_groups[0], collector)\n",
    "    elif len(filled_groups) == 2:\n",
    "        create_slides_two_levels(name, tuple(filled_groups), collector)\n",
    "    elif len(filled_groups) == 3:\n",
    "        create_slides_three_levels(name, filled_groups[0], collector)\n",
    "        return\n",
    "    \n",
    "\n",
    "#Махонин Александр\n",
    "#Твен Василий\n",
    "#Пушкин Валерий\n",
    "#Диккенс Георгий\n",
    "#print(select_filled_groups(\"Пушкин Валерий Иванович\", collector))\n",
    "#print(collector.get_person_report(\"Пушкин Валерий Иванович\"))\n",
    "create_slides(\"Пушкин Валерий Иванович\", collector)"
   ]
  },
  {
   "cell_type": "code",
   "execution_count": 3,
   "metadata": {},
   "outputs": [
    {
     "name": "stdout",
     "output_type": "stream",
     "text": [
      "Slide 0\n",
      "0: text\n",
      "\"Название подразделения\n",
      "Итоги 2024: вовлеченность, лояльность и оценка руководства\"\n",
      "1: text\n",
      "\"\"\n",
      "Slide 1\n",
      "0: text\n",
      "\"Оценка руководителей\"\n",
      "1: text\n",
      "\"ФИО руководителя подразделения\"\n",
      "2: table\n",
      "3: chart\n",
      "4: text\n",
      "\"Обратная cвязь\"\n",
      "Slide 2\n",
      "0: text\n",
      "\"Оценка руководителей\"\n",
      "1: chart\n",
      "2: chart\n",
      "3: text\n",
      "\"Обратная связь\"\n",
      "4: text\n",
      "\"Обратная связь\"\n",
      "5: text\n",
      "\"ФИО руководителя подразделения\"\n",
      "Slide 3\n",
      "0: text\n",
      "\"Оценка руководителей\"\n",
      "1: text\n",
      "\"ФИО руководителя подразделения\"\n",
      "2: table\n",
      "3: chart\n",
      "4: text\n",
      "\"Обратная cвязь\"\n",
      "Slide 4\n",
      "0: text\n",
      "\"Оценка руководителей\"\n",
      "1: text\n",
      "\"ФИО руководителя подразделения\"\n",
      "2: table\n",
      "3: chart\n",
      "4: text\n",
      "\"Обратная cвязь\"\n",
      "Slide 5\n",
      "0: text\n",
      "\"Оценка руководителей\"\n",
      "1: text\n",
      "\"ФИО руководителя линейного\"\n",
      "2: table\n",
      "3: text\n",
      "\"Обратная связь\"\n",
      "4: text\n",
      "\"p0\"\n",
      "5: table\n",
      "6: text\n",
      "\"n0\"\n",
      "7: text\n",
      "\"p1\"\n",
      "8: text\n",
      "\"p2\"\n",
      "9: text\n",
      "\"n1\"\n",
      "10: text\n",
      "\"n2\"\n",
      "11: text\n",
      "\"p3\"\n",
      "12: text\n",
      "\"n3\"\n",
      "13: text\n",
      "\"p4\"\n",
      "14: text\n",
      "\"n4\"\n"
     ]
    }
   ],
   "source": [
    "from pptx_utilities import print_shapes_info\n",
    "from pptx import Presentation\n",
    "pres = Presentation(\"resources\\\\template.pptx\")\n",
    "\n",
    "for i, slide in enumerate(pres.slides, 0):\n",
    "    print(f\"Slide {i}\")\n",
    "    print_shapes_info(slide)"
   ]
  },
  {
   "cell_type": "code",
   "execution_count": 3,
   "metadata": {},
   "outputs": [
    {
     "name": "stdout",
     "output_type": "stream",
     "text": [
      "Непосредственный руководитель\n",
      "                                            question    rating  votes\n",
      "0                   Способствование развитию команды  0.775330    227\n",
      "1              Процесс предоставления обратной связи  0.801762    227\n",
      "2  Вклад в улучшение и оптимизацию процессов подр...  0.850220    227\n",
      "3         Эмоциональный настрой от совместной работы  0.863436    227\n",
      "4               Помощь в решении проблемных вопросов  0.872247    227\n",
      "\n",
      "Вышестоящий руководитель\n",
      "                                            question    rating  votes\n",
      "0  Предоставление информации по ключевым изменени...  0.657143    105\n",
      "1                               Эмоциональный вклад   0.714286    105\n",
      "2  Вклад в улучшение и оптимизацию процессов подр...  0.761905    105\n",
      "\n",
      "Функциональный руководитель\n",
      "                                            question    rating  votes\n",
      "0  Предоставление информации по ключевым изминени...  0.717949     39\n",
      "1            Объединение кроссфункциональной команды  0.794872     39\n",
      "2                    Эмоциональный настрой в команде  0.846154     39\n",
      "\n"
     ]
    }
   ],
   "source": [
    "res = collector.get_areas_of_growth()\n",
    "for i, j  in res.items():\n",
    "    print(i)\n",
    "    print(j)\n",
    "    print()"
   ]
  },
  {
   "cell_type": "code",
   "execution_count": null,
   "metadata": {},
   "outputs": [
    {
     "data": {
      "text/html": [
       "<div>\n",
       "<style scoped>\n",
       "    .dataframe tbody tr th:only-of-type {\n",
       "        vertical-align: middle;\n",
       "    }\n",
       "\n",
       "    .dataframe tbody tr th {\n",
       "        vertical-align: top;\n",
       "    }\n",
       "\n",
       "    .dataframe thead th {\n",
       "        text-align: right;\n",
       "    }\n",
       "</style>\n",
       "<table border=\"1\" class=\"dataframe\">\n",
       "  <thead>\n",
       "    <tr style=\"text-align: right;\">\n",
       "      <th></th>\n",
       "      <th>name</th>\n",
       "      <th>rating</th>\n",
       "    </tr>\n",
       "  </thead>\n",
       "  <tbody>\n",
       "    <tr>\n",
       "      <th>0</th>\n",
       "      <td>Шершнев Павел</td>\n",
       "      <td>10.000000</td>\n",
       "    </tr>\n",
       "    <tr>\n",
       "      <th>1</th>\n",
       "      <td>Грязнева Екатерина</td>\n",
       "      <td>10.000000</td>\n",
       "    </tr>\n",
       "    <tr>\n",
       "      <th>2</th>\n",
       "      <td>Блажник Алексей Евгеньевич</td>\n",
       "      <td>10.000000</td>\n",
       "    </tr>\n",
       "    <tr>\n",
       "      <th>3</th>\n",
       "      <td>Критник Евгений</td>\n",
       "      <td>10.000000</td>\n",
       "    </tr>\n",
       "    <tr>\n",
       "      <th>4</th>\n",
       "      <td>Московская Евгения</td>\n",
       "      <td>10.000000</td>\n",
       "    </tr>\n",
       "    <tr>\n",
       "      <th>...</th>\n",
       "      <td>...</td>\n",
       "      <td>...</td>\n",
       "    </tr>\n",
       "    <tr>\n",
       "      <th>56</th>\n",
       "      <td>Инокеньтев Иван</td>\n",
       "      <td>4.571429</td>\n",
       "    </tr>\n",
       "    <tr>\n",
       "      <th>57</th>\n",
       "      <td>Тэффи Анастасия</td>\n",
       "      <td>4.000000</td>\n",
       "    </tr>\n",
       "    <tr>\n",
       "      <th>58</th>\n",
       "      <td>Комаров Евгений</td>\n",
       "      <td>3.000000</td>\n",
       "    </tr>\n",
       "    <tr>\n",
       "      <th>59</th>\n",
       "      <td>Гумилева Нина Александровна</td>\n",
       "      <td>2.000000</td>\n",
       "    </tr>\n",
       "    <tr>\n",
       "      <th>60</th>\n",
       "      <td>Островский Андрей Федорович</td>\n",
       "      <td>2.000000</td>\n",
       "    </tr>\n",
       "  </tbody>\n",
       "</table>\n",
       "<p>61 rows × 2 columns</p>\n",
       "</div>"
      ],
      "text/plain": [
       "                           name     rating\n",
       "0                 Шершнев Павел  10.000000\n",
       "1            Грязнева Екатерина  10.000000\n",
       "2    Блажник Алексей Евгеньевич  10.000000\n",
       "3               Критник Евгений  10.000000\n",
       "4            Московская Евгения  10.000000\n",
       "..                          ...        ...\n",
       "56              Инокеньтев Иван   4.571429\n",
       "57              Тэффи Анастасия   4.000000\n",
       "58              Комаров Евгений   3.000000\n",
       "59  Гумилева Нина Александровна   2.000000\n",
       "60  Островский Андрей Федорович   2.000000\n",
       "\n",
       "[61 rows x 2 columns]"
      ]
     },
     "execution_count": 2,
     "metadata": {},
     "output_type": "execute_result"
    }
   ],
   "source": [
    "collector.get_top_one_level(threshold = 1, top = 100)"
   ]
  },
  {
   "cell_type": "code",
   "execution_count": 3,
   "metadata": {},
   "outputs": [
    {
     "name": "stdout",
     "output_type": "stream",
     "text": [
      "                 name  rating direct  rating non direct\n",
      "0    Жуковский Кирилл           10.0          10.000000\n",
      "1    Горбанидце Иосиф           10.0           8.000000\n",
      "2  Колокольцев Виктор           10.0          10.000000\n",
      "3          Лем Виктор           10.0          10.000000\n",
      "4         Гарсиа Юрий           10.0           9.666667\n",
      "                               name  rating direct  rating non direct\n",
      "0  Ахматова Екатерина Александровна       9.750000               10.0\n",
      "1                       Губин Павел       7.666667               10.0\n",
      "2       Брагин Владимирович Дмитрий       9.000000               10.0\n",
      "3                   Ведищева Амелия       8.000000               10.0\n",
      "4                  Жуковский Кирилл      10.000000               10.0\n"
     ]
    }
   ],
   "source": [
    "res = collector.get_top_several_levels(threshold = 1, top = 5)\n",
    "print(res[\"direct\"])\n",
    "print(res[\"non direct\"])"
   ]
  },
  {
   "cell_type": "code",
   "execution_count": null,
   "metadata": {},
   "outputs": [
    {
     "name": "stdout",
     "output_type": "stream",
     "text": [
      "row 117: \"9. Укажите вышестоящего руководителя в формате Фамилия Имя (если вы уже оценили его выше, оставьте вопросы 9-14 незаполненными)\"\n",
      "  Ахматова Екатерина: ['Ахматова Екатерина Александровна', 'Ахматова Екатерина Вадимовна']\n",
      "row 192: \"9. Укажите вышестоящего руководителя в формате Фамилия Имя (если вы уже оценили его выше, оставьте вопросы 9-14 незаполненными)\"\n",
      "  Ахматова Екатерина: ['Ахматова Екатерина Александровна', 'Ахматова Екатерина Вадимовна']\n",
      "Name \"None\" not found\n"
     ]
    }
   ],
   "source": [
    "from pptx_collector import PptxCollector\n",
    "import nest_asyncio\n",
    "nest_asyncio.apply()\n",
    "\n",
    "data_path = \"data.xlsx\"\n",
    "structure_path = \"resources\\\\survey_structure.json\"\n",
    "names_path = \"resources\\\\names.xlsx\"\n",
    "pptx_template_path = \"resources\\\\template.pptx\"\n",
    "\n",
    "collector = PptxCollector(data_path, structure_path, names_path)\n",
    "collector.collect()\n",
    "collector.create_slides(\"Илюхина\", pptx_template_path)\n",
    "collector.create_slides(\"Пушкин\", pptx_template_path)\n",
    "collector.create_slides(\"Витязев\", pptx_template_path)\n",
    "collector.create_slides(\"диккенс\", pptx_template_path)\n",
    "\n"
   ]
  }
 ],
 "metadata": {
  "kernelspec": {
   "display_name": "Python 3",
   "language": "python",
   "name": "python3"
  },
  "language_info": {
   "codemirror_mode": {
    "name": "ipython",
    "version": 3
   },
   "file_extension": ".py",
   "mimetype": "text/x-python",
   "name": "python",
   "nbconvert_exporter": "python",
   "pygments_lexer": "ipython3",
   "version": "3.9.13"
  }
 },
 "nbformat": 4,
 "nbformat_minor": 2
}
