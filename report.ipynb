{
 "cells": [
  {
   "cell_type": "markdown",
   "metadata": {},
   "source": [
    "## Про идентификацию имён\n",
    "\n",
    "В первую очередь стоит отметить, что для корректности получаемых результатов было бы логичнее минимизировать ошибки второго рода, поскольку они могут быть исправлены вручную. \n",
    "\n",
    "В текущей реализации словаря ```natasha``` или аналоги не использованы, поскольку они могут порождать дополнительные ошибки, а также очень тяжеловесны в плане временных затрат. Единственный способ использования подобных инструментов видится в выделении отдельных элементов ФИО и их нормализация, но ввиду того что данные ожидаются нормализованными в этом нет большой необходиомсти.\n",
    "\n",
    "Пока единственный вариант применения видится как проверка инициалов, где с помощью ```natasha``` извлекаются ИО и далее по словарю, который учитывает тип слова проверяется. Проверку желательно фамилий нужно будет проводить отдельн  "
   ]
  },
  {
   "cell_type": "code",
   "execution_count": 5,
   "metadata": {},
   "outputs": [
    {
     "name": "stdout",
     "output_type": "stream",
     "text": [
      "[]\n",
      "['Борисович Александр Хармс']\n",
      "['Ахматова Екатерина Вадимовна', 'Ахматова Александровна Екатерина']\n",
      "['Пирогова Екатерина', 'Екатерина Грязнева', 'Ахматова Екатерина Вадимовна', 'Гумилева Екатерина Николаевна', 'Ахматова Александровна Екатерина', 'Щедрина Екатерина']\n",
      "['Ахматова Екатерина Вадимовна']\n"
     ]
    }
   ],
   "source": [
    "from utilities import names_dict\n",
    "x = names_dict(\"resources\\\\names.xlsx\")\n",
    "\n",
    "print(x.get_names(\"Иннокентий\"))\n",
    "print(x.get_names(\"Хармс\"))\n",
    "print(x.get_names(\"Ахматова\"))\n",
    "print(x.get_names(\"Екатерина\"))\n",
    "print(x.get_names(\"Ахматова Екатерина Вадимовна\"))"
   ]
  },
  {
   "cell_type": "code",
   "execution_count": 6,
   "metadata": {},
   "outputs": [
    {
     "name": "stdout",
     "output_type": "stream",
     "text": [
      "{}\n",
      "{'Хармс А. В.': {'first': 'А', 'last': 'Хармс', 'middle': 'В'}}\n",
      "{'Николай Андреевич Римский-Корсаков': {'first': 'Николай', 'last': 'Римский', 'middle': 'Андреевич'}}\n",
      "{'Кузьма Сергеевич Петров-Водкин': {'first': 'Кузьма', 'last': 'Петров', 'middle': 'Сергеевич'}}\n",
      "{'Иван Губинич': {'first': 'Иван', 'last': 'Губинич'}}\n",
      "{'Орлов Иван Губинич': {'first': 'Иван', 'last': 'Орлов'}}\n",
      "{'Ева-София Пономарев': {'first': 'Ева'}}\n"
     ]
    }
   ],
   "source": [
    "from natasha import (Segmenter, MorphVocab, NewsEmbedding, NewsMorphTagger, NewsNERTagger, PER, NamesExtractor, Doc)\n",
    "\n",
    "def split_name(name : str) -> dict:\n",
    "    segmenter = Segmenter()\n",
    "    emb = NewsEmbedding()\n",
    "    morph_tagger = NewsMorphTagger(emb)\n",
    "    ner_tagger = NewsNERTagger(emb)\n",
    "    morph_vocab = MorphVocab()\n",
    "    names_extractor = NamesExtractor(MorphVocab())\n",
    "    doc = Doc(name)\n",
    "    doc.segment(segmenter)\n",
    "    doc.tag_morph(morph_tagger)\n",
    "    for token in doc.tokens:\n",
    "        token.lemmatize(morph_vocab)\n",
    "    doc.tag_ner(ner_tagger)\n",
    "    for span in doc.spans:\n",
    "        span.normalize(morph_vocab)\n",
    "    for span in doc.spans:\n",
    "        if span.type == PER:\n",
    "            span.extract_fact(names_extractor)\n",
    "    return {_.normal: _.fact.as_dict for _ in doc.spans if _.type == PER}\n",
    "\n",
    "print(split_name(\"Хармс АВ\"))\n",
    "print(split_name(\"Хармс А. В.\"))\n",
    "print(split_name(\"Николай Андреевич Римский-Корсаков\"))\n",
    "print(split_name(\"Кузьма Сергеевич Петров-Водкин\"))\n",
    "print(split_name(\"Красавцев Иван Губинич\"))\n",
    "print(split_name(\"Орлов Иван Губинич\"))\n",
    "print(split_name(\"Ева-София Пономарева\"))\n"
   ]
  },
  {
   "cell_type": "code",
   "execution_count": 3,
   "metadata": {},
   "outputs": [
    {
     "name": "stdout",
     "output_type": "stream",
     "text": [
      "{'first_name': 'Ав', 'middle_name': None, 'second_name': 'Хармс'}\n",
      "{'first_name': None, 'middle_name': None, 'second_name': 'Хармс'}\n",
      "{'first_name': 'Николай', 'middle_name': 'Андреевич', 'second_name': 'Корсаков'}\n",
      "{'first_name': 'Кузьма', 'middle_name': 'Сергеевич', 'second_name': 'Водкин'}\n",
      "{'first_name': 'Иван', 'middle_name': 'Губинич', 'second_name': None}\n",
      "{'first_name': 'Иван', 'middle_name': 'Губинич', 'second_name': 'Орлов'}\n",
      "{'first_name': 'Ева', 'middle_name': None, 'second_name': 'Пономарева'}\n"
     ]
    }
   ],
   "source": [
    "from pymystem3 import Mystem\n",
    "\n",
    "text = 'Николай Андреевич Римский-Корсаков'\n",
    "def mystem_split_name(text : str) -> dict:\n",
    "    m = Mystem()\n",
    "\n",
    "    analyze = m.analyze(text)\n",
    "\n",
    "    first_name = None\n",
    "    second_name = None\n",
    "    middle_name = None\n",
    "\n",
    "    for word in analyze:\n",
    "        try:\n",
    "            analysis = word['analysis'][0]\n",
    "        except KeyError:\n",
    "            continue\n",
    "\n",
    "        if 'имя' in analysis['gr']:\n",
    "            first_name = word['text'].capitalize()\n",
    "        elif 'фам' in analysis['gr']:\n",
    "            second_name = word['text'].capitalize()\n",
    "        elif 'отч' in analysis['gr']:\n",
    "            middle_name = word['text'].capitalize()\n",
    "    return {\"first_name\" : first_name, \"middle_name\" : middle_name, \"second_name\" : second_name}\n",
    "\n",
    "\n",
    "print(mystem_split_name(\"Хармс АВ\"))\n",
    "print(mystem_split_name(\"Хармс А.В.\"))\n",
    "print(mystem_split_name(\"Николай Андреевич Римский-Корсаков\"))\n",
    "print(mystem_split_name(\"Кузьма Сергеевич Петров-Водкин\"))\n",
    "print(mystem_split_name(\"Красавцев Иван Губинич\"))\n",
    "print(mystem_split_name(\"Орлов Иван Губинич\"))\n",
    "print(mystem_split_name(\"Ева-София Пономарева\"))\n"
   ]
  },
  {
   "cell_type": "markdown",
   "metadata": {},
   "source": [
    "## Построение графиков"
   ]
  },
  {
   "cell_type": "markdown",
   "metadata": {},
   "source": [
    "Собираем информацию из таблички"
   ]
  },
  {
   "cell_type": "code",
   "execution_count": 1,
   "metadata": {},
   "outputs": [
    {
     "name": "stderr",
     "output_type": "stream",
     "text": [
      "c:\\Users\\zalex\\AI-analysis-of-free-survey-responses\\preprocessing.py:103: FutureWarning: The behavior of DataFrame concatenation with empty or all-NA entries is deprecated. In a future version, this will no longer exclude empty or all-NA columns when determining the result dtypes. To retain the old behavior, exclude the relevant entries before the concat operation.\n",
      "  df = pd.concat([df, pd.DataFrame(data=[cur_row], columns = columns_names)], ignore_index = True)\n"
     ]
    },
    {
     "data": {
      "text/html": [
       "<div>\n",
       "<style scoped>\n",
       "    .dataframe tbody tr th:only-of-type {\n",
       "        vertical-align: middle;\n",
       "    }\n",
       "\n",
       "    .dataframe tbody tr th {\n",
       "        vertical-align: top;\n",
       "    }\n",
       "\n",
       "    .dataframe thead th {\n",
       "        text-align: right;\n",
       "    }\n",
       "</style>\n",
       "<table border=\"1\" class=\"dataframe\">\n",
       "  <thead>\n",
       "    <tr style=\"text-align: right;\">\n",
       "      <th></th>\n",
       "      <th>Имя</th>\n",
       "      <th>Помощь в решении проблемных вопросов</th>\n",
       "      <th>Эмоциональный настрой от совместной работы</th>\n",
       "      <th>Экспертность непосредственного руководителя</th>\n",
       "      <th>Вклад в улучшение и оптимизацию процессов подразделения</th>\n",
       "      <th>Способствование развитию команды</th>\n",
       "      <th>Процесс предоставления обратной связи</th>\n",
       "      <th>8. Поделитесь обратной связью для руководителя и предложениями по улучшению работы подразделения</th>\n",
       "      <th>Вклад в улучшение и оптимизацию процессов подразделения</th>\n",
       "      <th>Экспертность вышестоящего руководителя</th>\n",
       "      <th>Эмоциональный вклад</th>\n",
       "      <th>Предоставление информации по ключевым изменениям в компании</th>\n",
       "      <th>14. Поделитесь обратной связью для руководителя и предложениями по улучшению работы подразделения</th>\n",
       "      <th>17. Кем вам приходится выбранный руководитель?</th>\n",
       "      <th>Объединение кроссфункциональной команды</th>\n",
       "      <th>Эмоциональный настрой в команде</th>\n",
       "      <th>Экспертность функционального руководителя</th>\n",
       "      <th>Предоставление информации по ключевым изминениям в компании</th>\n",
       "      <th>22. Поделитесь обратной связью для руководителя проекта/продукта и предложениями по улучшению работы кроссфункциональной команды</th>\n",
       "    </tr>\n",
       "  </thead>\n",
       "  <tbody>\n",
       "    <tr>\n",
       "      <th>0</th>\n",
       "      <td>Илюхина Мария</td>\n",
       "      <td>1.0</td>\n",
       "      <td>1.000000</td>\n",
       "      <td>9.333333</td>\n",
       "      <td>0.666667</td>\n",
       "      <td>0.666667</td>\n",
       "      <td>0.666667</td>\n",
       "      <td>1. Повысить прозрачность рабочих процессов, об...</td>\n",
       "      <td>NaN</td>\n",
       "      <td>NaN</td>\n",
       "      <td>NaN</td>\n",
       "      <td>NaN</td>\n",
       "      <td>None</td>\n",
       "      <td>None</td>\n",
       "      <td>NaN</td>\n",
       "      <td>NaN</td>\n",
       "      <td>NaN</td>\n",
       "      <td>NaN</td>\n",
       "      <td>None</td>\n",
       "    </tr>\n",
       "    <tr>\n",
       "      <th>1</th>\n",
       "      <td>Ахматова Александровна Екатерина</td>\n",
       "      <td>1.0</td>\n",
       "      <td>1.000000</td>\n",
       "      <td>9.750000</td>\n",
       "      <td>1.000000</td>\n",
       "      <td>1.000000</td>\n",
       "      <td>1.000000</td>\n",
       "      <td>1. Необходимо время для полного выстраивания п...</td>\n",
       "      <td>1.0</td>\n",
       "      <td>10.0</td>\n",
       "      <td>1.0</td>\n",
       "      <td>1.0</td>\n",
       "      <td>1. Рекомендуется уделять больше внимания взаим...</td>\n",
       "      <td>None</td>\n",
       "      <td>NaN</td>\n",
       "      <td>NaN</td>\n",
       "      <td>NaN</td>\n",
       "      <td>NaN</td>\n",
       "      <td>None</td>\n",
       "    </tr>\n",
       "    <tr>\n",
       "      <th>2</th>\n",
       "      <td>Губин Павел</td>\n",
       "      <td>1.0</td>\n",
       "      <td>0.833333</td>\n",
       "      <td>7.666667</td>\n",
       "      <td>1.000000</td>\n",
       "      <td>0.833333</td>\n",
       "      <td>1.000000</td>\n",
       "      <td>1. Набрать персонал на вакантные должности в о...</td>\n",
       "      <td>NaN</td>\n",
       "      <td>NaN</td>\n",
       "      <td>NaN</td>\n",
       "      <td>NaN</td>\n",
       "      <td>None</td>\n",
       "      <td>None</td>\n",
       "      <td>1.0</td>\n",
       "      <td>1.0</td>\n",
       "      <td>10.0</td>\n",
       "      <td>1.0</td>\n",
       "      <td>None</td>\n",
       "    </tr>\n",
       "    <tr>\n",
       "      <th>3</th>\n",
       "      <td>Павел Шершнев</td>\n",
       "      <td>1.0</td>\n",
       "      <td>1.000000</td>\n",
       "      <td>10.000000</td>\n",
       "      <td>0.000000</td>\n",
       "      <td>1.000000</td>\n",
       "      <td>1.000000</td>\n",
       "      <td>1. Руководитель демонстрирует высокий уровень ...</td>\n",
       "      <td>NaN</td>\n",
       "      <td>NaN</td>\n",
       "      <td>NaN</td>\n",
       "      <td>NaN</td>\n",
       "      <td>None</td>\n",
       "      <td>None</td>\n",
       "      <td>NaN</td>\n",
       "      <td>NaN</td>\n",
       "      <td>NaN</td>\n",
       "      <td>NaN</td>\n",
       "      <td>None</td>\n",
       "    </tr>\n",
       "    <tr>\n",
       "      <th>4</th>\n",
       "      <td>Андрей Брэдбери</td>\n",
       "      <td>1.0</td>\n",
       "      <td>1.000000</td>\n",
       "      <td>9.333333</td>\n",
       "      <td>1.000000</td>\n",
       "      <td>1.000000</td>\n",
       "      <td>1.000000</td>\n",
       "      <td>1. Рабочий процесс организован эффективно, пож...</td>\n",
       "      <td>NaN</td>\n",
       "      <td>NaN</td>\n",
       "      <td>NaN</td>\n",
       "      <td>NaN</td>\n",
       "      <td>None</td>\n",
       "      <td>None</td>\n",
       "      <td>NaN</td>\n",
       "      <td>NaN</td>\n",
       "      <td>NaN</td>\n",
       "      <td>NaN</td>\n",
       "      <td>None</td>\n",
       "    </tr>\n",
       "    <tr>\n",
       "      <th>...</th>\n",
       "      <td>...</td>\n",
       "      <td>...</td>\n",
       "      <td>...</td>\n",
       "      <td>...</td>\n",
       "      <td>...</td>\n",
       "      <td>...</td>\n",
       "      <td>...</td>\n",
       "      <td>...</td>\n",
       "      <td>...</td>\n",
       "      <td>...</td>\n",
       "      <td>...</td>\n",
       "      <td>...</td>\n",
       "      <td>...</td>\n",
       "      <td>...</td>\n",
       "      <td>...</td>\n",
       "      <td>...</td>\n",
       "      <td>...</td>\n",
       "      <td>...</td>\n",
       "      <td>...</td>\n",
       "    </tr>\n",
       "    <tr>\n",
       "      <th>110</th>\n",
       "      <td>Анастасия Толстова</td>\n",
       "      <td>1.0</td>\n",
       "      <td>1.000000</td>\n",
       "      <td>9.000000</td>\n",
       "      <td>1.000000</td>\n",
       "      <td>1.000000</td>\n",
       "      <td>1.000000</td>\n",
       "      <td>None</td>\n",
       "      <td>NaN</td>\n",
       "      <td>NaN</td>\n",
       "      <td>NaN</td>\n",
       "      <td>NaN</td>\n",
       "      <td>None</td>\n",
       "      <td>None</td>\n",
       "      <td>NaN</td>\n",
       "      <td>NaN</td>\n",
       "      <td>NaN</td>\n",
       "      <td>NaN</td>\n",
       "      <td>None</td>\n",
       "    </tr>\n",
       "    <tr>\n",
       "      <th>111</th>\n",
       "      <td>Александр Гюго</td>\n",
       "      <td>1.0</td>\n",
       "      <td>1.000000</td>\n",
       "      <td>10.000000</td>\n",
       "      <td>1.000000</td>\n",
       "      <td>1.000000</td>\n",
       "      <td>1.000000</td>\n",
       "      <td>None</td>\n",
       "      <td>NaN</td>\n",
       "      <td>NaN</td>\n",
       "      <td>NaN</td>\n",
       "      <td>NaN</td>\n",
       "      <td>None</td>\n",
       "      <td>None</td>\n",
       "      <td>NaN</td>\n",
       "      <td>NaN</td>\n",
       "      <td>NaN</td>\n",
       "      <td>NaN</td>\n",
       "      <td>None</td>\n",
       "    </tr>\n",
       "    <tr>\n",
       "      <th>112</th>\n",
       "      <td>Бронте Николай</td>\n",
       "      <td>NaN</td>\n",
       "      <td>NaN</td>\n",
       "      <td>NaN</td>\n",
       "      <td>NaN</td>\n",
       "      <td>NaN</td>\n",
       "      <td>NaN</td>\n",
       "      <td>None</td>\n",
       "      <td>1.0</td>\n",
       "      <td>10.0</td>\n",
       "      <td>1.0</td>\n",
       "      <td>1.0</td>\n",
       "      <td>None</td>\n",
       "      <td>None</td>\n",
       "      <td>NaN</td>\n",
       "      <td>NaN</td>\n",
       "      <td>NaN</td>\n",
       "      <td>NaN</td>\n",
       "      <td>None</td>\n",
       "    </tr>\n",
       "    <tr>\n",
       "      <th>113</th>\n",
       "      <td>Рейм Мария</td>\n",
       "      <td>1.0</td>\n",
       "      <td>1.000000</td>\n",
       "      <td>10.000000</td>\n",
       "      <td>1.000000</td>\n",
       "      <td>1.000000</td>\n",
       "      <td>1.000000</td>\n",
       "      <td>None</td>\n",
       "      <td>NaN</td>\n",
       "      <td>NaN</td>\n",
       "      <td>NaN</td>\n",
       "      <td>NaN</td>\n",
       "      <td>None</td>\n",
       "      <td>None</td>\n",
       "      <td>NaN</td>\n",
       "      <td>NaN</td>\n",
       "      <td>NaN</td>\n",
       "      <td>NaN</td>\n",
       "      <td>None</td>\n",
       "    </tr>\n",
       "    <tr>\n",
       "      <th>114</th>\n",
       "      <td>Теодор Драйзер</td>\n",
       "      <td>NaN</td>\n",
       "      <td>NaN</td>\n",
       "      <td>NaN</td>\n",
       "      <td>NaN</td>\n",
       "      <td>NaN</td>\n",
       "      <td>NaN</td>\n",
       "      <td>None</td>\n",
       "      <td>NaN</td>\n",
       "      <td>NaN</td>\n",
       "      <td>NaN</td>\n",
       "      <td>NaN</td>\n",
       "      <td>None</td>\n",
       "      <td>None</td>\n",
       "      <td>1.0</td>\n",
       "      <td>1.0</td>\n",
       "      <td>6.0</td>\n",
       "      <td>1.0</td>\n",
       "      <td>None</td>\n",
       "    </tr>\n",
       "  </tbody>\n",
       "</table>\n",
       "<p>115 rows × 19 columns</p>\n",
       "</div>"
      ],
      "text/plain": [
       "                                  Имя  Помощь в решении проблемных вопросов  \\\n",
       "0                       Илюхина Мария                                   1.0   \n",
       "1    Ахматова Александровна Екатерина                                   1.0   \n",
       "2                         Губин Павел                                   1.0   \n",
       "3                       Павел Шершнев                                   1.0   \n",
       "4                     Андрей Брэдбери                                   1.0   \n",
       "..                                ...                                   ...   \n",
       "110                Анастасия Толстова                                   1.0   \n",
       "111                    Александр Гюго                                   1.0   \n",
       "112                    Бронте Николай                                   NaN   \n",
       "113                        Рейм Мария                                   1.0   \n",
       "114                    Теодор Драйзер                                   NaN   \n",
       "\n",
       "     Эмоциональный настрой от совместной работы  \\\n",
       "0                                      1.000000   \n",
       "1                                      1.000000   \n",
       "2                                      0.833333   \n",
       "3                                      1.000000   \n",
       "4                                      1.000000   \n",
       "..                                          ...   \n",
       "110                                    1.000000   \n",
       "111                                    1.000000   \n",
       "112                                         NaN   \n",
       "113                                    1.000000   \n",
       "114                                         NaN   \n",
       "\n",
       "     Экспертность непосредственного руководителя  \\\n",
       "0                                       9.333333   \n",
       "1                                       9.750000   \n",
       "2                                       7.666667   \n",
       "3                                      10.000000   \n",
       "4                                       9.333333   \n",
       "..                                           ...   \n",
       "110                                     9.000000   \n",
       "111                                    10.000000   \n",
       "112                                          NaN   \n",
       "113                                    10.000000   \n",
       "114                                          NaN   \n",
       "\n",
       "     Вклад в улучшение и оптимизацию процессов подразделения  \\\n",
       "0                                             0.666667         \n",
       "1                                             1.000000         \n",
       "2                                             1.000000         \n",
       "3                                             0.000000         \n",
       "4                                             1.000000         \n",
       "..                                                 ...         \n",
       "110                                           1.000000         \n",
       "111                                           1.000000         \n",
       "112                                                NaN         \n",
       "113                                           1.000000         \n",
       "114                                                NaN         \n",
       "\n",
       "     Способствование развитию команды  Процесс предоставления обратной связи  \\\n",
       "0                            0.666667                               0.666667   \n",
       "1                            1.000000                               1.000000   \n",
       "2                            0.833333                               1.000000   \n",
       "3                            1.000000                               1.000000   \n",
       "4                            1.000000                               1.000000   \n",
       "..                                ...                                    ...   \n",
       "110                          1.000000                               1.000000   \n",
       "111                          1.000000                               1.000000   \n",
       "112                               NaN                                    NaN   \n",
       "113                          1.000000                               1.000000   \n",
       "114                               NaN                                    NaN   \n",
       "\n",
       "    8. Поделитесь обратной связью для руководителя и предложениями по улучшению работы подразделения  \\\n",
       "0    1. Повысить прозрачность рабочих процессов, об...                                                 \n",
       "1    1. Необходимо время для полного выстраивания п...                                                 \n",
       "2    1. Набрать персонал на вакантные должности в о...                                                 \n",
       "3    1. Руководитель демонстрирует высокий уровень ...                                                 \n",
       "4    1. Рабочий процесс организован эффективно, пож...                                                 \n",
       "..                                                 ...                                                 \n",
       "110                                               None                                                 \n",
       "111                                               None                                                 \n",
       "112                                               None                                                 \n",
       "113                                               None                                                 \n",
       "114                                               None                                                 \n",
       "\n",
       "     Вклад в улучшение и оптимизацию процессов подразделения  \\\n",
       "0                                                  NaN         \n",
       "1                                                  1.0         \n",
       "2                                                  NaN         \n",
       "3                                                  NaN         \n",
       "4                                                  NaN         \n",
       "..                                                 ...         \n",
       "110                                                NaN         \n",
       "111                                                NaN         \n",
       "112                                                1.0         \n",
       "113                                                NaN         \n",
       "114                                                NaN         \n",
       "\n",
       "     Экспертность вышестоящего руководителя  Эмоциональный вклад   \\\n",
       "0                                       NaN                   NaN   \n",
       "1                                      10.0                   1.0   \n",
       "2                                       NaN                   NaN   \n",
       "3                                       NaN                   NaN   \n",
       "4                                       NaN                   NaN   \n",
       "..                                      ...                   ...   \n",
       "110                                     NaN                   NaN   \n",
       "111                                     NaN                   NaN   \n",
       "112                                    10.0                   1.0   \n",
       "113                                     NaN                   NaN   \n",
       "114                                     NaN                   NaN   \n",
       "\n",
       "     Предоставление информации по ключевым изменениям в компании   \\\n",
       "0                                                  NaN              \n",
       "1                                                  1.0              \n",
       "2                                                  NaN              \n",
       "3                                                  NaN              \n",
       "4                                                  NaN              \n",
       "..                                                 ...              \n",
       "110                                                NaN              \n",
       "111                                                NaN              \n",
       "112                                                1.0              \n",
       "113                                                NaN              \n",
       "114                                                NaN              \n",
       "\n",
       "    14. Поделитесь обратной связью для руководителя и предложениями по улучшению работы подразделения  \\\n",
       "0                                                 None                                                  \n",
       "1    1. Рекомендуется уделять больше внимания взаим...                                                  \n",
       "2                                                 None                                                  \n",
       "3                                                 None                                                  \n",
       "4                                                 None                                                  \n",
       "..                                                 ...                                                  \n",
       "110                                               None                                                  \n",
       "111                                               None                                                  \n",
       "112                                               None                                                  \n",
       "113                                               None                                                  \n",
       "114                                               None                                                  \n",
       "\n",
       "    17. Кем вам приходится выбранный руководитель?  \\\n",
       "0                                             None   \n",
       "1                                             None   \n",
       "2                                             None   \n",
       "3                                             None   \n",
       "4                                             None   \n",
       "..                                             ...   \n",
       "110                                           None   \n",
       "111                                           None   \n",
       "112                                           None   \n",
       "113                                           None   \n",
       "114                                           None   \n",
       "\n",
       "     Объединение кроссфункциональной команды  Эмоциональный настрой в команде  \\\n",
       "0                                        NaN                              NaN   \n",
       "1                                        NaN                              NaN   \n",
       "2                                        1.0                              1.0   \n",
       "3                                        NaN                              NaN   \n",
       "4                                        NaN                              NaN   \n",
       "..                                       ...                              ...   \n",
       "110                                      NaN                              NaN   \n",
       "111                                      NaN                              NaN   \n",
       "112                                      NaN                              NaN   \n",
       "113                                      NaN                              NaN   \n",
       "114                                      1.0                              1.0   \n",
       "\n",
       "     Экспертность функционального руководителя  \\\n",
       "0                                          NaN   \n",
       "1                                          NaN   \n",
       "2                                         10.0   \n",
       "3                                          NaN   \n",
       "4                                          NaN   \n",
       "..                                         ...   \n",
       "110                                        NaN   \n",
       "111                                        NaN   \n",
       "112                                        NaN   \n",
       "113                                        NaN   \n",
       "114                                        6.0   \n",
       "\n",
       "     Предоставление информации по ключевым изминениям в компании  \\\n",
       "0                                                  NaN             \n",
       "1                                                  NaN             \n",
       "2                                                  1.0             \n",
       "3                                                  NaN             \n",
       "4                                                  NaN             \n",
       "..                                                 ...             \n",
       "110                                                NaN             \n",
       "111                                                NaN             \n",
       "112                                                NaN             \n",
       "113                                                NaN             \n",
       "114                                                1.0             \n",
       "\n",
       "    22. Поделитесь обратной связью для руководителя проекта/продукта и предложениями по улучшению работы кроссфункциональной команды  \n",
       "0                                                 None                                                                                \n",
       "1                                                 None                                                                                \n",
       "2                                                 None                                                                                \n",
       "3                                                 None                                                                                \n",
       "4                                                 None                                                                                \n",
       "..                                                 ...                                                                                \n",
       "110                                               None                                                                                \n",
       "111                                               None                                                                                \n",
       "112                                               None                                                                                \n",
       "113                                               None                                                                                \n",
       "114                                               None                                                                                \n",
       "\n",
       "[115 rows x 19 columns]"
      ]
     },
     "execution_count": 1,
     "metadata": {},
     "output_type": "execute_result"
    }
   ],
   "source": [
    "from preprocessing import Preprocessing\n",
    "import nest_asyncio\n",
    "nest_asyncio.apply()\n",
    "\n",
    "data_path = \"data.xlsx\"\n",
    "structure_path = \"resources\\\\survey_structure.json\"\n",
    "names_path = \"resources\\\\names.xlsx\"\n",
    "\n",
    "collector = Preprocessing(data_path, structure_path, names_path)\n",
    "collector.collect()\n",
    "\n",
    "collector.create_report_df()\n",
    "#report.to_excel(\"output2.xlsx\", index=False)\n",
    "#print(report)\n",
    "#collector.get_person_info(\"Илюхина Мария\", \"Непосредственный руководитель\")\n"
   ]
  },
  {
   "cell_type": "code",
   "execution_count": 3,
   "metadata": {},
   "outputs": [
    {
     "data": {
      "text/plain": [
       "Помощь в решении проблемных вопросов_positive_pct                                                                                                 1.0\n",
       "Помощь в решении проблемных вопросов_all                                                                                                            3\n",
       "Эмоциональный настрой от совместной работы_positive_pct                                                                                           1.0\n",
       "Эмоциональный настрой от совместной работы_all                                                                                                      3\n",
       "Экспертность непосредственного руководителя_avg                                                                                              9.333333\n",
       "Экспертность непосредственного руководителя_count                                                                                                   3\n",
       "Вклад в улучшение и оптимизацию процессов подразделения_positive_pct                                                                         0.666667\n",
       "Вклад в улучшение и оптимизацию процессов подразделения_all                                                                                         3\n",
       "Способствование развитию команды_positive_pct                                                                                                0.666667\n",
       "Способствование развитию команды_all                                                                                                                3\n",
       "Процесс предоставления обратной связи_positive_pct                                                                                           0.666667\n",
       "Процесс предоставления обратной связи_all                                                                                                           3\n",
       "8. Поделитесь обратной связью для руководителя и предложениями по улучшению работы подразделения    1. Улучшить прозрачность рабочих процессов, об...\n",
       "dtype: object"
      ]
     },
     "execution_count": 3,
     "metadata": {},
     "output_type": "execute_result"
    }
   ],
   "source": [
    "collector.get_person_info(\"Илюхина Мария\", \"Непосредственный руководитель\")"
   ]
  },
  {
   "cell_type": "markdown",
   "metadata": {},
   "source": [
    "Определяем функцию, которая будет строить графики по для отдельных людей по выбранному типу руководства"
   ]
  },
  {
   "cell_type": "code",
   "execution_count": null,
   "metadata": {},
   "outputs": [],
   "source": [
    "import plotly.graph_objects as go\n",
    "import plotly.io as pio\n",
    "pio.renderers.default = 'iframe'\n",
    "\n",
    "def create_plot(name : str, group : str, collector : Preprocessing):\n",
    "    person_stat = collector.get_select_vals_for_plot(name, group)\n",
    "    colors = ['rgba(168,209,141,0.8)',\n",
    "            'rgba(251,114,134,0.8)']\n",
    "\n",
    "    x_data = person_stat[1]\n",
    "    y_data = person_stat[0]\n",
    "    fig = go.Figure()\n",
    "\n",
    "    for i in range(0, len(x_data[0])):\n",
    "        for xd, yd in zip(x_data, y_data):\n",
    "            fig.add_trace(go.Bar(\n",
    "                x=[xd[i]], y=[yd],\n",
    "                orientation='h',\n",
    "                marker=dict(\n",
    "                    color=colors[i],\n",
    "                    line=dict(width=0)\n",
    "                )\n",
    "            ))\n",
    "\n",
    "    fig.update_layout(\n",
    "        xaxis=dict(\n",
    "            showgrid=True,\n",
    "            showline=False,\n",
    "            tickformat= '0.00%',\n",
    "            showticklabels=True,\n",
    "            color=\"white\",\n",
    "            zeroline=True,\n",
    "            domain=[0.15, 1]\n",
    "        ),\n",
    "        yaxis=dict(\n",
    "            showgrid=False,\n",
    "            showline=False,\n",
    "            showticklabels=False,\n",
    "            zeroline=False,\n",
    "        ),\n",
    "        barmode='stack',\n",
    "        paper_bgcolor='rgb(0, 0, 0)',\n",
    "        plot_bgcolor='rgb(0, 0, 0)',\n",
    "        margin=dict(l=300, r=10, t=140, b=80),\n",
    "        showlegend=False,\n",
    "    )\n",
    "\n",
    "    annotations = []\n",
    "\n",
    "    for yd, xd in zip(y_data, x_data):\n",
    "        # labeling the y-axis\n",
    "        annotations.append(dict(xref='paper', yref='y',\n",
    "                                x=0.14, y=yd,\n",
    "                                xanchor='right',\n",
    "                                text=str(yd),\n",
    "                                font=dict(family='Arial', size=14,\n",
    "                                        color='rgb(255, 255, 255)'),\n",
    "                                showarrow=False, align='right'))\n",
    "        # labeling the first percentage of each bar (x_axis)\n",
    "        if xd[0]!=0:\n",
    "            annotations.append(dict(xref='x', yref='y',\n",
    "                                    x=xd[0] / 2, y=yd,\n",
    "                                    text=str(int(xd[0]*100)) + '%',\n",
    "                                    font=dict(family='Arial', size=14,\n",
    "                                            color='rgb(0, 0, 0)'),\n",
    "                                    showarrow=False))\n",
    "        # labeling the second percentage of each bar (x_axis)\n",
    "        if xd[1]!=0:\n",
    "            annotations.append(dict(xref='x', yref='y',\n",
    "                                    x=xd[0] + (xd[1]/2), y=yd,\n",
    "                                    text=str(int(xd[1]*100)) + '%',\n",
    "                                    font=dict(family='Arial', size=14,\n",
    "                                                color='rgb(0, 0, 0)'),\n",
    "                                    showarrow=False))\n",
    "\n",
    "    fig.update_layout(annotations=annotations, title=dict(text=group, x=0.5 ,font=dict(size=50, color='rgb(255, 255, 255)')))\n",
    "    fig.update_traces(width=0.5)\n",
    "    fig.show()"
   ]
  },
  {
   "cell_type": "markdown",
   "metadata": {},
   "source": [
    "По очереди строим примеры для непосредственных, вышестоящих и функциональных руководителей"
   ]
  },
  {
   "cell_type": "code",
   "execution_count": 5,
   "metadata": {},
   "outputs": [
    {
     "data": {
      "application/vnd.plotly.v1+json": {
       "config": {
        "plotlyServerURL": "https://plot.ly"
       },
       "data": [
        {
         "marker": {
          "color": "rgba(168,209,141,0.8)",
          "line": {
           "width": 0
          }
         },
         "orientation": "h",
         "type": "bar",
         "width": 0.5,
         "x": [
          1
         ],
         "y": [
          "Помощь в решении проблемных вопросов"
         ]
        },
        {
         "marker": {
          "color": "rgba(168,209,141,0.8)",
          "line": {
           "width": 0
          }
         },
         "orientation": "h",
         "type": "bar",
         "width": 0.5,
         "x": [
          0.83
         ],
         "y": [
          "Эмоциональный настрой от совместной работы"
         ]
        },
        {
         "marker": {
          "color": "rgba(168,209,141,0.8)",
          "line": {
           "width": 0
          }
         },
         "orientation": "h",
         "type": "bar",
         "width": 0.5,
         "x": [
          1
         ],
         "y": [
          "Вклад в улучшение и оптимизацию процессов подразделения"
         ]
        },
        {
         "marker": {
          "color": "rgba(168,209,141,0.8)",
          "line": {
           "width": 0
          }
         },
         "orientation": "h",
         "type": "bar",
         "width": 0.5,
         "x": [
          0.83
         ],
         "y": [
          "Способствование развитию команды"
         ]
        },
        {
         "marker": {
          "color": "rgba(168,209,141,0.8)",
          "line": {
           "width": 0
          }
         },
         "orientation": "h",
         "type": "bar",
         "width": 0.5,
         "x": [
          1
         ],
         "y": [
          "Процесс предоставления обратной связи"
         ]
        },
        {
         "marker": {
          "color": "rgba(251,114,134,0.8)",
          "line": {
           "width": 0
          }
         },
         "orientation": "h",
         "type": "bar",
         "width": 0.5,
         "x": [
          0
         ],
         "y": [
          "Помощь в решении проблемных вопросов"
         ]
        },
        {
         "marker": {
          "color": "rgba(251,114,134,0.8)",
          "line": {
           "width": 0
          }
         },
         "orientation": "h",
         "type": "bar",
         "width": 0.5,
         "x": [
          0.17
         ],
         "y": [
          "Эмоциональный настрой от совместной работы"
         ]
        },
        {
         "marker": {
          "color": "rgba(251,114,134,0.8)",
          "line": {
           "width": 0
          }
         },
         "orientation": "h",
         "type": "bar",
         "width": 0.5,
         "x": [
          0
         ],
         "y": [
          "Вклад в улучшение и оптимизацию процессов подразделения"
         ]
        },
        {
         "marker": {
          "color": "rgba(251,114,134,0.8)",
          "line": {
           "width": 0
          }
         },
         "orientation": "h",
         "type": "bar",
         "width": 0.5,
         "x": [
          0.17
         ],
         "y": [
          "Способствование развитию команды"
         ]
        },
        {
         "marker": {
          "color": "rgba(251,114,134,0.8)",
          "line": {
           "width": 0
          }
         },
         "orientation": "h",
         "type": "bar",
         "width": 0.5,
         "x": [
          0
         ],
         "y": [
          "Процесс предоставления обратной связи"
         ]
        }
       ],
       "layout": {
        "annotations": [
         {
          "align": "right",
          "font": {
           "color": "rgb(255, 255, 255)",
           "family": "Arial",
           "size": 14
          },
          "showarrow": false,
          "text": "Помощь в решении проблемных вопросов",
          "x": 0.14,
          "xanchor": "right",
          "xref": "paper",
          "y": "Помощь в решении проблемных вопросов",
          "yref": "y"
         },
         {
          "font": {
           "color": "rgb(0, 0, 0)",
           "family": "Arial",
           "size": 14
          },
          "showarrow": false,
          "text": "100%",
          "x": 0.5,
          "xref": "x",
          "y": "Помощь в решении проблемных вопросов",
          "yref": "y"
         },
         {
          "align": "right",
          "font": {
           "color": "rgb(255, 255, 255)",
           "family": "Arial",
           "size": 14
          },
          "showarrow": false,
          "text": "Эмоциональный настрой от совместной работы",
          "x": 0.14,
          "xanchor": "right",
          "xref": "paper",
          "y": "Эмоциональный настрой от совместной работы",
          "yref": "y"
         },
         {
          "font": {
           "color": "rgb(0, 0, 0)",
           "family": "Arial",
           "size": 14
          },
          "showarrow": false,
          "text": "83%",
          "x": 0.415,
          "xref": "x",
          "y": "Эмоциональный настрой от совместной работы",
          "yref": "y"
         },
         {
          "font": {
           "color": "rgb(0, 0, 0)",
           "family": "Arial",
           "size": 14
          },
          "showarrow": false,
          "text": "17%",
          "x": 0.9149999999999999,
          "xref": "x",
          "y": "Эмоциональный настрой от совместной работы",
          "yref": "y"
         },
         {
          "align": "right",
          "font": {
           "color": "rgb(255, 255, 255)",
           "family": "Arial",
           "size": 14
          },
          "showarrow": false,
          "text": "Вклад в улучшение и оптимизацию процессов подразделения",
          "x": 0.14,
          "xanchor": "right",
          "xref": "paper",
          "y": "Вклад в улучшение и оптимизацию процессов подразделения",
          "yref": "y"
         },
         {
          "font": {
           "color": "rgb(0, 0, 0)",
           "family": "Arial",
           "size": 14
          },
          "showarrow": false,
          "text": "100%",
          "x": 0.5,
          "xref": "x",
          "y": "Вклад в улучшение и оптимизацию процессов подразделения",
          "yref": "y"
         },
         {
          "align": "right",
          "font": {
           "color": "rgb(255, 255, 255)",
           "family": "Arial",
           "size": 14
          },
          "showarrow": false,
          "text": "Способствование развитию команды",
          "x": 0.14,
          "xanchor": "right",
          "xref": "paper",
          "y": "Способствование развитию команды",
          "yref": "y"
         },
         {
          "font": {
           "color": "rgb(0, 0, 0)",
           "family": "Arial",
           "size": 14
          },
          "showarrow": false,
          "text": "83%",
          "x": 0.415,
          "xref": "x",
          "y": "Способствование развитию команды",
          "yref": "y"
         },
         {
          "font": {
           "color": "rgb(0, 0, 0)",
           "family": "Arial",
           "size": 14
          },
          "showarrow": false,
          "text": "17%",
          "x": 0.9149999999999999,
          "xref": "x",
          "y": "Способствование развитию команды",
          "yref": "y"
         },
         {
          "align": "right",
          "font": {
           "color": "rgb(255, 255, 255)",
           "family": "Arial",
           "size": 14
          },
          "showarrow": false,
          "text": "Процесс предоставления обратной связи",
          "x": 0.14,
          "xanchor": "right",
          "xref": "paper",
          "y": "Процесс предоставления обратной связи",
          "yref": "y"
         },
         {
          "font": {
           "color": "rgb(0, 0, 0)",
           "family": "Arial",
           "size": 14
          },
          "showarrow": false,
          "text": "100%",
          "x": 0.5,
          "xref": "x",
          "y": "Процесс предоставления обратной связи",
          "yref": "y"
         }
        ],
        "barmode": "stack",
        "margin": {
         "b": 80,
         "l": 300,
         "r": 10,
         "t": 140
        },
        "paper_bgcolor": "rgb(0, 0, 0)",
        "plot_bgcolor": "rgb(0, 0, 0)",
        "showlegend": false,
        "template": {
         "data": {
          "bar": [
           {
            "error_x": {
             "color": "#2a3f5f"
            },
            "error_y": {
             "color": "#2a3f5f"
            },
            "marker": {
             "line": {
              "color": "#E5ECF6",
              "width": 0.5
             },
             "pattern": {
              "fillmode": "overlay",
              "size": 10,
              "solidity": 0.2
             }
            },
            "type": "bar"
           }
          ],
          "barpolar": [
           {
            "marker": {
             "line": {
              "color": "#E5ECF6",
              "width": 0.5
             },
             "pattern": {
              "fillmode": "overlay",
              "size": 10,
              "solidity": 0.2
             }
            },
            "type": "barpolar"
           }
          ],
          "carpet": [
           {
            "aaxis": {
             "endlinecolor": "#2a3f5f",
             "gridcolor": "white",
             "linecolor": "white",
             "minorgridcolor": "white",
             "startlinecolor": "#2a3f5f"
            },
            "baxis": {
             "endlinecolor": "#2a3f5f",
             "gridcolor": "white",
             "linecolor": "white",
             "minorgridcolor": "white",
             "startlinecolor": "#2a3f5f"
            },
            "type": "carpet"
           }
          ],
          "choropleth": [
           {
            "colorbar": {
             "outlinewidth": 0,
             "ticks": ""
            },
            "type": "choropleth"
           }
          ],
          "contour": [
           {
            "colorbar": {
             "outlinewidth": 0,
             "ticks": ""
            },
            "colorscale": [
             [
              0,
              "#0d0887"
             ],
             [
              0.1111111111111111,
              "#46039f"
             ],
             [
              0.2222222222222222,
              "#7201a8"
             ],
             [
              0.3333333333333333,
              "#9c179e"
             ],
             [
              0.4444444444444444,
              "#bd3786"
             ],
             [
              0.5555555555555556,
              "#d8576b"
             ],
             [
              0.6666666666666666,
              "#ed7953"
             ],
             [
              0.7777777777777778,
              "#fb9f3a"
             ],
             [
              0.8888888888888888,
              "#fdca26"
             ],
             [
              1,
              "#f0f921"
             ]
            ],
            "type": "contour"
           }
          ],
          "contourcarpet": [
           {
            "colorbar": {
             "outlinewidth": 0,
             "ticks": ""
            },
            "type": "contourcarpet"
           }
          ],
          "heatmap": [
           {
            "colorbar": {
             "outlinewidth": 0,
             "ticks": ""
            },
            "colorscale": [
             [
              0,
              "#0d0887"
             ],
             [
              0.1111111111111111,
              "#46039f"
             ],
             [
              0.2222222222222222,
              "#7201a8"
             ],
             [
              0.3333333333333333,
              "#9c179e"
             ],
             [
              0.4444444444444444,
              "#bd3786"
             ],
             [
              0.5555555555555556,
              "#d8576b"
             ],
             [
              0.6666666666666666,
              "#ed7953"
             ],
             [
              0.7777777777777778,
              "#fb9f3a"
             ],
             [
              0.8888888888888888,
              "#fdca26"
             ],
             [
              1,
              "#f0f921"
             ]
            ],
            "type": "heatmap"
           }
          ],
          "histogram": [
           {
            "marker": {
             "pattern": {
              "fillmode": "overlay",
              "size": 10,
              "solidity": 0.2
             }
            },
            "type": "histogram"
           }
          ],
          "histogram2d": [
           {
            "colorbar": {
             "outlinewidth": 0,
             "ticks": ""
            },
            "colorscale": [
             [
              0,
              "#0d0887"
             ],
             [
              0.1111111111111111,
              "#46039f"
             ],
             [
              0.2222222222222222,
              "#7201a8"
             ],
             [
              0.3333333333333333,
              "#9c179e"
             ],
             [
              0.4444444444444444,
              "#bd3786"
             ],
             [
              0.5555555555555556,
              "#d8576b"
             ],
             [
              0.6666666666666666,
              "#ed7953"
             ],
             [
              0.7777777777777778,
              "#fb9f3a"
             ],
             [
              0.8888888888888888,
              "#fdca26"
             ],
             [
              1,
              "#f0f921"
             ]
            ],
            "type": "histogram2d"
           }
          ],
          "histogram2dcontour": [
           {
            "colorbar": {
             "outlinewidth": 0,
             "ticks": ""
            },
            "colorscale": [
             [
              0,
              "#0d0887"
             ],
             [
              0.1111111111111111,
              "#46039f"
             ],
             [
              0.2222222222222222,
              "#7201a8"
             ],
             [
              0.3333333333333333,
              "#9c179e"
             ],
             [
              0.4444444444444444,
              "#bd3786"
             ],
             [
              0.5555555555555556,
              "#d8576b"
             ],
             [
              0.6666666666666666,
              "#ed7953"
             ],
             [
              0.7777777777777778,
              "#fb9f3a"
             ],
             [
              0.8888888888888888,
              "#fdca26"
             ],
             [
              1,
              "#f0f921"
             ]
            ],
            "type": "histogram2dcontour"
           }
          ],
          "mesh3d": [
           {
            "colorbar": {
             "outlinewidth": 0,
             "ticks": ""
            },
            "type": "mesh3d"
           }
          ],
          "parcoords": [
           {
            "line": {
             "colorbar": {
              "outlinewidth": 0,
              "ticks": ""
             }
            },
            "type": "parcoords"
           }
          ],
          "pie": [
           {
            "automargin": true,
            "type": "pie"
           }
          ],
          "scatter": [
           {
            "fillpattern": {
             "fillmode": "overlay",
             "size": 10,
             "solidity": 0.2
            },
            "type": "scatter"
           }
          ],
          "scatter3d": [
           {
            "line": {
             "colorbar": {
              "outlinewidth": 0,
              "ticks": ""
             }
            },
            "marker": {
             "colorbar": {
              "outlinewidth": 0,
              "ticks": ""
             }
            },
            "type": "scatter3d"
           }
          ],
          "scattercarpet": [
           {
            "marker": {
             "colorbar": {
              "outlinewidth": 0,
              "ticks": ""
             }
            },
            "type": "scattercarpet"
           }
          ],
          "scattergeo": [
           {
            "marker": {
             "colorbar": {
              "outlinewidth": 0,
              "ticks": ""
             }
            },
            "type": "scattergeo"
           }
          ],
          "scattergl": [
           {
            "marker": {
             "colorbar": {
              "outlinewidth": 0,
              "ticks": ""
             }
            },
            "type": "scattergl"
           }
          ],
          "scattermap": [
           {
            "marker": {
             "colorbar": {
              "outlinewidth": 0,
              "ticks": ""
             }
            },
            "type": "scattermap"
           }
          ],
          "scattermapbox": [
           {
            "marker": {
             "colorbar": {
              "outlinewidth": 0,
              "ticks": ""
             }
            },
            "type": "scattermapbox"
           }
          ],
          "scatterpolar": [
           {
            "marker": {
             "colorbar": {
              "outlinewidth": 0,
              "ticks": ""
             }
            },
            "type": "scatterpolar"
           }
          ],
          "scatterpolargl": [
           {
            "marker": {
             "colorbar": {
              "outlinewidth": 0,
              "ticks": ""
             }
            },
            "type": "scatterpolargl"
           }
          ],
          "scatterternary": [
           {
            "marker": {
             "colorbar": {
              "outlinewidth": 0,
              "ticks": ""
             }
            },
            "type": "scatterternary"
           }
          ],
          "surface": [
           {
            "colorbar": {
             "outlinewidth": 0,
             "ticks": ""
            },
            "colorscale": [
             [
              0,
              "#0d0887"
             ],
             [
              0.1111111111111111,
              "#46039f"
             ],
             [
              0.2222222222222222,
              "#7201a8"
             ],
             [
              0.3333333333333333,
              "#9c179e"
             ],
             [
              0.4444444444444444,
              "#bd3786"
             ],
             [
              0.5555555555555556,
              "#d8576b"
             ],
             [
              0.6666666666666666,
              "#ed7953"
             ],
             [
              0.7777777777777778,
              "#fb9f3a"
             ],
             [
              0.8888888888888888,
              "#fdca26"
             ],
             [
              1,
              "#f0f921"
             ]
            ],
            "type": "surface"
           }
          ],
          "table": [
           {
            "cells": {
             "fill": {
              "color": "#EBF0F8"
             },
             "line": {
              "color": "white"
             }
            },
            "header": {
             "fill": {
              "color": "#C8D4E3"
             },
             "line": {
              "color": "white"
             }
            },
            "type": "table"
           }
          ]
         },
         "layout": {
          "annotationdefaults": {
           "arrowcolor": "#2a3f5f",
           "arrowhead": 0,
           "arrowwidth": 1
          },
          "autotypenumbers": "strict",
          "coloraxis": {
           "colorbar": {
            "outlinewidth": 0,
            "ticks": ""
           }
          },
          "colorscale": {
           "diverging": [
            [
             0,
             "#8e0152"
            ],
            [
             0.1,
             "#c51b7d"
            ],
            [
             0.2,
             "#de77ae"
            ],
            [
             0.3,
             "#f1b6da"
            ],
            [
             0.4,
             "#fde0ef"
            ],
            [
             0.5,
             "#f7f7f7"
            ],
            [
             0.6,
             "#e6f5d0"
            ],
            [
             0.7,
             "#b8e186"
            ],
            [
             0.8,
             "#7fbc41"
            ],
            [
             0.9,
             "#4d9221"
            ],
            [
             1,
             "#276419"
            ]
           ],
           "sequential": [
            [
             0,
             "#0d0887"
            ],
            [
             0.1111111111111111,
             "#46039f"
            ],
            [
             0.2222222222222222,
             "#7201a8"
            ],
            [
             0.3333333333333333,
             "#9c179e"
            ],
            [
             0.4444444444444444,
             "#bd3786"
            ],
            [
             0.5555555555555556,
             "#d8576b"
            ],
            [
             0.6666666666666666,
             "#ed7953"
            ],
            [
             0.7777777777777778,
             "#fb9f3a"
            ],
            [
             0.8888888888888888,
             "#fdca26"
            ],
            [
             1,
             "#f0f921"
            ]
           ],
           "sequentialminus": [
            [
             0,
             "#0d0887"
            ],
            [
             0.1111111111111111,
             "#46039f"
            ],
            [
             0.2222222222222222,
             "#7201a8"
            ],
            [
             0.3333333333333333,
             "#9c179e"
            ],
            [
             0.4444444444444444,
             "#bd3786"
            ],
            [
             0.5555555555555556,
             "#d8576b"
            ],
            [
             0.6666666666666666,
             "#ed7953"
            ],
            [
             0.7777777777777778,
             "#fb9f3a"
            ],
            [
             0.8888888888888888,
             "#fdca26"
            ],
            [
             1,
             "#f0f921"
            ]
           ]
          },
          "colorway": [
           "#636efa",
           "#EF553B",
           "#00cc96",
           "#ab63fa",
           "#FFA15A",
           "#19d3f3",
           "#FF6692",
           "#B6E880",
           "#FF97FF",
           "#FECB52"
          ],
          "font": {
           "color": "#2a3f5f"
          },
          "geo": {
           "bgcolor": "white",
           "lakecolor": "white",
           "landcolor": "#E5ECF6",
           "showlakes": true,
           "showland": true,
           "subunitcolor": "white"
          },
          "hoverlabel": {
           "align": "left"
          },
          "hovermode": "closest",
          "mapbox": {
           "style": "light"
          },
          "paper_bgcolor": "white",
          "plot_bgcolor": "#E5ECF6",
          "polar": {
           "angularaxis": {
            "gridcolor": "white",
            "linecolor": "white",
            "ticks": ""
           },
           "bgcolor": "#E5ECF6",
           "radialaxis": {
            "gridcolor": "white",
            "linecolor": "white",
            "ticks": ""
           }
          },
          "scene": {
           "xaxis": {
            "backgroundcolor": "#E5ECF6",
            "gridcolor": "white",
            "gridwidth": 2,
            "linecolor": "white",
            "showbackground": true,
            "ticks": "",
            "zerolinecolor": "white"
           },
           "yaxis": {
            "backgroundcolor": "#E5ECF6",
            "gridcolor": "white",
            "gridwidth": 2,
            "linecolor": "white",
            "showbackground": true,
            "ticks": "",
            "zerolinecolor": "white"
           },
           "zaxis": {
            "backgroundcolor": "#E5ECF6",
            "gridcolor": "white",
            "gridwidth": 2,
            "linecolor": "white",
            "showbackground": true,
            "ticks": "",
            "zerolinecolor": "white"
           }
          },
          "shapedefaults": {
           "line": {
            "color": "#2a3f5f"
           }
          },
          "ternary": {
           "aaxis": {
            "gridcolor": "white",
            "linecolor": "white",
            "ticks": ""
           },
           "baxis": {
            "gridcolor": "white",
            "linecolor": "white",
            "ticks": ""
           },
           "bgcolor": "#E5ECF6",
           "caxis": {
            "gridcolor": "white",
            "linecolor": "white",
            "ticks": ""
           }
          },
          "title": {
           "x": 0.05
          },
          "xaxis": {
           "automargin": true,
           "gridcolor": "white",
           "linecolor": "white",
           "ticks": "",
           "title": {
            "standoff": 15
           },
           "zerolinecolor": "white",
           "zerolinewidth": 2
          },
          "yaxis": {
           "automargin": true,
           "gridcolor": "white",
           "linecolor": "white",
           "ticks": "",
           "title": {
            "standoff": 15
           },
           "zerolinecolor": "white",
           "zerolinewidth": 2
          }
         }
        },
        "title": {
         "font": {
          "color": "rgb(255, 255, 255)",
          "size": 50
         },
         "text": "Непосредственный руководитель",
         "x": 0.5
        },
        "xaxis": {
         "color": "white",
         "domain": [
          0.15,
          1
         ],
         "showgrid": true,
         "showline": false,
         "showticklabels": true,
         "tickformat": "0.00%",
         "zeroline": true
        },
        "yaxis": {
         "showgrid": false,
         "showline": false,
         "showticklabels": false,
         "zeroline": false
        }
       }
      }
     },
     "metadata": {},
     "output_type": "display_data"
    }
   ],
   "source": [
    "\n",
    "create_plot(\"Губин Павел\",\"Непосредственный руководитель\", collector)"
   ]
  },
  {
   "cell_type": "code",
   "execution_count": 6,
   "metadata": {},
   "outputs": [
    {
     "data": {
      "application/vnd.plotly.v1+json": {
       "config": {
        "plotlyServerURL": "https://plot.ly"
       },
       "data": [
        {
         "marker": {
          "color": "rgba(168,209,141,0.8)",
          "line": {
           "width": 0
          }
         },
         "orientation": "h",
         "type": "bar",
         "width": 0.5,
         "x": [
          0.8
         ],
         "y": [
          "Вклад в улучшение и оптимизацию процессов подразделения"
         ]
        },
        {
         "marker": {
          "color": "rgba(168,209,141,0.8)",
          "line": {
           "width": 0
          }
         },
         "orientation": "h",
         "type": "bar",
         "width": 0.5,
         "x": [
          0.5
         ],
         "y": [
          "Эмоциональный вклад "
         ]
        },
        {
         "marker": {
          "color": "rgba(168,209,141,0.8)",
          "line": {
           "width": 0
          }
         },
         "orientation": "h",
         "type": "bar",
         "width": 0.5,
         "x": [
          0.5
         ],
         "y": [
          "Предоставление информации по ключевым изменениям в компании "
         ]
        },
        {
         "marker": {
          "color": "rgba(251,114,134,0.8)",
          "line": {
           "width": 0
          }
         },
         "orientation": "h",
         "type": "bar",
         "width": 0.5,
         "x": [
          0.2
         ],
         "y": [
          "Вклад в улучшение и оптимизацию процессов подразделения"
         ]
        },
        {
         "marker": {
          "color": "rgba(251,114,134,0.8)",
          "line": {
           "width": 0
          }
         },
         "orientation": "h",
         "type": "bar",
         "width": 0.5,
         "x": [
          0.5
         ],
         "y": [
          "Эмоциональный вклад "
         ]
        },
        {
         "marker": {
          "color": "rgba(251,114,134,0.8)",
          "line": {
           "width": 0
          }
         },
         "orientation": "h",
         "type": "bar",
         "width": 0.5,
         "x": [
          0.5
         ],
         "y": [
          "Предоставление информации по ключевым изменениям в компании "
         ]
        }
       ],
       "layout": {
        "annotations": [
         {
          "align": "right",
          "font": {
           "color": "rgb(255, 255, 255)",
           "family": "Arial",
           "size": 14
          },
          "showarrow": false,
          "text": "Вклад в улучшение и оптимизацию процессов подразделения",
          "x": 0.14,
          "xanchor": "right",
          "xref": "paper",
          "y": "Вклад в улучшение и оптимизацию процессов подразделения",
          "yref": "y"
         },
         {
          "font": {
           "color": "rgb(0, 0, 0)",
           "family": "Arial",
           "size": 14
          },
          "showarrow": false,
          "text": "80%",
          "x": 0.4,
          "xref": "x",
          "y": "Вклад в улучшение и оптимизацию процессов подразделения",
          "yref": "y"
         },
         {
          "font": {
           "color": "rgb(0, 0, 0)",
           "family": "Arial",
           "size": 14
          },
          "showarrow": false,
          "text": "20%",
          "x": 0.9,
          "xref": "x",
          "y": "Вклад в улучшение и оптимизацию процессов подразделения",
          "yref": "y"
         },
         {
          "align": "right",
          "font": {
           "color": "rgb(255, 255, 255)",
           "family": "Arial",
           "size": 14
          },
          "showarrow": false,
          "text": "Эмоциональный вклад ",
          "x": 0.14,
          "xanchor": "right",
          "xref": "paper",
          "y": "Эмоциональный вклад ",
          "yref": "y"
         },
         {
          "font": {
           "color": "rgb(0, 0, 0)",
           "family": "Arial",
           "size": 14
          },
          "showarrow": false,
          "text": "50%",
          "x": 0.25,
          "xref": "x",
          "y": "Эмоциональный вклад ",
          "yref": "y"
         },
         {
          "font": {
           "color": "rgb(0, 0, 0)",
           "family": "Arial",
           "size": 14
          },
          "showarrow": false,
          "text": "50%",
          "x": 0.75,
          "xref": "x",
          "y": "Эмоциональный вклад ",
          "yref": "y"
         },
         {
          "align": "right",
          "font": {
           "color": "rgb(255, 255, 255)",
           "family": "Arial",
           "size": 14
          },
          "showarrow": false,
          "text": "Предоставление информации по ключевым изменениям в компании ",
          "x": 0.14,
          "xanchor": "right",
          "xref": "paper",
          "y": "Предоставление информации по ключевым изменениям в компании ",
          "yref": "y"
         },
         {
          "font": {
           "color": "rgb(0, 0, 0)",
           "family": "Arial",
           "size": 14
          },
          "showarrow": false,
          "text": "50%",
          "x": 0.25,
          "xref": "x",
          "y": "Предоставление информации по ключевым изменениям в компании ",
          "yref": "y"
         },
         {
          "font": {
           "color": "rgb(0, 0, 0)",
           "family": "Arial",
           "size": 14
          },
          "showarrow": false,
          "text": "50%",
          "x": 0.75,
          "xref": "x",
          "y": "Предоставление информации по ключевым изменениям в компании ",
          "yref": "y"
         }
        ],
        "barmode": "stack",
        "margin": {
         "b": 80,
         "l": 300,
         "r": 10,
         "t": 140
        },
        "paper_bgcolor": "rgb(0, 0, 0)",
        "plot_bgcolor": "rgb(0, 0, 0)",
        "showlegend": false,
        "template": {
         "data": {
          "bar": [
           {
            "error_x": {
             "color": "#2a3f5f"
            },
            "error_y": {
             "color": "#2a3f5f"
            },
            "marker": {
             "line": {
              "color": "#E5ECF6",
              "width": 0.5
             },
             "pattern": {
              "fillmode": "overlay",
              "size": 10,
              "solidity": 0.2
             }
            },
            "type": "bar"
           }
          ],
          "barpolar": [
           {
            "marker": {
             "line": {
              "color": "#E5ECF6",
              "width": 0.5
             },
             "pattern": {
              "fillmode": "overlay",
              "size": 10,
              "solidity": 0.2
             }
            },
            "type": "barpolar"
           }
          ],
          "carpet": [
           {
            "aaxis": {
             "endlinecolor": "#2a3f5f",
             "gridcolor": "white",
             "linecolor": "white",
             "minorgridcolor": "white",
             "startlinecolor": "#2a3f5f"
            },
            "baxis": {
             "endlinecolor": "#2a3f5f",
             "gridcolor": "white",
             "linecolor": "white",
             "minorgridcolor": "white",
             "startlinecolor": "#2a3f5f"
            },
            "type": "carpet"
           }
          ],
          "choropleth": [
           {
            "colorbar": {
             "outlinewidth": 0,
             "ticks": ""
            },
            "type": "choropleth"
           }
          ],
          "contour": [
           {
            "colorbar": {
             "outlinewidth": 0,
             "ticks": ""
            },
            "colorscale": [
             [
              0,
              "#0d0887"
             ],
             [
              0.1111111111111111,
              "#46039f"
             ],
             [
              0.2222222222222222,
              "#7201a8"
             ],
             [
              0.3333333333333333,
              "#9c179e"
             ],
             [
              0.4444444444444444,
              "#bd3786"
             ],
             [
              0.5555555555555556,
              "#d8576b"
             ],
             [
              0.6666666666666666,
              "#ed7953"
             ],
             [
              0.7777777777777778,
              "#fb9f3a"
             ],
             [
              0.8888888888888888,
              "#fdca26"
             ],
             [
              1,
              "#f0f921"
             ]
            ],
            "type": "contour"
           }
          ],
          "contourcarpet": [
           {
            "colorbar": {
             "outlinewidth": 0,
             "ticks": ""
            },
            "type": "contourcarpet"
           }
          ],
          "heatmap": [
           {
            "colorbar": {
             "outlinewidth": 0,
             "ticks": ""
            },
            "colorscale": [
             [
              0,
              "#0d0887"
             ],
             [
              0.1111111111111111,
              "#46039f"
             ],
             [
              0.2222222222222222,
              "#7201a8"
             ],
             [
              0.3333333333333333,
              "#9c179e"
             ],
             [
              0.4444444444444444,
              "#bd3786"
             ],
             [
              0.5555555555555556,
              "#d8576b"
             ],
             [
              0.6666666666666666,
              "#ed7953"
             ],
             [
              0.7777777777777778,
              "#fb9f3a"
             ],
             [
              0.8888888888888888,
              "#fdca26"
             ],
             [
              1,
              "#f0f921"
             ]
            ],
            "type": "heatmap"
           }
          ],
          "histogram": [
           {
            "marker": {
             "pattern": {
              "fillmode": "overlay",
              "size": 10,
              "solidity": 0.2
             }
            },
            "type": "histogram"
           }
          ],
          "histogram2d": [
           {
            "colorbar": {
             "outlinewidth": 0,
             "ticks": ""
            },
            "colorscale": [
             [
              0,
              "#0d0887"
             ],
             [
              0.1111111111111111,
              "#46039f"
             ],
             [
              0.2222222222222222,
              "#7201a8"
             ],
             [
              0.3333333333333333,
              "#9c179e"
             ],
             [
              0.4444444444444444,
              "#bd3786"
             ],
             [
              0.5555555555555556,
              "#d8576b"
             ],
             [
              0.6666666666666666,
              "#ed7953"
             ],
             [
              0.7777777777777778,
              "#fb9f3a"
             ],
             [
              0.8888888888888888,
              "#fdca26"
             ],
             [
              1,
              "#f0f921"
             ]
            ],
            "type": "histogram2d"
           }
          ],
          "histogram2dcontour": [
           {
            "colorbar": {
             "outlinewidth": 0,
             "ticks": ""
            },
            "colorscale": [
             [
              0,
              "#0d0887"
             ],
             [
              0.1111111111111111,
              "#46039f"
             ],
             [
              0.2222222222222222,
              "#7201a8"
             ],
             [
              0.3333333333333333,
              "#9c179e"
             ],
             [
              0.4444444444444444,
              "#bd3786"
             ],
             [
              0.5555555555555556,
              "#d8576b"
             ],
             [
              0.6666666666666666,
              "#ed7953"
             ],
             [
              0.7777777777777778,
              "#fb9f3a"
             ],
             [
              0.8888888888888888,
              "#fdca26"
             ],
             [
              1,
              "#f0f921"
             ]
            ],
            "type": "histogram2dcontour"
           }
          ],
          "mesh3d": [
           {
            "colorbar": {
             "outlinewidth": 0,
             "ticks": ""
            },
            "type": "mesh3d"
           }
          ],
          "parcoords": [
           {
            "line": {
             "colorbar": {
              "outlinewidth": 0,
              "ticks": ""
             }
            },
            "type": "parcoords"
           }
          ],
          "pie": [
           {
            "automargin": true,
            "type": "pie"
           }
          ],
          "scatter": [
           {
            "fillpattern": {
             "fillmode": "overlay",
             "size": 10,
             "solidity": 0.2
            },
            "type": "scatter"
           }
          ],
          "scatter3d": [
           {
            "line": {
             "colorbar": {
              "outlinewidth": 0,
              "ticks": ""
             }
            },
            "marker": {
             "colorbar": {
              "outlinewidth": 0,
              "ticks": ""
             }
            },
            "type": "scatter3d"
           }
          ],
          "scattercarpet": [
           {
            "marker": {
             "colorbar": {
              "outlinewidth": 0,
              "ticks": ""
             }
            },
            "type": "scattercarpet"
           }
          ],
          "scattergeo": [
           {
            "marker": {
             "colorbar": {
              "outlinewidth": 0,
              "ticks": ""
             }
            },
            "type": "scattergeo"
           }
          ],
          "scattergl": [
           {
            "marker": {
             "colorbar": {
              "outlinewidth": 0,
              "ticks": ""
             }
            },
            "type": "scattergl"
           }
          ],
          "scattermap": [
           {
            "marker": {
             "colorbar": {
              "outlinewidth": 0,
              "ticks": ""
             }
            },
            "type": "scattermap"
           }
          ],
          "scattermapbox": [
           {
            "marker": {
             "colorbar": {
              "outlinewidth": 0,
              "ticks": ""
             }
            },
            "type": "scattermapbox"
           }
          ],
          "scatterpolar": [
           {
            "marker": {
             "colorbar": {
              "outlinewidth": 0,
              "ticks": ""
             }
            },
            "type": "scatterpolar"
           }
          ],
          "scatterpolargl": [
           {
            "marker": {
             "colorbar": {
              "outlinewidth": 0,
              "ticks": ""
             }
            },
            "type": "scatterpolargl"
           }
          ],
          "scatterternary": [
           {
            "marker": {
             "colorbar": {
              "outlinewidth": 0,
              "ticks": ""
             }
            },
            "type": "scatterternary"
           }
          ],
          "surface": [
           {
            "colorbar": {
             "outlinewidth": 0,
             "ticks": ""
            },
            "colorscale": [
             [
              0,
              "#0d0887"
             ],
             [
              0.1111111111111111,
              "#46039f"
             ],
             [
              0.2222222222222222,
              "#7201a8"
             ],
             [
              0.3333333333333333,
              "#9c179e"
             ],
             [
              0.4444444444444444,
              "#bd3786"
             ],
             [
              0.5555555555555556,
              "#d8576b"
             ],
             [
              0.6666666666666666,
              "#ed7953"
             ],
             [
              0.7777777777777778,
              "#fb9f3a"
             ],
             [
              0.8888888888888888,
              "#fdca26"
             ],
             [
              1,
              "#f0f921"
             ]
            ],
            "type": "surface"
           }
          ],
          "table": [
           {
            "cells": {
             "fill": {
              "color": "#EBF0F8"
             },
             "line": {
              "color": "white"
             }
            },
            "header": {
             "fill": {
              "color": "#C8D4E3"
             },
             "line": {
              "color": "white"
             }
            },
            "type": "table"
           }
          ]
         },
         "layout": {
          "annotationdefaults": {
           "arrowcolor": "#2a3f5f",
           "arrowhead": 0,
           "arrowwidth": 1
          },
          "autotypenumbers": "strict",
          "coloraxis": {
           "colorbar": {
            "outlinewidth": 0,
            "ticks": ""
           }
          },
          "colorscale": {
           "diverging": [
            [
             0,
             "#8e0152"
            ],
            [
             0.1,
             "#c51b7d"
            ],
            [
             0.2,
             "#de77ae"
            ],
            [
             0.3,
             "#f1b6da"
            ],
            [
             0.4,
             "#fde0ef"
            ],
            [
             0.5,
             "#f7f7f7"
            ],
            [
             0.6,
             "#e6f5d0"
            ],
            [
             0.7,
             "#b8e186"
            ],
            [
             0.8,
             "#7fbc41"
            ],
            [
             0.9,
             "#4d9221"
            ],
            [
             1,
             "#276419"
            ]
           ],
           "sequential": [
            [
             0,
             "#0d0887"
            ],
            [
             0.1111111111111111,
             "#46039f"
            ],
            [
             0.2222222222222222,
             "#7201a8"
            ],
            [
             0.3333333333333333,
             "#9c179e"
            ],
            [
             0.4444444444444444,
             "#bd3786"
            ],
            [
             0.5555555555555556,
             "#d8576b"
            ],
            [
             0.6666666666666666,
             "#ed7953"
            ],
            [
             0.7777777777777778,
             "#fb9f3a"
            ],
            [
             0.8888888888888888,
             "#fdca26"
            ],
            [
             1,
             "#f0f921"
            ]
           ],
           "sequentialminus": [
            [
             0,
             "#0d0887"
            ],
            [
             0.1111111111111111,
             "#46039f"
            ],
            [
             0.2222222222222222,
             "#7201a8"
            ],
            [
             0.3333333333333333,
             "#9c179e"
            ],
            [
             0.4444444444444444,
             "#bd3786"
            ],
            [
             0.5555555555555556,
             "#d8576b"
            ],
            [
             0.6666666666666666,
             "#ed7953"
            ],
            [
             0.7777777777777778,
             "#fb9f3a"
            ],
            [
             0.8888888888888888,
             "#fdca26"
            ],
            [
             1,
             "#f0f921"
            ]
           ]
          },
          "colorway": [
           "#636efa",
           "#EF553B",
           "#00cc96",
           "#ab63fa",
           "#FFA15A",
           "#19d3f3",
           "#FF6692",
           "#B6E880",
           "#FF97FF",
           "#FECB52"
          ],
          "font": {
           "color": "#2a3f5f"
          },
          "geo": {
           "bgcolor": "white",
           "lakecolor": "white",
           "landcolor": "#E5ECF6",
           "showlakes": true,
           "showland": true,
           "subunitcolor": "white"
          },
          "hoverlabel": {
           "align": "left"
          },
          "hovermode": "closest",
          "mapbox": {
           "style": "light"
          },
          "paper_bgcolor": "white",
          "plot_bgcolor": "#E5ECF6",
          "polar": {
           "angularaxis": {
            "gridcolor": "white",
            "linecolor": "white",
            "ticks": ""
           },
           "bgcolor": "#E5ECF6",
           "radialaxis": {
            "gridcolor": "white",
            "linecolor": "white",
            "ticks": ""
           }
          },
          "scene": {
           "xaxis": {
            "backgroundcolor": "#E5ECF6",
            "gridcolor": "white",
            "gridwidth": 2,
            "linecolor": "white",
            "showbackground": true,
            "ticks": "",
            "zerolinecolor": "white"
           },
           "yaxis": {
            "backgroundcolor": "#E5ECF6",
            "gridcolor": "white",
            "gridwidth": 2,
            "linecolor": "white",
            "showbackground": true,
            "ticks": "",
            "zerolinecolor": "white"
           },
           "zaxis": {
            "backgroundcolor": "#E5ECF6",
            "gridcolor": "white",
            "gridwidth": 2,
            "linecolor": "white",
            "showbackground": true,
            "ticks": "",
            "zerolinecolor": "white"
           }
          },
          "shapedefaults": {
           "line": {
            "color": "#2a3f5f"
           }
          },
          "ternary": {
           "aaxis": {
            "gridcolor": "white",
            "linecolor": "white",
            "ticks": ""
           },
           "baxis": {
            "gridcolor": "white",
            "linecolor": "white",
            "ticks": ""
           },
           "bgcolor": "#E5ECF6",
           "caxis": {
            "gridcolor": "white",
            "linecolor": "white",
            "ticks": ""
           }
          },
          "title": {
           "x": 0.05
          },
          "xaxis": {
           "automargin": true,
           "gridcolor": "white",
           "linecolor": "white",
           "ticks": "",
           "title": {
            "standoff": 15
           },
           "zerolinecolor": "white",
           "zerolinewidth": 2
          },
          "yaxis": {
           "automargin": true,
           "gridcolor": "white",
           "linecolor": "white",
           "ticks": "",
           "title": {
            "standoff": 15
           },
           "zerolinecolor": "white",
           "zerolinewidth": 2
          }
         }
        },
        "title": {
         "font": {
          "color": "rgb(255, 255, 255)",
          "size": 50
         },
         "text": "Вышестоящий руководитель",
         "x": 0.5
        },
        "xaxis": {
         "color": "white",
         "domain": [
          0.15,
          1
         ],
         "showgrid": true,
         "showline": false,
         "showticklabels": true,
         "tickformat": "0.00%",
         "zeroline": true
        },
        "yaxis": {
         "showgrid": false,
         "showline": false,
         "showticklabels": false,
         "zeroline": false
        }
       }
      }
     },
     "metadata": {},
     "output_type": "display_data"
    }
   ],
   "source": [
    "create_plot(\"Пушкин Иванович Валерий\", \"Вышестоящий руководитель\", collector)"
   ]
  },
  {
   "cell_type": "code",
   "execution_count": 7,
   "metadata": {},
   "outputs": [
    {
     "data": {
      "application/vnd.plotly.v1+json": {
       "config": {
        "plotlyServerURL": "https://plot.ly"
       },
       "data": [
        {
         "marker": {
          "color": "rgba(168,209,141,0.8)",
          "line": {
           "width": 0
          }
         },
         "orientation": "h",
         "type": "bar",
         "width": 0.5,
         "x": [
          1
         ],
         "y": [
          "Объединение кроссфункциональной команды"
         ]
        },
        {
         "marker": {
          "color": "rgba(168,209,141,0.8)",
          "line": {
           "width": 0
          }
         },
         "orientation": "h",
         "type": "bar",
         "width": 0.5,
         "x": [
          1
         ],
         "y": [
          "Эмоциональный настрой в команде"
         ]
        },
        {
         "marker": {
          "color": "rgba(168,209,141,0.8)",
          "line": {
           "width": 0
          }
         },
         "orientation": "h",
         "type": "bar",
         "width": 0.5,
         "x": [
          1
         ],
         "y": [
          "Предоставление информации по ключевым изминениям в компании"
         ]
        },
        {
         "marker": {
          "color": "rgba(251,114,134,0.8)",
          "line": {
           "width": 0
          }
         },
         "orientation": "h",
         "type": "bar",
         "width": 0.5,
         "x": [
          0
         ],
         "y": [
          "Объединение кроссфункциональной команды"
         ]
        },
        {
         "marker": {
          "color": "rgba(251,114,134,0.8)",
          "line": {
           "width": 0
          }
         },
         "orientation": "h",
         "type": "bar",
         "width": 0.5,
         "x": [
          0
         ],
         "y": [
          "Эмоциональный настрой в команде"
         ]
        },
        {
         "marker": {
          "color": "rgba(251,114,134,0.8)",
          "line": {
           "width": 0
          }
         },
         "orientation": "h",
         "type": "bar",
         "width": 0.5,
         "x": [
          0
         ],
         "y": [
          "Предоставление информации по ключевым изминениям в компании"
         ]
        }
       ],
       "layout": {
        "annotations": [
         {
          "align": "right",
          "font": {
           "color": "rgb(255, 255, 255)",
           "family": "Arial",
           "size": 14
          },
          "showarrow": false,
          "text": "Объединение кроссфункциональной команды",
          "x": 0.14,
          "xanchor": "right",
          "xref": "paper",
          "y": "Объединение кроссфункциональной команды",
          "yref": "y"
         },
         {
          "font": {
           "color": "rgb(0, 0, 0)",
           "family": "Arial",
           "size": 14
          },
          "showarrow": false,
          "text": "100%",
          "x": 0.5,
          "xref": "x",
          "y": "Объединение кроссфункциональной команды",
          "yref": "y"
         },
         {
          "align": "right",
          "font": {
           "color": "rgb(255, 255, 255)",
           "family": "Arial",
           "size": 14
          },
          "showarrow": false,
          "text": "Эмоциональный настрой в команде",
          "x": 0.14,
          "xanchor": "right",
          "xref": "paper",
          "y": "Эмоциональный настрой в команде",
          "yref": "y"
         },
         {
          "font": {
           "color": "rgb(0, 0, 0)",
           "family": "Arial",
           "size": 14
          },
          "showarrow": false,
          "text": "100%",
          "x": 0.5,
          "xref": "x",
          "y": "Эмоциональный настрой в команде",
          "yref": "y"
         },
         {
          "align": "right",
          "font": {
           "color": "rgb(255, 255, 255)",
           "family": "Arial",
           "size": 14
          },
          "showarrow": false,
          "text": "Предоставление информации по ключевым изминениям в компании",
          "x": 0.14,
          "xanchor": "right",
          "xref": "paper",
          "y": "Предоставление информации по ключевым изминениям в компании",
          "yref": "y"
         },
         {
          "font": {
           "color": "rgb(0, 0, 0)",
           "family": "Arial",
           "size": 14
          },
          "showarrow": false,
          "text": "100%",
          "x": 0.5,
          "xref": "x",
          "y": "Предоставление информации по ключевым изминениям в компании",
          "yref": "y"
         }
        ],
        "barmode": "stack",
        "margin": {
         "b": 80,
         "l": 300,
         "r": 10,
         "t": 140
        },
        "paper_bgcolor": "rgb(0, 0, 0)",
        "plot_bgcolor": "rgb(0, 0, 0)",
        "showlegend": false,
        "template": {
         "data": {
          "bar": [
           {
            "error_x": {
             "color": "#2a3f5f"
            },
            "error_y": {
             "color": "#2a3f5f"
            },
            "marker": {
             "line": {
              "color": "#E5ECF6",
              "width": 0.5
             },
             "pattern": {
              "fillmode": "overlay",
              "size": 10,
              "solidity": 0.2
             }
            },
            "type": "bar"
           }
          ],
          "barpolar": [
           {
            "marker": {
             "line": {
              "color": "#E5ECF6",
              "width": 0.5
             },
             "pattern": {
              "fillmode": "overlay",
              "size": 10,
              "solidity": 0.2
             }
            },
            "type": "barpolar"
           }
          ],
          "carpet": [
           {
            "aaxis": {
             "endlinecolor": "#2a3f5f",
             "gridcolor": "white",
             "linecolor": "white",
             "minorgridcolor": "white",
             "startlinecolor": "#2a3f5f"
            },
            "baxis": {
             "endlinecolor": "#2a3f5f",
             "gridcolor": "white",
             "linecolor": "white",
             "minorgridcolor": "white",
             "startlinecolor": "#2a3f5f"
            },
            "type": "carpet"
           }
          ],
          "choropleth": [
           {
            "colorbar": {
             "outlinewidth": 0,
             "ticks": ""
            },
            "type": "choropleth"
           }
          ],
          "contour": [
           {
            "colorbar": {
             "outlinewidth": 0,
             "ticks": ""
            },
            "colorscale": [
             [
              0,
              "#0d0887"
             ],
             [
              0.1111111111111111,
              "#46039f"
             ],
             [
              0.2222222222222222,
              "#7201a8"
             ],
             [
              0.3333333333333333,
              "#9c179e"
             ],
             [
              0.4444444444444444,
              "#bd3786"
             ],
             [
              0.5555555555555556,
              "#d8576b"
             ],
             [
              0.6666666666666666,
              "#ed7953"
             ],
             [
              0.7777777777777778,
              "#fb9f3a"
             ],
             [
              0.8888888888888888,
              "#fdca26"
             ],
             [
              1,
              "#f0f921"
             ]
            ],
            "type": "contour"
           }
          ],
          "contourcarpet": [
           {
            "colorbar": {
             "outlinewidth": 0,
             "ticks": ""
            },
            "type": "contourcarpet"
           }
          ],
          "heatmap": [
           {
            "colorbar": {
             "outlinewidth": 0,
             "ticks": ""
            },
            "colorscale": [
             [
              0,
              "#0d0887"
             ],
             [
              0.1111111111111111,
              "#46039f"
             ],
             [
              0.2222222222222222,
              "#7201a8"
             ],
             [
              0.3333333333333333,
              "#9c179e"
             ],
             [
              0.4444444444444444,
              "#bd3786"
             ],
             [
              0.5555555555555556,
              "#d8576b"
             ],
             [
              0.6666666666666666,
              "#ed7953"
             ],
             [
              0.7777777777777778,
              "#fb9f3a"
             ],
             [
              0.8888888888888888,
              "#fdca26"
             ],
             [
              1,
              "#f0f921"
             ]
            ],
            "type": "heatmap"
           }
          ],
          "histogram": [
           {
            "marker": {
             "pattern": {
              "fillmode": "overlay",
              "size": 10,
              "solidity": 0.2
             }
            },
            "type": "histogram"
           }
          ],
          "histogram2d": [
           {
            "colorbar": {
             "outlinewidth": 0,
             "ticks": ""
            },
            "colorscale": [
             [
              0,
              "#0d0887"
             ],
             [
              0.1111111111111111,
              "#46039f"
             ],
             [
              0.2222222222222222,
              "#7201a8"
             ],
             [
              0.3333333333333333,
              "#9c179e"
             ],
             [
              0.4444444444444444,
              "#bd3786"
             ],
             [
              0.5555555555555556,
              "#d8576b"
             ],
             [
              0.6666666666666666,
              "#ed7953"
             ],
             [
              0.7777777777777778,
              "#fb9f3a"
             ],
             [
              0.8888888888888888,
              "#fdca26"
             ],
             [
              1,
              "#f0f921"
             ]
            ],
            "type": "histogram2d"
           }
          ],
          "histogram2dcontour": [
           {
            "colorbar": {
             "outlinewidth": 0,
             "ticks": ""
            },
            "colorscale": [
             [
              0,
              "#0d0887"
             ],
             [
              0.1111111111111111,
              "#46039f"
             ],
             [
              0.2222222222222222,
              "#7201a8"
             ],
             [
              0.3333333333333333,
              "#9c179e"
             ],
             [
              0.4444444444444444,
              "#bd3786"
             ],
             [
              0.5555555555555556,
              "#d8576b"
             ],
             [
              0.6666666666666666,
              "#ed7953"
             ],
             [
              0.7777777777777778,
              "#fb9f3a"
             ],
             [
              0.8888888888888888,
              "#fdca26"
             ],
             [
              1,
              "#f0f921"
             ]
            ],
            "type": "histogram2dcontour"
           }
          ],
          "mesh3d": [
           {
            "colorbar": {
             "outlinewidth": 0,
             "ticks": ""
            },
            "type": "mesh3d"
           }
          ],
          "parcoords": [
           {
            "line": {
             "colorbar": {
              "outlinewidth": 0,
              "ticks": ""
             }
            },
            "type": "parcoords"
           }
          ],
          "pie": [
           {
            "automargin": true,
            "type": "pie"
           }
          ],
          "scatter": [
           {
            "fillpattern": {
             "fillmode": "overlay",
             "size": 10,
             "solidity": 0.2
            },
            "type": "scatter"
           }
          ],
          "scatter3d": [
           {
            "line": {
             "colorbar": {
              "outlinewidth": 0,
              "ticks": ""
             }
            },
            "marker": {
             "colorbar": {
              "outlinewidth": 0,
              "ticks": ""
             }
            },
            "type": "scatter3d"
           }
          ],
          "scattercarpet": [
           {
            "marker": {
             "colorbar": {
              "outlinewidth": 0,
              "ticks": ""
             }
            },
            "type": "scattercarpet"
           }
          ],
          "scattergeo": [
           {
            "marker": {
             "colorbar": {
              "outlinewidth": 0,
              "ticks": ""
             }
            },
            "type": "scattergeo"
           }
          ],
          "scattergl": [
           {
            "marker": {
             "colorbar": {
              "outlinewidth": 0,
              "ticks": ""
             }
            },
            "type": "scattergl"
           }
          ],
          "scattermap": [
           {
            "marker": {
             "colorbar": {
              "outlinewidth": 0,
              "ticks": ""
             }
            },
            "type": "scattermap"
           }
          ],
          "scattermapbox": [
           {
            "marker": {
             "colorbar": {
              "outlinewidth": 0,
              "ticks": ""
             }
            },
            "type": "scattermapbox"
           }
          ],
          "scatterpolar": [
           {
            "marker": {
             "colorbar": {
              "outlinewidth": 0,
              "ticks": ""
             }
            },
            "type": "scatterpolar"
           }
          ],
          "scatterpolargl": [
           {
            "marker": {
             "colorbar": {
              "outlinewidth": 0,
              "ticks": ""
             }
            },
            "type": "scatterpolargl"
           }
          ],
          "scatterternary": [
           {
            "marker": {
             "colorbar": {
              "outlinewidth": 0,
              "ticks": ""
             }
            },
            "type": "scatterternary"
           }
          ],
          "surface": [
           {
            "colorbar": {
             "outlinewidth": 0,
             "ticks": ""
            },
            "colorscale": [
             [
              0,
              "#0d0887"
             ],
             [
              0.1111111111111111,
              "#46039f"
             ],
             [
              0.2222222222222222,
              "#7201a8"
             ],
             [
              0.3333333333333333,
              "#9c179e"
             ],
             [
              0.4444444444444444,
              "#bd3786"
             ],
             [
              0.5555555555555556,
              "#d8576b"
             ],
             [
              0.6666666666666666,
              "#ed7953"
             ],
             [
              0.7777777777777778,
              "#fb9f3a"
             ],
             [
              0.8888888888888888,
              "#fdca26"
             ],
             [
              1,
              "#f0f921"
             ]
            ],
            "type": "surface"
           }
          ],
          "table": [
           {
            "cells": {
             "fill": {
              "color": "#EBF0F8"
             },
             "line": {
              "color": "white"
             }
            },
            "header": {
             "fill": {
              "color": "#C8D4E3"
             },
             "line": {
              "color": "white"
             }
            },
            "type": "table"
           }
          ]
         },
         "layout": {
          "annotationdefaults": {
           "arrowcolor": "#2a3f5f",
           "arrowhead": 0,
           "arrowwidth": 1
          },
          "autotypenumbers": "strict",
          "coloraxis": {
           "colorbar": {
            "outlinewidth": 0,
            "ticks": ""
           }
          },
          "colorscale": {
           "diverging": [
            [
             0,
             "#8e0152"
            ],
            [
             0.1,
             "#c51b7d"
            ],
            [
             0.2,
             "#de77ae"
            ],
            [
             0.3,
             "#f1b6da"
            ],
            [
             0.4,
             "#fde0ef"
            ],
            [
             0.5,
             "#f7f7f7"
            ],
            [
             0.6,
             "#e6f5d0"
            ],
            [
             0.7,
             "#b8e186"
            ],
            [
             0.8,
             "#7fbc41"
            ],
            [
             0.9,
             "#4d9221"
            ],
            [
             1,
             "#276419"
            ]
           ],
           "sequential": [
            [
             0,
             "#0d0887"
            ],
            [
             0.1111111111111111,
             "#46039f"
            ],
            [
             0.2222222222222222,
             "#7201a8"
            ],
            [
             0.3333333333333333,
             "#9c179e"
            ],
            [
             0.4444444444444444,
             "#bd3786"
            ],
            [
             0.5555555555555556,
             "#d8576b"
            ],
            [
             0.6666666666666666,
             "#ed7953"
            ],
            [
             0.7777777777777778,
             "#fb9f3a"
            ],
            [
             0.8888888888888888,
             "#fdca26"
            ],
            [
             1,
             "#f0f921"
            ]
           ],
           "sequentialminus": [
            [
             0,
             "#0d0887"
            ],
            [
             0.1111111111111111,
             "#46039f"
            ],
            [
             0.2222222222222222,
             "#7201a8"
            ],
            [
             0.3333333333333333,
             "#9c179e"
            ],
            [
             0.4444444444444444,
             "#bd3786"
            ],
            [
             0.5555555555555556,
             "#d8576b"
            ],
            [
             0.6666666666666666,
             "#ed7953"
            ],
            [
             0.7777777777777778,
             "#fb9f3a"
            ],
            [
             0.8888888888888888,
             "#fdca26"
            ],
            [
             1,
             "#f0f921"
            ]
           ]
          },
          "colorway": [
           "#636efa",
           "#EF553B",
           "#00cc96",
           "#ab63fa",
           "#FFA15A",
           "#19d3f3",
           "#FF6692",
           "#B6E880",
           "#FF97FF",
           "#FECB52"
          ],
          "font": {
           "color": "#2a3f5f"
          },
          "geo": {
           "bgcolor": "white",
           "lakecolor": "white",
           "landcolor": "#E5ECF6",
           "showlakes": true,
           "showland": true,
           "subunitcolor": "white"
          },
          "hoverlabel": {
           "align": "left"
          },
          "hovermode": "closest",
          "mapbox": {
           "style": "light"
          },
          "paper_bgcolor": "white",
          "plot_bgcolor": "#E5ECF6",
          "polar": {
           "angularaxis": {
            "gridcolor": "white",
            "linecolor": "white",
            "ticks": ""
           },
           "bgcolor": "#E5ECF6",
           "radialaxis": {
            "gridcolor": "white",
            "linecolor": "white",
            "ticks": ""
           }
          },
          "scene": {
           "xaxis": {
            "backgroundcolor": "#E5ECF6",
            "gridcolor": "white",
            "gridwidth": 2,
            "linecolor": "white",
            "showbackground": true,
            "ticks": "",
            "zerolinecolor": "white"
           },
           "yaxis": {
            "backgroundcolor": "#E5ECF6",
            "gridcolor": "white",
            "gridwidth": 2,
            "linecolor": "white",
            "showbackground": true,
            "ticks": "",
            "zerolinecolor": "white"
           },
           "zaxis": {
            "backgroundcolor": "#E5ECF6",
            "gridcolor": "white",
            "gridwidth": 2,
            "linecolor": "white",
            "showbackground": true,
            "ticks": "",
            "zerolinecolor": "white"
           }
          },
          "shapedefaults": {
           "line": {
            "color": "#2a3f5f"
           }
          },
          "ternary": {
           "aaxis": {
            "gridcolor": "white",
            "linecolor": "white",
            "ticks": ""
           },
           "baxis": {
            "gridcolor": "white",
            "linecolor": "white",
            "ticks": ""
           },
           "bgcolor": "#E5ECF6",
           "caxis": {
            "gridcolor": "white",
            "linecolor": "white",
            "ticks": ""
           }
          },
          "title": {
           "x": 0.05
          },
          "xaxis": {
           "automargin": true,
           "gridcolor": "white",
           "linecolor": "white",
           "ticks": "",
           "title": {
            "standoff": 15
           },
           "zerolinecolor": "white",
           "zerolinewidth": 2
          },
          "yaxis": {
           "automargin": true,
           "gridcolor": "white",
           "linecolor": "white",
           "ticks": "",
           "title": {
            "standoff": 15
           },
           "zerolinecolor": "white",
           "zerolinewidth": 2
          }
         }
        },
        "title": {
         "font": {
          "color": "rgb(255, 255, 255)",
          "size": 50
         },
         "text": "Функциональный руководитель",
         "x": 0.5
        },
        "xaxis": {
         "color": "white",
         "domain": [
          0.15,
          1
         ],
         "showgrid": true,
         "showline": false,
         "showticklabels": true,
         "tickformat": "0.00%",
         "zeroline": true
        },
        "yaxis": {
         "showgrid": false,
         "showline": false,
         "showticklabels": false,
         "zeroline": false
        }
       }
      }
     },
     "metadata": {},
     "output_type": "display_data"
    }
   ],
   "source": [
    "create_plot(\"Александр Альфонс\", \"Функциональный руководитель\", collector)"
   ]
  },
  {
   "cell_type": "markdown",
   "metadata": {},
   "source": [
    "Общая оценка по компании"
   ]
  },
  {
   "cell_type": "code",
   "execution_count": 8,
   "metadata": {},
   "outputs": [
    {
     "name": "stdout",
     "output_type": "stream",
     "text": [
      "8.45374449339207\n",
      "{'Экспертность непосредственного руководителя': 8.45374449339207, 'Экспертность вышестоящего руководителя': 8.384615384615385, 'Overall': 8.433962264150944}\n",
      "{'Экспертность непосредственного руководителя': 8.45374449339207, 'Экспертность вышестоящего руководителя': 8.384615384615385, 'Экспертность функционального руководителя': 7.5, 'Overall': 8.338983050847459}\n"
     ]
    }
   ],
   "source": [
    "print(collector.get_average_rating(4))\n",
    "\n",
    "print(collector.get_average_rating([4,11]))\n",
    "\n",
    "print(collector.get_average_rating([4,11,20]))"
   ]
  }
 ],
 "metadata": {
  "kernelspec": {
   "display_name": "Python 3",
   "language": "python",
   "name": "python3"
  },
  "language_info": {
   "codemirror_mode": {
    "name": "ipython",
    "version": 3
   },
   "file_extension": ".py",
   "mimetype": "text/x-python",
   "name": "python",
   "nbconvert_exporter": "python",
   "pygments_lexer": "ipython3",
   "version": "3.9.13"
  }
 },
 "nbformat": 4,
 "nbformat_minor": 2
}
